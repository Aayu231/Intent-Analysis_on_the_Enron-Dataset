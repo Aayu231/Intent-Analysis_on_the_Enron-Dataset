{
 "cells": [
  {
   "cell_type": "code",
   "execution_count": 4,
   "metadata": {},
   "outputs": [
    {
     "name": "stderr",
     "output_type": "stream",
     "text": [
      "[nltk_data] Downloading package punkt to\n",
      "[nltk_data]     C:\\Users\\aayus\\AppData\\Roaming\\nltk_data...\n",
      "[nltk_data]   Package punkt is already up-to-date!\n",
      "[nltk_data] Downloading package stopwords to\n",
      "[nltk_data]     C:\\Users\\aayus\\AppData\\Roaming\\nltk_data...\n",
      "[nltk_data]   Package stopwords is already up-to-date!\n",
      "[nltk_data] Downloading package wordnet to\n",
      "[nltk_data]     C:\\Users\\aayus\\AppData\\Roaming\\nltk_data...\n",
      "[nltk_data]   Package wordnet is already up-to-date!\n"
     ]
    }
   ],
   "source": [
    "#importing libraries\n",
    "#last updated 10/10/2020\n",
    "import pandas as pd\n",
    "import numpy as np \n",
    "import matplotlib.pyplot as plt\n",
    "import plotly\n",
    "import wordcloud\n",
    "from wordcloud import WordCloud, STOPWORDS\n",
    "from email.parser import Parser\n",
    "import os,csv\n",
    "from collections import Counter\n",
    "import nltk\n",
    "nltk.download('punkt')\n",
    "nltk.download('stopwords')\n",
    "nltk.download('wordnet')\n",
    "import string\n",
    "from nltk.corpus import stopwords"
   ]
  },
  {
   "cell_type": "code",
   "execution_count": 37,
   "metadata": {},
   "outputs": [],
   "source": [
    "#importing dataset\n",
    "data =pd.read_csv('./dataset/enron_dataset_20%.csv')"
   ]
  },
  {
   "cell_type": "code",
   "execution_count": 38,
   "metadata": {},
   "outputs": [],
   "source": [
    "#dropping features in the dataset which are a result of calculation\n",
    "data = data.drop(columns=['Cat_1_level_1', 'Cat_1_level_2',\n",
    "       'Cat_1_weight', 'Cat_2_level_1', 'Cat_2_level_2', 'Cat_2_weight',\n",
    "       'Cat_3_level_1', 'Cat_3_level_2', 'Cat_3_weight', 'Cat_4_level_1',\n",
    "       'Cat_4_level_2', 'Cat_4_weight', 'Cat_5_level_1', 'Cat_5_level_2',\n",
    "       'Cat_5_weight', 'Cat_6_level_1', 'Cat_6_level_2', 'Cat_6_weight',\n",
    "       'Cat_7_level_1', 'Cat_7_level_2', 'Cat_7_weight', 'Cat_8_level_1',\n",
    "       'Cat_8_level_2', 'Cat_8_weight', 'Cat_9_level_1', 'Cat_9_level_2',\n",
    "       'Cat_9_weight', 'Cat_10_level_1', 'Cat_10_level_2',\n",
    "       'Cat_10_weight', 'Cat_11_level_1', 'Cat_11_level_2',\n",
    "       'Cat_11_weight', 'Cat_12_level_1', 'Cat_12_level_2',\n",
    "       'Cat_12_weight'])"
   ]
  },
  {
   "cell_type": "code",
   "execution_count": 39,
   "metadata": {},
   "outputs": [
    {
     "data": {
      "text/html": [
       "<div>\n",
       "<style scoped>\n",
       "    .dataframe tbody tr th:only-of-type {\n",
       "        vertical-align: middle;\n",
       "    }\n",
       "\n",
       "    .dataframe tbody tr th {\n",
       "        vertical-align: top;\n",
       "    }\n",
       "\n",
       "    .dataframe thead th {\n",
       "        text-align: right;\n",
       "    }\n",
       "</style>\n",
       "<table border=\"1\" class=\"dataframe\">\n",
       "  <thead>\n",
       "    <tr style=\"text-align: right;\">\n",
       "      <th></th>\n",
       "      <th>Unnamed: 0</th>\n",
       "      <th>Message-ID</th>\n",
       "      <th>Date</th>\n",
       "      <th>From</th>\n",
       "      <th>To</th>\n",
       "      <th>Subject</th>\n",
       "      <th>X-From</th>\n",
       "      <th>X-To</th>\n",
       "      <th>X-cc</th>\n",
       "      <th>X-bcc</th>\n",
       "      <th>X-Folder</th>\n",
       "      <th>X-Origin</th>\n",
       "      <th>X-FileName</th>\n",
       "      <th>content</th>\n",
       "      <th>user</th>\n",
       "      <th>labeled</th>\n",
       "    </tr>\n",
       "  </thead>\n",
       "  <tbody>\n",
       "    <tr>\n",
       "      <th>0</th>\n",
       "      <td>403470</td>\n",
       "      <td>&lt;117238.1075846810566.JavaMail.evans@thyme&gt;</td>\n",
       "      <td>2000-12-11 09:22:00</td>\n",
       "      <td>frozenset({'susan.scott@enron.com'})</td>\n",
       "      <td>frozenset({'alicia.perkins@enron.com'})</td>\n",
       "      <td>Re: Travel</td>\n",
       "      <td>Susan M Scott</td>\n",
       "      <td>Alicia Perkins</td>\n",
       "      <td>katyhester@hotmail.com</td>\n",
       "      <td>NaN</td>\n",
       "      <td>\\Susan_Scott_Dec2000_June2001_2\\Notes Folders\\...</td>\n",
       "      <td>SCOTT-S</td>\n",
       "      <td>sscott5.nsf</td>\n",
       "      <td>Hey Alicia, Katy's email address is katyhester...</td>\n",
       "      <td>scott-s</td>\n",
       "      <td>False</td>\n",
       "    </tr>\n",
       "    <tr>\n",
       "      <th>1</th>\n",
       "      <td>130904</td>\n",
       "      <td>&lt;12689165.1075853747639.JavaMail.evans@thyme&gt;</td>\n",
       "      <td>2000-03-09 10:00:00</td>\n",
       "      <td>frozenset({'scott.goodell@enron.com'})</td>\n",
       "      <td>frozenset({'chris.germany@enron.com'})</td>\n",
       "      <td>Re: k#65403</td>\n",
       "      <td>Scott Goodell</td>\n",
       "      <td>Chris Germany</td>\n",
       "      <td>NaN</td>\n",
       "      <td>NaN</td>\n",
       "      <td>\\Chris_Germany_Dec2000\\Notes Folders\\Discussio...</td>\n",
       "      <td>Germany-C</td>\n",
       "      <td>cgerman.nsf</td>\n",
       "      <td>65534 is 149349 in Sitara 65403 was 149346 as ...</td>\n",
       "      <td>germany-c</td>\n",
       "      <td>False</td>\n",
       "    </tr>\n",
       "    <tr>\n",
       "      <th>2</th>\n",
       "      <td>217372</td>\n",
       "      <td>&lt;12058190.1075856802090.JavaMail.evans@thyme&gt;</td>\n",
       "      <td>2000-02-04 18:14:00</td>\n",
       "      <td>frozenset({'vince.kaminski@enron.com'})</td>\n",
       "      <td>frozenset({'vkaminski@aol.com'})</td>\n",
       "      <td>El Paso / ENA Deal Completely Terminated Now</td>\n",
       "      <td>Vince J Kaminski</td>\n",
       "      <td>vkaminski@aol.com</td>\n",
       "      <td>NaN</td>\n",
       "      <td>NaN</td>\n",
       "      <td>\\Vincent_Kaminski_Jun2001_7\\Notes Folders\\Disc...</td>\n",
       "      <td>Kaminski-V</td>\n",
       "      <td>vkamins.nsf</td>\n",
       "      <td>---------------------- Forwarded by Vince J Ka...</td>\n",
       "      <td>kaminski-v</td>\n",
       "      <td>False</td>\n",
       "    </tr>\n",
       "    <tr>\n",
       "      <th>3</th>\n",
       "      <td>376779</td>\n",
       "      <td>&lt;1251997.1075857131869.JavaMail.evans@thyme&gt;</td>\n",
       "      <td>2000-11-01 12:34:00</td>\n",
       "      <td>frozenset({'benjamin.rogers@enron.com'})</td>\n",
       "      <td>frozenset({'patty.donahue@chase.com'})</td>\n",
       "      <td>Re: FW: winnie_t</td>\n",
       "      <td>Benjamin Rogers</td>\n",
       "      <td>\"Donahue, Patty\" &lt;Patty.Donahue@Chase.com&gt; @ E...</td>\n",
       "      <td>NaN</td>\n",
       "      <td>NaN</td>\n",
       "      <td>\\Benjamin_Rogers_Dec2000_1\\Notes Folders\\All d...</td>\n",
       "      <td>Rogers-B</td>\n",
       "      <td>brogers.nsf</td>\n",
       "      <td>What are you doing sending me this crap! I wan...</td>\n",
       "      <td>rogers-b</td>\n",
       "      <td>False</td>\n",
       "    </tr>\n",
       "    <tr>\n",
       "      <th>4</th>\n",
       "      <td>63707</td>\n",
       "      <td>&lt;23661622.1075843051592.JavaMail.evans@thyme&gt;</td>\n",
       "      <td>2000-11-29 15:43:00</td>\n",
       "      <td>frozenset({'jeff.dasovich@enron.com'})</td>\n",
       "      <td>frozenset({'joseph.alamo@enron.com'})</td>\n",
       "      <td>Re: Address Information</td>\n",
       "      <td>Jeff Dasovich</td>\n",
       "      <td>Joseph Alamo</td>\n",
       "      <td>NaN</td>\n",
       "      <td>NaN</td>\n",
       "      <td>\\Jeff_Dasovich_Dec2000\\Notes Folders\\All docum...</td>\n",
       "      <td>DASOVICH-J</td>\n",
       "      <td>jdasovic.nsf</td>\n",
       "      <td>Can you get this kind person the info? Thanks ...</td>\n",
       "      <td>dasovich-j</td>\n",
       "      <td>False</td>\n",
       "    </tr>\n",
       "  </tbody>\n",
       "</table>\n",
       "</div>"
      ],
      "text/plain": [
       "   Unnamed: 0                                     Message-ID  \\\n",
       "0      403470    <117238.1075846810566.JavaMail.evans@thyme>   \n",
       "1      130904  <12689165.1075853747639.JavaMail.evans@thyme>   \n",
       "2      217372  <12058190.1075856802090.JavaMail.evans@thyme>   \n",
       "3      376779   <1251997.1075857131869.JavaMail.evans@thyme>   \n",
       "4       63707  <23661622.1075843051592.JavaMail.evans@thyme>   \n",
       "\n",
       "                  Date                                      From  \\\n",
       "0  2000-12-11 09:22:00      frozenset({'susan.scott@enron.com'})   \n",
       "1  2000-03-09 10:00:00    frozenset({'scott.goodell@enron.com'})   \n",
       "2  2000-02-04 18:14:00   frozenset({'vince.kaminski@enron.com'})   \n",
       "3  2000-11-01 12:34:00  frozenset({'benjamin.rogers@enron.com'})   \n",
       "4  2000-11-29 15:43:00    frozenset({'jeff.dasovich@enron.com'})   \n",
       "\n",
       "                                        To  \\\n",
       "0  frozenset({'alicia.perkins@enron.com'})   \n",
       "1   frozenset({'chris.germany@enron.com'})   \n",
       "2         frozenset({'vkaminski@aol.com'})   \n",
       "3   frozenset({'patty.donahue@chase.com'})   \n",
       "4    frozenset({'joseph.alamo@enron.com'})   \n",
       "\n",
       "                                        Subject            X-From  \\\n",
       "0                                    Re: Travel     Susan M Scott   \n",
       "1                                   Re: k#65403     Scott Goodell   \n",
       "2  El Paso / ENA Deal Completely Terminated Now  Vince J Kaminski   \n",
       "3                              Re: FW: winnie_t   Benjamin Rogers   \n",
       "4                       Re: Address Information     Jeff Dasovich   \n",
       "\n",
       "                                                X-To                    X-cc  \\\n",
       "0                                     Alicia Perkins  katyhester@hotmail.com   \n",
       "1                                      Chris Germany                     NaN   \n",
       "2                                  vkaminski@aol.com                     NaN   \n",
       "3  \"Donahue, Patty\" <Patty.Donahue@Chase.com> @ E...                     NaN   \n",
       "4                                       Joseph Alamo                     NaN   \n",
       "\n",
       "  X-bcc                                           X-Folder    X-Origin  \\\n",
       "0   NaN  \\Susan_Scott_Dec2000_June2001_2\\Notes Folders\\...     SCOTT-S   \n",
       "1   NaN  \\Chris_Germany_Dec2000\\Notes Folders\\Discussio...   Germany-C   \n",
       "2   NaN  \\Vincent_Kaminski_Jun2001_7\\Notes Folders\\Disc...  Kaminski-V   \n",
       "3   NaN  \\Benjamin_Rogers_Dec2000_1\\Notes Folders\\All d...    Rogers-B   \n",
       "4   NaN  \\Jeff_Dasovich_Dec2000\\Notes Folders\\All docum...  DASOVICH-J   \n",
       "\n",
       "     X-FileName                                            content  \\\n",
       "0   sscott5.nsf  Hey Alicia, Katy's email address is katyhester...   \n",
       "1   cgerman.nsf  65534 is 149349 in Sitara 65403 was 149346 as ...   \n",
       "2   vkamins.nsf  ---------------------- Forwarded by Vince J Ka...   \n",
       "3   brogers.nsf  What are you doing sending me this crap! I wan...   \n",
       "4  jdasovic.nsf  Can you get this kind person the info? Thanks ...   \n",
       "\n",
       "         user  labeled  \n",
       "0     scott-s    False  \n",
       "1   germany-c    False  \n",
       "2  kaminski-v    False  \n",
       "3    rogers-b    False  \n",
       "4  dasovich-j    False  "
      ]
     },
     "execution_count": 39,
     "metadata": {},
     "output_type": "execute_result"
    }
   ],
   "source": [
    "data.head()"
   ]
  },
  {
   "cell_type": "code",
   "execution_count": 40,
   "metadata": {},
   "outputs": [
    {
     "data": {
      "text/html": [
       "<div>\n",
       "<style scoped>\n",
       "    .dataframe tbody tr th:only-of-type {\n",
       "        vertical-align: middle;\n",
       "    }\n",
       "\n",
       "    .dataframe tbody tr th {\n",
       "        vertical-align: top;\n",
       "    }\n",
       "\n",
       "    .dataframe thead th {\n",
       "        text-align: right;\n",
       "    }\n",
       "</style>\n",
       "<table border=\"1\" class=\"dataframe\">\n",
       "  <thead>\n",
       "    <tr style=\"text-align: right;\">\n",
       "      <th></th>\n",
       "      <th>Unnamed: 0</th>\n",
       "      <th>Message-ID</th>\n",
       "      <th>Date</th>\n",
       "      <th>From</th>\n",
       "      <th>To</th>\n",
       "      <th>Subject</th>\n",
       "      <th>X-From</th>\n",
       "      <th>X-To</th>\n",
       "      <th>X-cc</th>\n",
       "      <th>X-bcc</th>\n",
       "      <th>X-Folder</th>\n",
       "      <th>X-Origin</th>\n",
       "      <th>X-FileName</th>\n",
       "      <th>content</th>\n",
       "      <th>user</th>\n",
       "      <th>labeled</th>\n",
       "    </tr>\n",
       "  </thead>\n",
       "  <tbody>\n",
       "    <tr>\n",
       "      <th>103475</th>\n",
       "      <td>398509</td>\n",
       "      <td>&lt;9956220.1075860573758.JavaMail.evans@thyme&gt;</td>\n",
       "      <td>1999-09-09 17:51:00</td>\n",
       "      <td>frozenset({'richard.sanders@enron.com'})</td>\n",
       "      <td>frozenset({'ferazzi@emrecruiting.com'})</td>\n",
       "      <td>Re: Candidate</td>\n",
       "      <td>Richard B Sanders</td>\n",
       "      <td>ferazzi@emrecruiting.com</td>\n",
       "      <td>NaN</td>\n",
       "      <td>NaN</td>\n",
       "      <td>\\Richard_Sanders_Dec2000\\Notes Folders\\Sent</td>\n",
       "      <td>Sanders-R</td>\n",
       "      <td>rsander.nsf</td>\n",
       "      <td>Yes. Send his resume.</td>\n",
       "      <td>sanders-r</td>\n",
       "      <td>False</td>\n",
       "    </tr>\n",
       "    <tr>\n",
       "      <th>103476</th>\n",
       "      <td>438197</td>\n",
       "      <td>&lt;26817012.1075844236728.JavaMail.evans@thyme&gt;</td>\n",
       "      <td>2001-05-03 13:34:00</td>\n",
       "      <td>frozenset({'sarah.novosel@enron.com'})</td>\n",
       "      <td>frozenset({'james.steffes@enron.com', 'richard...</td>\n",
       "      <td>Memo Regarding Washington Office</td>\n",
       "      <td>Sarah Novosel</td>\n",
       "      <td>Richard Shapiro, James D Steffes</td>\n",
       "      <td>Linda Robertson</td>\n",
       "      <td>NaN</td>\n",
       "      <td>\\Richard_Shapiro_June2001\\Notes Folders\\Discus...</td>\n",
       "      <td>SHAPIRO-R</td>\n",
       "      <td>rshapiro.nsf</td>\n",
       "      <td>Rick and Jim: As Linda and I discussed with Ri...</td>\n",
       "      <td>shapiro-r</td>\n",
       "      <td>False</td>\n",
       "    </tr>\n",
       "    <tr>\n",
       "      <th>103477</th>\n",
       "      <td>302430</td>\n",
       "      <td>&lt;14477836.1075846120303.JavaMail.evans@thyme&gt;</td>\n",
       "      <td>2000-08-21 17:33:00</td>\n",
       "      <td>frozenset({'kay.mann@enron.com'})</td>\n",
       "      <td>frozenset({'martin.penkwitz@enron.com'})</td>\n",
       "      <td>Re: Westinghouse</td>\n",
       "      <td>Kay Mann</td>\n",
       "      <td>Martin W Penkwitz</td>\n",
       "      <td>NaN</td>\n",
       "      <td>NaN</td>\n",
       "      <td>\\Kay_Mann_June2001_4\\Notes Folders\\'sent mail</td>\n",
       "      <td>MANN-K</td>\n",
       "      <td>kmann.nsf</td>\n",
       "      <td>FYI. ---------------------- Forwarded by Kay M...</td>\n",
       "      <td>mann-k</td>\n",
       "      <td>False</td>\n",
       "    </tr>\n",
       "    <tr>\n",
       "      <th>103478</th>\n",
       "      <td>296344</td>\n",
       "      <td>&lt;22030900.1075858287215.JavaMail.evans@thyme&gt;</td>\n",
       "      <td>2001-01-17 18:11:00</td>\n",
       "      <td>frozenset({'phillip.love@enron.com'})</td>\n",
       "      <td>frozenset({'victor.guggenheim@enron.com'})</td>\n",
       "      <td>Pages to print for Hunter</td>\n",
       "      <td>Phillip M Love</td>\n",
       "      <td>Victor Guggenheim</td>\n",
       "      <td>NaN</td>\n",
       "      <td>NaN</td>\n",
       "      <td>\\Phillip_Love_Jun2001\\Notes Folders\\Sent</td>\n",
       "      <td>Love-P</td>\n",
       "      <td>plove.nsf</td>\n",
       "      <td>---------------------- Forwarded by Phillip M ...</td>\n",
       "      <td>love-p</td>\n",
       "      <td>False</td>\n",
       "    </tr>\n",
       "    <tr>\n",
       "      <th>103479</th>\n",
       "      <td>147417</td>\n",
       "      <td>&lt;26905586.1075840593794.JavaMail.evans@thyme&gt;</td>\n",
       "      <td>2001-04-13 10:43:00</td>\n",
       "      <td>frozenset({'pete.davis@enron.com'})</td>\n",
       "      <td>frozenset({'pete.davis@enron.com'})</td>\n",
       "      <td>Start Date: 4/13/01; HourAhead hour: 11;  &lt;COD...</td>\n",
       "      <td>Schedule Crawler&lt;pete.davis@enron.com&gt;</td>\n",
       "      <td>pete.davis@enron.com</td>\n",
       "      <td>bert.meyers@enron.com, bill.williams.III@enron...</td>\n",
       "      <td>NaN</td>\n",
       "      <td>\\mark guzman 6-28-02\\Notes Folders\\All documents</td>\n",
       "      <td>GUZMAN-M</td>\n",
       "      <td>mark guzman 6-28-02.nsf</td>\n",
       "      <td>Start Date: 4/13/01; HourAhead hour: 11; No an...</td>\n",
       "      <td>guzman-m</td>\n",
       "      <td>False</td>\n",
       "    </tr>\n",
       "  </tbody>\n",
       "</table>\n",
       "</div>"
      ],
      "text/plain": [
       "        Unnamed: 0                                     Message-ID  \\\n",
       "103475      398509   <9956220.1075860573758.JavaMail.evans@thyme>   \n",
       "103476      438197  <26817012.1075844236728.JavaMail.evans@thyme>   \n",
       "103477      302430  <14477836.1075846120303.JavaMail.evans@thyme>   \n",
       "103478      296344  <22030900.1075858287215.JavaMail.evans@thyme>   \n",
       "103479      147417  <26905586.1075840593794.JavaMail.evans@thyme>   \n",
       "\n",
       "                       Date                                      From  \\\n",
       "103475  1999-09-09 17:51:00  frozenset({'richard.sanders@enron.com'})   \n",
       "103476  2001-05-03 13:34:00    frozenset({'sarah.novosel@enron.com'})   \n",
       "103477  2000-08-21 17:33:00         frozenset({'kay.mann@enron.com'})   \n",
       "103478  2001-01-17 18:11:00     frozenset({'phillip.love@enron.com'})   \n",
       "103479  2001-04-13 10:43:00       frozenset({'pete.davis@enron.com'})   \n",
       "\n",
       "                                                       To  \\\n",
       "103475            frozenset({'ferazzi@emrecruiting.com'})   \n",
       "103476  frozenset({'james.steffes@enron.com', 'richard...   \n",
       "103477           frozenset({'martin.penkwitz@enron.com'})   \n",
       "103478         frozenset({'victor.guggenheim@enron.com'})   \n",
       "103479                frozenset({'pete.davis@enron.com'})   \n",
       "\n",
       "                                                  Subject  \\\n",
       "103475                                      Re: Candidate   \n",
       "103476                   Memo Regarding Washington Office   \n",
       "103477                                   Re: Westinghouse   \n",
       "103478                          Pages to print for Hunter   \n",
       "103479  Start Date: 4/13/01; HourAhead hour: 11;  <COD...   \n",
       "\n",
       "                                        X-From  \\\n",
       "103475                       Richard B Sanders   \n",
       "103476                           Sarah Novosel   \n",
       "103477                                Kay Mann   \n",
       "103478                          Phillip M Love   \n",
       "103479  Schedule Crawler<pete.davis@enron.com>   \n",
       "\n",
       "                                    X-To  \\\n",
       "103475          ferazzi@emrecruiting.com   \n",
       "103476  Richard Shapiro, James D Steffes   \n",
       "103477                 Martin W Penkwitz   \n",
       "103478                 Victor Guggenheim   \n",
       "103479              pete.davis@enron.com   \n",
       "\n",
       "                                                     X-cc X-bcc  \\\n",
       "103475                                                NaN   NaN   \n",
       "103476                                    Linda Robertson   NaN   \n",
       "103477                                                NaN   NaN   \n",
       "103478                                                NaN   NaN   \n",
       "103479  bert.meyers@enron.com, bill.williams.III@enron...   NaN   \n",
       "\n",
       "                                                 X-Folder   X-Origin  \\\n",
       "103475        \\Richard_Sanders_Dec2000\\Notes Folders\\Sent  Sanders-R   \n",
       "103476  \\Richard_Shapiro_June2001\\Notes Folders\\Discus...  SHAPIRO-R   \n",
       "103477      \\Kay_Mann_June2001_4\\Notes Folders\\'sent mail     MANN-K   \n",
       "103478           \\Phillip_Love_Jun2001\\Notes Folders\\Sent     Love-P   \n",
       "103479   \\mark guzman 6-28-02\\Notes Folders\\All documents   GUZMAN-M   \n",
       "\n",
       "                     X-FileName  \\\n",
       "103475              rsander.nsf   \n",
       "103476             rshapiro.nsf   \n",
       "103477                kmann.nsf   \n",
       "103478                plove.nsf   \n",
       "103479  mark guzman 6-28-02.nsf   \n",
       "\n",
       "                                                  content       user  labeled  \n",
       "103475                              Yes. Send his resume.  sanders-r    False  \n",
       "103476  Rick and Jim: As Linda and I discussed with Ri...  shapiro-r    False  \n",
       "103477  FYI. ---------------------- Forwarded by Kay M...     mann-k    False  \n",
       "103478  ---------------------- Forwarded by Phillip M ...     love-p    False  \n",
       "103479  Start Date: 4/13/01; HourAhead hour: 11; No an...   guzman-m    False  "
      ]
     },
     "execution_count": 40,
     "metadata": {},
     "output_type": "execute_result"
    }
   ],
   "source": [
    "data.tail()"
   ]
  },
  {
   "cell_type": "code",
   "execution_count": 41,
   "metadata": {},
   "outputs": [
    {
     "data": {
      "text/html": [
       "<div>\n",
       "<style scoped>\n",
       "    .dataframe tbody tr th:only-of-type {\n",
       "        vertical-align: middle;\n",
       "    }\n",
       "\n",
       "    .dataframe tbody tr th {\n",
       "        vertical-align: top;\n",
       "    }\n",
       "\n",
       "    .dataframe thead th {\n",
       "        text-align: right;\n",
       "    }\n",
       "</style>\n",
       "<table border=\"1\" class=\"dataframe\">\n",
       "  <thead>\n",
       "    <tr style=\"text-align: right;\">\n",
       "      <th></th>\n",
       "      <th>Unnamed: 0</th>\n",
       "    </tr>\n",
       "  </thead>\n",
       "  <tbody>\n",
       "    <tr>\n",
       "      <th>count</th>\n",
       "      <td>103480.000000</td>\n",
       "    </tr>\n",
       "    <tr>\n",
       "      <th>mean</th>\n",
       "      <td>258428.879928</td>\n",
       "    </tr>\n",
       "    <tr>\n",
       "      <th>std</th>\n",
       "      <td>149261.811705</td>\n",
       "    </tr>\n",
       "    <tr>\n",
       "      <th>min</th>\n",
       "      <td>6.000000</td>\n",
       "    </tr>\n",
       "    <tr>\n",
       "      <th>25%</th>\n",
       "      <td>129517.250000</td>\n",
       "    </tr>\n",
       "    <tr>\n",
       "      <th>50%</th>\n",
       "      <td>258514.500000</td>\n",
       "    </tr>\n",
       "    <tr>\n",
       "      <th>75%</th>\n",
       "      <td>387474.250000</td>\n",
       "    </tr>\n",
       "    <tr>\n",
       "      <th>max</th>\n",
       "      <td>517400.000000</td>\n",
       "    </tr>\n",
       "  </tbody>\n",
       "</table>\n",
       "</div>"
      ],
      "text/plain": [
       "          Unnamed: 0\n",
       "count  103480.000000\n",
       "mean   258428.879928\n",
       "std    149261.811705\n",
       "min         6.000000\n",
       "25%    129517.250000\n",
       "50%    258514.500000\n",
       "75%    387474.250000\n",
       "max    517400.000000"
      ]
     },
     "execution_count": 41,
     "metadata": {},
     "output_type": "execute_result"
    }
   ],
   "source": [
    "data.describe()"
   ]
  },
  {
   "cell_type": "code",
   "execution_count": 42,
   "metadata": {},
   "outputs": [
    {
     "data": {
      "text/plain": [
       "array(['Unnamed: 0', 'Message-ID', 'Date', 'From', 'To', 'Subject',\n",
       "       'X-From', 'X-To', 'X-cc', 'X-bcc', 'X-Folder', 'X-Origin',\n",
       "       'X-FileName', 'content', 'user', 'labeled'], dtype=object)"
      ]
     },
     "execution_count": 42,
     "metadata": {},
     "output_type": "execute_result"
    }
   ],
   "source": [
    "data.columns.values"
   ]
  },
  {
   "cell_type": "code",
   "execution_count": 43,
   "metadata": {},
   "outputs": [
    {
     "data": {
      "text/plain": [
       "Unnamed: 0     int64\n",
       "Message-ID    object\n",
       "Date          object\n",
       "From          object\n",
       "To            object\n",
       "Subject       object\n",
       "X-From        object\n",
       "X-To          object\n",
       "X-cc          object\n",
       "X-bcc         object\n",
       "X-Folder      object\n",
       "X-Origin      object\n",
       "X-FileName    object\n",
       "content       object\n",
       "user          object\n",
       "labeled         bool\n",
       "dtype: object"
      ]
     },
     "execution_count": 43,
     "metadata": {},
     "output_type": "execute_result"
    }
   ],
   "source": [
    "data.dtypes"
   ]
  },
  {
   "cell_type": "code",
   "execution_count": 44,
   "metadata": {},
   "outputs": [
    {
     "name": "stdout",
     "output_type": "stream",
     "text": [
      "<class 'pandas.core.frame.DataFrame'>\n",
      "RangeIndex: 103480 entries, 0 to 103479\n",
      "Data columns (total 16 columns):\n",
      " #   Column      Non-Null Count   Dtype \n",
      "---  ------      --------------   ----- \n",
      " 0   Unnamed: 0  103480 non-null  int64 \n",
      " 1   Message-ID  103480 non-null  object\n",
      " 2   Date        103480 non-null  object\n",
      " 3   From        103480 non-null  object\n",
      " 4   To          99165 non-null   object\n",
      " 5   Subject     99656 non-null   object\n",
      " 6   X-From      103476 non-null  object\n",
      " 7   X-To        101679 non-null  object\n",
      " 8   X-cc        25663 non-null   object\n",
      " 9   X-bcc       39 non-null      object\n",
      " 10  X-Folder    103476 non-null  object\n",
      " 11  X-Origin    103476 non-null  object\n",
      " 12  X-FileName  102624 non-null  object\n",
      " 13  content     103246 non-null  object\n",
      " 14  user        103480 non-null  object\n",
      " 15  labeled     103480 non-null  bool  \n",
      "dtypes: bool(1), int64(1), object(14)\n",
      "memory usage: 11.9+ MB\n"
     ]
    }
   ],
   "source": [
    "data.info()"
   ]
  },
  {
   "cell_type": "code",
   "execution_count": 45,
   "metadata": {},
   "outputs": [],
   "source": [
    "#------------------End of Preprocessing---------------------------#"
   ]
  },
  {
   "cell_type": "code",
   "execution_count": 46,
   "metadata": {},
   "outputs": [],
   "source": [
    "#Visualisation begins here.\n",
    "#describe your visualisations here:\n",
    "#WordCloud - Identifies most used words in the the subject and the content. \n",
    "#Bar Graph - It clearly shows that how biased our data is and due to its biasness the model in the future may give us many FALSE NEGATIVE \n",
    "# value hence we need to under sample the data or apply another strategy to tackle the issue."
   ]
  },
  {
   "cell_type": "code",
   "execution_count": 47,
   "metadata": {},
   "outputs": [
    {
     "data": {
      "text/plain": [
       "(-0.5, 399.5, 199.5, -0.5)"
      ]
     },
     "execution_count": 47,
     "metadata": {},
     "output_type": "execute_result"
    },
    {
     "data": {
      "image/png": "[encoded data removed]",
      "text/plain": [
       "<Figure size 432x288 with 1 Axes>"
      ]
     },
     "metadata": {
      "needs_background": "light"
     },
     "output_type": "display_data"
    }
   ],
   "source": [
    "#The Subject head 100\n",
    "#plt.subplot(2, 2, 1)\n",
    "wordcloud = WordCloud(background_color=\"white\", scale=1,colormap='Blues', max_font_size=40).generate(str(data['Subject'].head(100)))\n",
    "plt.imshow(wordcloud, cmap=plt.cm.gray, interpolation=\"bilinear\")\n",
    "plt.axis('off')"
   ]
  },
  {
   "cell_type": "code",
   "execution_count": 48,
   "metadata": {},
   "outputs": [
    {
     "data": {
      "text/plain": [
       "(-0.5, 399.5, 199.5, -0.5)"
      ]
     },
     "execution_count": 48,
     "metadata": {},
     "output_type": "execute_result"
    },
    {
     "data": {
      "image/png": "[encoded data removed]",
      "text/plain": [
       "<Figure size 432x288 with 1 Axes>"
      ]
     },
     "metadata": {
      "needs_background": "light"
     },
     "output_type": "display_data"
    }
   ],
   "source": [
    "#The Content head 1000\n",
    "#plt.subplot(2, 2, 2)\n",
    "wordcloud = WordCloud(background_color=\"white\", scale=1,colormap='Blues', max_font_size=40).generate(str(data['content'].head(1000)))\n",
    "plt.imshow(wordcloud, cmap=plt.cm.gray, interpolation=\"bilinear\")\n",
    "plt.axis('off')"
   ]
  },
  {
   "cell_type": "code",
   "execution_count": 49,
   "metadata": {},
   "outputs": [
    {
     "data": {
      "image/png": "[encoded data removed]",
      "text/plain": [
       "<Figure size 432x288 with 1 Axes>"
      ]
     },
     "metadata": {
      "needs_background": "light"
     },
     "output_type": "display_data"
    }
   ],
   "source": [
    "fig = plt.figure()\n",
    "ax = fig.add_axes([0,0,1,1])\n",
    "langs = ['spam', 'not a spam']\n",
    "countTrue=0;\n",
    "countFalse=0;\n",
    "tp=0\n",
    "for i in data['labeled']:\n",
    "    tp = tp + 1;\n",
    "    if i == True:\n",
    "        countTrue +=1;\n",
    "    elif i == False:\n",
    "        countFalse +=1;\n",
    "students = [countTrue, countFalse]\n",
    "ax.bar(langs,students)\n",
    "plt.show()"
   ]
  },
  {
   "cell_type": "code",
   "execution_count": 52,
   "metadata": {},
   "outputs": [
    {
     "data": {
      "text/html": [
       "<div>\n",
       "<style scoped>\n",
       "    .dataframe tbody tr th:only-of-type {\n",
       "        vertical-align: middle;\n",
       "    }\n",
       "\n",
       "    .dataframe tbody tr th {\n",
       "        vertical-align: top;\n",
       "    }\n",
       "\n",
       "    .dataframe thead th {\n",
       "        text-align: right;\n",
       "    }\n",
       "</style>\n",
       "<table border=\"1\" class=\"dataframe\">\n",
       "  <thead>\n",
       "    <tr style=\"text-align: right;\">\n",
       "      <th></th>\n",
       "      <th>From</th>\n",
       "      <th>Content</th>\n",
       "    </tr>\n",
       "    <tr>\n",
       "      <th>To</th>\n",
       "      <th></th>\n",
       "      <th></th>\n",
       "    </tr>\n",
       "  </thead>\n",
       "  <tbody>\n",
       "    <tr>\n",
       "      <th>greg.whalley@enron.com</th>\n",
       "      <td>andrew.fastow@enron.com</td>\n",
       "      <td>\\r\\n\\r\\n -----original message-----\\r\\nfrom: \\...</td>\n",
       "    </tr>\n",
       "    <tr>\n",
       "      <th>jeff.skilling@enron.com</th>\n",
       "      <td>andrew.fastow@enron.com</td>\n",
       "      <td>jeff:\\r\\n\\r\\ni'm sure this is just a \"misunder...</td>\n",
       "    </tr>\n",
       "    <tr>\n",
       "      <th>greg.whalley@enron.com</th>\n",
       "      <td>andrew.fastow@enron.com</td>\n",
       "      <td>\\r\\n\\r\\n -----original message-----\\r\\nfrom: \\...</td>\n",
       "    </tr>\n",
       "  </tbody>\n",
       "</table>\n",
       "</div>"
      ],
      "text/plain": [
       "                                            From  \\\n",
       "To                                                 \n",
       "greg.whalley@enron.com   andrew.fastow@enron.com   \n",
       "jeff.skilling@enron.com  andrew.fastow@enron.com   \n",
       "greg.whalley@enron.com   andrew.fastow@enron.com   \n",
       "\n",
       "                                                                   Content  \n",
       "To                                                                          \n",
       "greg.whalley@enron.com   \\r\\n\\r\\n -----original message-----\\r\\nfrom: \\...  \n",
       "jeff.skilling@enron.com  jeff:\\r\\n\\r\\ni'm sure this is just a \"misunder...  \n",
       "greg.whalley@enron.com   \\r\\n\\r\\n -----original message-----\\r\\nfrom: \\...  "
      ]
     },
     "execution_count": 52,
     "metadata": {},
     "output_type": "execute_result"
    }
   ],
   "source": [
    "emails_from_andrew = pd.read_csv('./dataset/andrew_sent.csv')\n",
    "pd.DataFrame.reset_index(emails_from_andrew)\n",
    "emails_from_andrew.set_index('To', inplace=True)\n",
    "emails_from_andrew"
   ]
  },
  {
   "cell_type": "code",
   "execution_count": 53,
   "metadata": {},
   "outputs": [
    {
     "name": "stdout",
     "output_type": "stream",
     "text": [
      "[('greg.whalley@enron.com', 2), ('jeff.skilling@enron.com', 1)]\n"
     ]
    }
   ],
   "source": [
    "maximum_interaction_sent = []\n",
    "for row in emails_from_andrew.iterrows():\n",
    "    maximum_interaction_sent.append(row[0])\n",
    "maximum_interaction_sent = tuple(maximum_interaction_sent)\n",
    "counts_sent_to = Counter(maximum_interaction_sent)\n",
    "print(counts_sent_to.most_common(5))"
   ]
  },
  {
   "cell_type": "code",
   "execution_count": 54,
   "metadata": {},
   "outputs": [
    {
     "data": {
      "text/html": [
       "<div>\n",
       "<style scoped>\n",
       "    .dataframe tbody tr th:only-of-type {\n",
       "        vertical-align: middle;\n",
       "    }\n",
       "\n",
       "    .dataframe tbody tr th {\n",
       "        vertical-align: top;\n",
       "    }\n",
       "\n",
       "    .dataframe thead th {\n",
       "        text-align: right;\n",
       "    }\n",
       "</style>\n",
       "<table border=\"1\" class=\"dataframe\">\n",
       "  <thead>\n",
       "    <tr style=\"text-align: right;\">\n",
       "      <th></th>\n",
       "      <th>To</th>\n",
       "      <th>Content</th>\n",
       "    </tr>\n",
       "    <tr>\n",
       "      <th>From</th>\n",
       "      <th></th>\n",
       "      <th></th>\n",
       "    </tr>\n",
       "  </thead>\n",
       "  <tbody>\n",
       "    <tr>\n",
       "      <th>rebecca.carter@enron.com</th>\n",
       "      <td>rick.buy@enron.com, andrew.fastow@enron.com</td>\n",
       "      <td>please provide comments to the attached minute...</td>\n",
       "    </tr>\n",
       "    <tr>\n",
       "      <th>joannie.williamson@enron.com</th>\n",
       "      <td>raymond.bowen@enron.com, london.brown@enron.co...</td>\n",
       "      <td>management committee meeting\\r\\ndate:\\t\\tmonda...</td>\n",
       "    </tr>\n",
       "    <tr>\n",
       "      <th>paula.rieker@enron.com</th>\n",
       "      <td>raymond.bowen@enron.com, london.brown@enron.co...</td>\n",
       "      <td>the management committee is invited to join th...</td>\n",
       "    </tr>\n",
       "    <tr>\n",
       "      <th>joannie.williamson@enron.com</th>\n",
       "      <td>k..allen@enron.com, sally.beck@enron.com, tim....</td>\n",
       "      <td>i apologize if there has been any confusion re...</td>\n",
       "    </tr>\n",
       "    <tr>\n",
       "      <th>paula.rieker@enron.com</th>\n",
       "      <td>rick.buy@enron.com, richard.causey@enron.com, ...</td>\n",
       "      <td>ken lay is very interested in providing opport...</td>\n",
       "    </tr>\n",
       "    <tr>\n",
       "      <th>...</th>\n",
       "      <td>...</td>\n",
       "      <td>...</td>\n",
       "    </tr>\n",
       "    <tr>\n",
       "      <th>bryan.seyfried@enron.com</th>\n",
       "      <td>greg.whalley@enron.com, kenneth.lay@enron.com,...</td>\n",
       "      <td>john thought you might be interested in the fo...</td>\n",
       "    </tr>\n",
       "    <tr>\n",
       "      <th>paula.rieker@enron.com</th>\n",
       "      <td>mark.koenig@enron.com, greg.whalley@enron.com,...</td>\n",
       "      <td>the location for today's meeting at 4:15 p.m. ...</td>\n",
       "    </tr>\n",
       "    <tr>\n",
       "      <th>paula.rieker@enron.com</th>\n",
       "      <td>mark.koenig@enron.com, greg.whalley@enron.com,...</td>\n",
       "      <td>pls. join a meeting in greg's office today at ...</td>\n",
       "    </tr>\n",
       "    <tr>\n",
       "      <th>liz.taylor@enron.com</th>\n",
       "      <td>kenneth.lay@enron.com, jeff.skilling@enron.com...</td>\n",
       "      <td>here it is!  your enron net works holiday part...</td>\n",
       "    </tr>\n",
       "    <tr>\n",
       "      <th>liz.taylor@enron.com</th>\n",
       "      <td>kenneth.lay@enron.com, jeff.skilling@enron.com...</td>\n",
       "      <td>please launch the attached holiday party annou...</td>\n",
       "    </tr>\n",
       "  </tbody>\n",
       "</table>\n",
       "<p>159 rows × 2 columns</p>\n",
       "</div>"
      ],
      "text/plain": [
       "                                                                             To  \\\n",
       "From                                                                              \n",
       "rebecca.carter@enron.com            rick.buy@enron.com, andrew.fastow@enron.com   \n",
       "joannie.williamson@enron.com  raymond.bowen@enron.com, london.brown@enron.co...   \n",
       "paula.rieker@enron.com        raymond.bowen@enron.com, london.brown@enron.co...   \n",
       "joannie.williamson@enron.com  k..allen@enron.com, sally.beck@enron.com, tim....   \n",
       "paula.rieker@enron.com        rick.buy@enron.com, richard.causey@enron.com, ...   \n",
       "...                                                                         ...   \n",
       "bryan.seyfried@enron.com      greg.whalley@enron.com, kenneth.lay@enron.com,...   \n",
       "paula.rieker@enron.com        mark.koenig@enron.com, greg.whalley@enron.com,...   \n",
       "paula.rieker@enron.com        mark.koenig@enron.com, greg.whalley@enron.com,...   \n",
       "liz.taylor@enron.com          kenneth.lay@enron.com, jeff.skilling@enron.com...   \n",
       "liz.taylor@enron.com          kenneth.lay@enron.com, jeff.skilling@enron.com...   \n",
       "\n",
       "                                                                        Content  \n",
       "From                                                                             \n",
       "rebecca.carter@enron.com      please provide comments to the attached minute...  \n",
       "joannie.williamson@enron.com  management committee meeting\\r\\ndate:\\t\\tmonda...  \n",
       "paula.rieker@enron.com        the management committee is invited to join th...  \n",
       "joannie.williamson@enron.com  i apologize if there has been any confusion re...  \n",
       "paula.rieker@enron.com        ken lay is very interested in providing opport...  \n",
       "...                                                                         ...  \n",
       "bryan.seyfried@enron.com      john thought you might be interested in the fo...  \n",
       "paula.rieker@enron.com        the location for today's meeting at 4:15 p.m. ...  \n",
       "paula.rieker@enron.com        pls. join a meeting in greg's office today at ...  \n",
       "liz.taylor@enron.com          here it is!  your enron net works holiday part...  \n",
       "liz.taylor@enron.com          please launch the attached holiday party annou...  \n",
       "\n",
       "[159 rows x 2 columns]"
      ]
     },
     "execution_count": 54,
     "metadata": {},
     "output_type": "execute_result"
    }
   ],
   "source": [
    "emails_to_andrew = pd.read_csv('./dataset/andrew_recieved.csv')\n",
    "pd.DataFrame.reset_index(emails_to_andrew)\n",
    "emails_to_andrew.set_index('From', inplace=True)\n",
    "emails_to_andrew"
   ]
  },
  {
   "cell_type": "code",
   "execution_count": 55,
   "metadata": {},
   "outputs": [
    {
     "name": "stdout",
     "output_type": "stream",
     "text": [
      "[('joannie.williamson@enron.com', 28), ('paula.rieker@enron.com', 12), ('mike.mcconnell@enron.com', 10), ('maureen.mcvicker@enron.com', 8), ('karen.myer@enron.com', 7), ('rosalee.fleming@enron.com', 5), ('gay.mayeux@enron.com', 5), ('rebecca.carter@enron.com', 4), ('l..wells@enron.com', 4), ('billy.dorsey@enron.com', 4)]\n"
     ]
    }
   ],
   "source": [
    "maximum_interaction_recieved = []\n",
    "for row in emails_to_andrew.iterrows():\n",
    "    maximum_interaction_recieved.append(row[0])\n",
    "maximum_interaction_recieved = tuple(maximum_interaction_recieved)\n",
    "counts_got_from = Counter(maximum_interaction_recieved)\n",
    "print(counts_got_from.most_common(10))"
   ]
  },
  {
   "cell_type": "code",
   "execution_count": 56,
   "metadata": {},
   "outputs": [],
   "source": [
    "emails_from_andrew = pd.read_csv('./dataset/andrew_sent.csv')\n",
    "pd.DataFrame.reset_index(emails_from_andrew)\n",
    "emails_from_andrew.set_index('Content', inplace=True)\n",
    "#emails_from_andrew"
   ]
  },
  {
   "cell_type": "code",
   "execution_count": 57,
   "metadata": {},
   "outputs": [],
   "source": [
    "content_of_emails_from_Andrew = []\n",
    "for row in emails_from_andrew.iterrows():\n",
    "    content_of_emails_from_Andrew.append(row[0])\n",
    "#content_of_emails_from_Andrew[0]"
   ]
  },
  {
   "cell_type": "code",
   "execution_count": 58,
   "metadata": {},
   "outputs": [],
   "source": [
    "content_of_emails_from_Andrew_full = \" \"\n",
    "content_of_emails_from_Andrew_full = content_of_emails_from_Andrew_full.join(content_of_emails_from_Andrew)"
   ]
  },
  {
   "cell_type": "code",
   "execution_count": 59,
   "metadata": {},
   "outputs": [
    {
     "name": "stdout",
     "output_type": "stream",
     "text": [
      "('petrobras', 26)\n",
      "('transaction', 16)\n",
      "('--', 15)\n",
      "('asep', 12)\n",
      "('meeting', 11)\n",
      "('november', 10)\n",
      "('approval', 8)\n",
      "('letter', 8)\n",
      "('vagner', 8)\n",
      "('victor', 8)\n",
      "('monday', 7)\n",
      "('ceg', 6)\n",
      "('would', 6)\n",
      "('issue', 5)\n",
      "('soon', 5)\n",
      "('want', 5)\n",
      "('company', 5)\n",
      "('ljm', 5)\n",
      "('october', 4)\n",
      "('jeff', 4)\n",
      "('state', 4)\n",
      "('agenda', 4)\n",
      "('required', 4)\n",
      "('day', 4)\n",
      "('14', 4)\n",
      "('u', 4)\n",
      "('sends', 4)\n",
      "('governor', 4)\n",
      "('directive', 4)\n",
      "('wait', 4)\n"
     ]
    }
   ],
   "source": [
    "string_punctuation = string.punctuation\n",
    "ignoreChar=['\\r','\\n','',' ',\"'s\"]\n",
    "emails_data = nltk.word_tokenize(content_of_emails_from_Andrew_full)         #tokenizing content\n",
    "#emails_data_words = [nltk.word_tokenize(sent) for sent in content_of_emails_from_Andrew_full]\n",
    "#emails_data = \" \"\n",
    "#emails_data = ','.join(str(email_con) for email_con in emails_data_words)\n",
    "words_only = [l.lower() for l in emails_data if l not in string_punctuation if l not in ignoreChar] #removing unwanted words\n",
    "filtered_emails_data=[word for word in words_only if word not in stopwords.words('english')] #removing stopwords\n",
    "wnl = nltk.WordNetLemmatizer()                                         #lemmatizing words\n",
    "counts=Counter([wnl.lemmatize(data) for data in filtered_emails_data]) #recording the count of words\n",
    "commn_words=[] \n",
    "freq=[]\n",
    "for a in counts.most_common(30):                                   #printing words\n",
    "    commn_words.append(a[0])\n",
    "    freq.append(a[1])\n",
    "    print(a)"
   ]
  },
  {
   "cell_type": "markdown",
   "metadata": {},
   "source": [
    "Most talked about words in these emails are \"PETROBRAS\" \"meeting\" \"MONDAY\" \"November\".\n",
    "According to the research it was found out that the Enron Corp. and Petrobras, Brazil's big, government-owned oil and gas business, have formed a partnership in the month of November on a Monday."
   ]
  },
  {
   "cell_type": "code",
   "execution_count": null,
   "metadata": {},
   "outputs": [],
   "source": []
  },
  {
   "cell_type": "code",
   "execution_count": null,
   "metadata": {},
   "outputs": [],
   "source": []
  }
 ],
 "metadata": {
  "kernelspec": {
   "display_name": "Python 3",
   "language": "python",
   "name": "python3"
  },
  "language_info": {
   "codemirror_mode": {
    "name": "ipython",
    "version": 3
   },
   "file_extension": ".py",
   "mimetype": "text/x-python",
   "name": "python",
   "nbconvert_exporter": "python",
   "pygments_lexer": "ipython3",
   "version": "3.7.3"
  }
 },
 "nbformat": 4,
 "nbformat_minor": 4
}
