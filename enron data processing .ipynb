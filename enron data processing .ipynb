{
 "cells": [
  {
   "cell_type": "code",
   "execution_count": 1,
   "metadata": {},
   "outputs": [],
   "source": [
    "import numpy as np\n",
    "import pandas as pd\n",
    "import matplotlib.pyplot as plt\n",
    "import seaborn as sns\n",
    "%matplotlib inline"
   ]
  },
  {
   "cell_type": "code",
   "execution_count": 2,
   "metadata": {},
   "outputs": [],
   "source": [
    "data = pd.read_csv('enron_email_20_percent.csv')"
   ]
  },
  {
   "cell_type": "code",
   "execution_count": 3,
   "metadata": {},
   "outputs": [
    {
     "data": {
      "text/html": [
       "<div>\n",
       "<style scoped>\n",
       "    .dataframe tbody tr th:only-of-type {\n",
       "        vertical-align: middle;\n",
       "    }\n",
       "\n",
       "    .dataframe tbody tr th {\n",
       "        vertical-align: top;\n",
       "    }\n",
       "\n",
       "    .dataframe thead th {\n",
       "        text-align: right;\n",
       "    }\n",
       "</style>\n",
       "<table border=\"1\" class=\"dataframe\">\n",
       "  <thead>\n",
       "    <tr style=\"text-align: right;\">\n",
       "      <th></th>\n",
       "      <th>Unnamed: 0</th>\n",
       "      <th>Message-ID</th>\n",
       "      <th>Date</th>\n",
       "      <th>From</th>\n",
       "      <th>To</th>\n",
       "      <th>Subject</th>\n",
       "      <th>X-From</th>\n",
       "      <th>X-To</th>\n",
       "      <th>X-cc</th>\n",
       "      <th>X-bcc</th>\n",
       "      <th>...</th>\n",
       "      <th>Cat_10_level_1</th>\n",
       "      <th>Cat_10_level_2</th>\n",
       "      <th>Cat_10_weight</th>\n",
       "      <th>Cat_11_level_1</th>\n",
       "      <th>Cat_11_level_2</th>\n",
       "      <th>Cat_11_weight</th>\n",
       "      <th>Cat_12_level_1</th>\n",
       "      <th>Cat_12_level_2</th>\n",
       "      <th>Cat_12_weight</th>\n",
       "      <th>labeled</th>\n",
       "    </tr>\n",
       "  </thead>\n",
       "  <tbody>\n",
       "    <tr>\n",
       "      <th>0</th>\n",
       "      <td>403470</td>\n",
       "      <td>&lt;117238.1075846810566.JavaMail.evans@thyme&gt;</td>\n",
       "      <td>2000-12-11 09:22:00</td>\n",
       "      <td>frozenset({'susan.scott@enron.com'})</td>\n",
       "      <td>frozenset({'alicia.perkins@enron.com'})</td>\n",
       "      <td>Re: Travel</td>\n",
       "      <td>Susan M Scott</td>\n",
       "      <td>Alicia Perkins</td>\n",
       "      <td>katyhester@hotmail.com</td>\n",
       "      <td>NaN</td>\n",
       "      <td>...</td>\n",
       "      <td>NaN</td>\n",
       "      <td>NaN</td>\n",
       "      <td>NaN</td>\n",
       "      <td>NaN</td>\n",
       "      <td>NaN</td>\n",
       "      <td>NaN</td>\n",
       "      <td>NaN</td>\n",
       "      <td>NaN</td>\n",
       "      <td>NaN</td>\n",
       "      <td>False</td>\n",
       "    </tr>\n",
       "    <tr>\n",
       "      <th>1</th>\n",
       "      <td>130904</td>\n",
       "      <td>&lt;12689165.1075853747639.JavaMail.evans@thyme&gt;</td>\n",
       "      <td>2000-03-09 10:00:00</td>\n",
       "      <td>frozenset({'scott.goodell@enron.com'})</td>\n",
       "      <td>frozenset({'chris.germany@enron.com'})</td>\n",
       "      <td>Re: k#65403</td>\n",
       "      <td>Scott Goodell</td>\n",
       "      <td>Chris Germany</td>\n",
       "      <td>NaN</td>\n",
       "      <td>NaN</td>\n",
       "      <td>...</td>\n",
       "      <td>NaN</td>\n",
       "      <td>NaN</td>\n",
       "      <td>NaN</td>\n",
       "      <td>NaN</td>\n",
       "      <td>NaN</td>\n",
       "      <td>NaN</td>\n",
       "      <td>NaN</td>\n",
       "      <td>NaN</td>\n",
       "      <td>NaN</td>\n",
       "      <td>False</td>\n",
       "    </tr>\n",
       "    <tr>\n",
       "      <th>2</th>\n",
       "      <td>217372</td>\n",
       "      <td>&lt;12058190.1075856802090.JavaMail.evans@thyme&gt;</td>\n",
       "      <td>2000-02-04 18:14:00</td>\n",
       "      <td>frozenset({'vince.kaminski@enron.com'})</td>\n",
       "      <td>frozenset({'vkaminski@aol.com'})</td>\n",
       "      <td>El Paso / ENA Deal Completely Terminated Now</td>\n",
       "      <td>Vince J Kaminski</td>\n",
       "      <td>vkaminski@aol.com</td>\n",
       "      <td>NaN</td>\n",
       "      <td>NaN</td>\n",
       "      <td>...</td>\n",
       "      <td>NaN</td>\n",
       "      <td>NaN</td>\n",
       "      <td>NaN</td>\n",
       "      <td>NaN</td>\n",
       "      <td>NaN</td>\n",
       "      <td>NaN</td>\n",
       "      <td>NaN</td>\n",
       "      <td>NaN</td>\n",
       "      <td>NaN</td>\n",
       "      <td>False</td>\n",
       "    </tr>\n",
       "    <tr>\n",
       "      <th>3</th>\n",
       "      <td>376779</td>\n",
       "      <td>&lt;1251997.1075857131869.JavaMail.evans@thyme&gt;</td>\n",
       "      <td>2000-11-01 12:34:00</td>\n",
       "      <td>frozenset({'benjamin.rogers@enron.com'})</td>\n",
       "      <td>frozenset({'patty.donahue@chase.com'})</td>\n",
       "      <td>Re: FW: winnie_t</td>\n",
       "      <td>Benjamin Rogers</td>\n",
       "      <td>\"Donahue, Patty\" &lt;Patty.Donahue@Chase.com&gt; @ E...</td>\n",
       "      <td>NaN</td>\n",
       "      <td>NaN</td>\n",
       "      <td>...</td>\n",
       "      <td>NaN</td>\n",
       "      <td>NaN</td>\n",
       "      <td>NaN</td>\n",
       "      <td>NaN</td>\n",
       "      <td>NaN</td>\n",
       "      <td>NaN</td>\n",
       "      <td>NaN</td>\n",
       "      <td>NaN</td>\n",
       "      <td>NaN</td>\n",
       "      <td>False</td>\n",
       "    </tr>\n",
       "    <tr>\n",
       "      <th>4</th>\n",
       "      <td>63707</td>\n",
       "      <td>&lt;23661622.1075843051592.JavaMail.evans@thyme&gt;</td>\n",
       "      <td>2000-11-29 15:43:00</td>\n",
       "      <td>frozenset({'jeff.dasovich@enron.com'})</td>\n",
       "      <td>frozenset({'joseph.alamo@enron.com'})</td>\n",
       "      <td>Re: Address Information</td>\n",
       "      <td>Jeff Dasovich</td>\n",
       "      <td>Joseph Alamo</td>\n",
       "      <td>NaN</td>\n",
       "      <td>NaN</td>\n",
       "      <td>...</td>\n",
       "      <td>NaN</td>\n",
       "      <td>NaN</td>\n",
       "      <td>NaN</td>\n",
       "      <td>NaN</td>\n",
       "      <td>NaN</td>\n",
       "      <td>NaN</td>\n",
       "      <td>NaN</td>\n",
       "      <td>NaN</td>\n",
       "      <td>NaN</td>\n",
       "      <td>False</td>\n",
       "    </tr>\n",
       "  </tbody>\n",
       "</table>\n",
       "<p>5 rows × 52 columns</p>\n",
       "</div>"
      ],
      "text/plain": [
       "   Unnamed: 0                                     Message-ID  \\\n",
       "0      403470    <117238.1075846810566.JavaMail.evans@thyme>   \n",
       "1      130904  <12689165.1075853747639.JavaMail.evans@thyme>   \n",
       "2      217372  <12058190.1075856802090.JavaMail.evans@thyme>   \n",
       "3      376779   <1251997.1075857131869.JavaMail.evans@thyme>   \n",
       "4       63707  <23661622.1075843051592.JavaMail.evans@thyme>   \n",
       "\n",
       "                  Date                                      From  \\\n",
       "0  2000-12-11 09:22:00      frozenset({'susan.scott@enron.com'})   \n",
       "1  2000-03-09 10:00:00    frozenset({'scott.goodell@enron.com'})   \n",
       "2  2000-02-04 18:14:00   frozenset({'vince.kaminski@enron.com'})   \n",
       "3  2000-11-01 12:34:00  frozenset({'benjamin.rogers@enron.com'})   \n",
       "4  2000-11-29 15:43:00    frozenset({'jeff.dasovich@enron.com'})   \n",
       "\n",
       "                                        To  \\\n",
       "0  frozenset({'alicia.perkins@enron.com'})   \n",
       "1   frozenset({'chris.germany@enron.com'})   \n",
       "2         frozenset({'vkaminski@aol.com'})   \n",
       "3   frozenset({'patty.donahue@chase.com'})   \n",
       "4    frozenset({'joseph.alamo@enron.com'})   \n",
       "\n",
       "                                        Subject            X-From  \\\n",
       "0                                    Re: Travel     Susan M Scott   \n",
       "1                                   Re: k#65403     Scott Goodell   \n",
       "2  El Paso / ENA Deal Completely Terminated Now  Vince J Kaminski   \n",
       "3                              Re: FW: winnie_t   Benjamin Rogers   \n",
       "4                       Re: Address Information     Jeff Dasovich   \n",
       "\n",
       "                                                X-To                    X-cc  \\\n",
       "0                                     Alicia Perkins  katyhester@hotmail.com   \n",
       "1                                      Chris Germany                     NaN   \n",
       "2                                  vkaminski@aol.com                     NaN   \n",
       "3  \"Donahue, Patty\" <Patty.Donahue@Chase.com> @ E...                     NaN   \n",
       "4                                       Joseph Alamo                     NaN   \n",
       "\n",
       "  X-bcc  ... Cat_10_level_1 Cat_10_level_2 Cat_10_weight Cat_11_level_1  \\\n",
       "0   NaN  ...            NaN            NaN           NaN            NaN   \n",
       "1   NaN  ...            NaN            NaN           NaN            NaN   \n",
       "2   NaN  ...            NaN            NaN           NaN            NaN   \n",
       "3   NaN  ...            NaN            NaN           NaN            NaN   \n",
       "4   NaN  ...            NaN            NaN           NaN            NaN   \n",
       "\n",
       "  Cat_11_level_2  Cat_11_weight  Cat_12_level_1  Cat_12_level_2  \\\n",
       "0            NaN            NaN             NaN             NaN   \n",
       "1            NaN            NaN             NaN             NaN   \n",
       "2            NaN            NaN             NaN             NaN   \n",
       "3            NaN            NaN             NaN             NaN   \n",
       "4            NaN            NaN             NaN             NaN   \n",
       "\n",
       "   Cat_12_weight  labeled  \n",
       "0            NaN    False  \n",
       "1            NaN    False  \n",
       "2            NaN    False  \n",
       "3            NaN    False  \n",
       "4            NaN    False  \n",
       "\n",
       "[5 rows x 52 columns]"
      ]
     },
     "execution_count": 3,
     "metadata": {},
     "output_type": "execute_result"
    }
   ],
   "source": [
    "data.head()"
   ]
  },
  {
   "cell_type": "code",
   "execution_count": 4,
   "metadata": {},
   "outputs": [
    {
     "name": "stdout",
     "output_type": "stream",
     "text": [
      "<class 'pandas.core.frame.DataFrame'>\n",
      "RangeIndex: 103480 entries, 0 to 103479\n",
      "Data columns (total 52 columns):\n",
      " #   Column          Non-Null Count   Dtype  \n",
      "---  ------          --------------   -----  \n",
      " 0   Unnamed: 0      103480 non-null  int64  \n",
      " 1   Message-ID      103480 non-null  object \n",
      " 2   Date            103480 non-null  object \n",
      " 3   From            103480 non-null  object \n",
      " 4   To              99165 non-null   object \n",
      " 5   Subject         99656 non-null   object \n",
      " 6   X-From          103476 non-null  object \n",
      " 7   X-To            101679 non-null  object \n",
      " 8   X-cc            25663 non-null   object \n",
      " 9   X-bcc           39 non-null      object \n",
      " 10  X-Folder        103476 non-null  object \n",
      " 11  X-Origin        103476 non-null  object \n",
      " 12  X-FileName      102624 non-null  object \n",
      " 13  content         103246 non-null  object \n",
      " 14  user            103480 non-null  object \n",
      " 15  Cat_1_level_1   327 non-null     float64\n",
      " 16  Cat_1_level_2   327 non-null     float64\n",
      " 17  Cat_1_weight    327 non-null     float64\n",
      " 18  Cat_2_level_1   289 non-null     float64\n",
      " 19  Cat_2_level_2   289 non-null     float64\n",
      " 20  Cat_2_weight    289 non-null     float64\n",
      " 21  Cat_3_level_1   232 non-null     float64\n",
      " 22  Cat_3_level_2   232 non-null     float64\n",
      " 23  Cat_3_weight    232 non-null     float64\n",
      " 24  Cat_4_level_1   146 non-null     float64\n",
      " 25  Cat_4_level_2   146 non-null     float64\n",
      " 26  Cat_4_weight    146 non-null     float64\n",
      " 27  Cat_5_level_1   77 non-null      float64\n",
      " 28  Cat_5_level_2   77 non-null      float64\n",
      " 29  Cat_5_weight    77 non-null      float64\n",
      " 30  Cat_6_level_1   30 non-null      float64\n",
      " 31  Cat_6_level_2   30 non-null      float64\n",
      " 32  Cat_6_weight    30 non-null      float64\n",
      " 33  Cat_7_level_1   10 non-null      float64\n",
      " 34  Cat_7_level_2   10 non-null      float64\n",
      " 35  Cat_7_weight    10 non-null      float64\n",
      " 36  Cat_8_level_1   2 non-null       float64\n",
      " 37  Cat_8_level_2   2 non-null       float64\n",
      " 38  Cat_8_weight    2 non-null       float64\n",
      " 39  Cat_9_level_1   1 non-null       float64\n",
      " 40  Cat_9_level_2   1 non-null       float64\n",
      " 41  Cat_9_weight    1 non-null       float64\n",
      " 42  Cat_10_level_1  0 non-null       float64\n",
      " 43  Cat_10_level_2  0 non-null       float64\n",
      " 44  Cat_10_weight   0 non-null       float64\n",
      " 45  Cat_11_level_1  0 non-null       float64\n",
      " 46  Cat_11_level_2  0 non-null       float64\n",
      " 47  Cat_11_weight   0 non-null       float64\n",
      " 48  Cat_12_level_1  0 non-null       float64\n",
      " 49  Cat_12_level_2  0 non-null       float64\n",
      " 50  Cat_12_weight   0 non-null       float64\n",
      " 51  labeled         103480 non-null  bool   \n",
      "dtypes: bool(1), float64(36), int64(1), object(14)\n",
      "memory usage: 40.4+ MB\n"
     ]
    }
   ],
   "source": [
    "data.info()"
   ]
  },
  {
   "cell_type": "code",
   "execution_count": 5,
   "metadata": {},
   "outputs": [
    {
     "data": {
      "text/html": [
       "<div>\n",
       "<style scoped>\n",
       "    .dataframe tbody tr th:only-of-type {\n",
       "        vertical-align: middle;\n",
       "    }\n",
       "\n",
       "    .dataframe tbody tr th {\n",
       "        vertical-align: top;\n",
       "    }\n",
       "\n",
       "    .dataframe thead th {\n",
       "        text-align: right;\n",
       "    }\n",
       "</style>\n",
       "<table border=\"1\" class=\"dataframe\">\n",
       "  <thead>\n",
       "    <tr style=\"text-align: right;\">\n",
       "      <th></th>\n",
       "      <th>Unnamed: 0</th>\n",
       "      <th>Cat_1_level_1</th>\n",
       "      <th>Cat_1_level_2</th>\n",
       "      <th>Cat_1_weight</th>\n",
       "      <th>Cat_2_level_1</th>\n",
       "      <th>Cat_2_level_2</th>\n",
       "      <th>Cat_2_weight</th>\n",
       "      <th>Cat_3_level_1</th>\n",
       "      <th>Cat_3_level_2</th>\n",
       "      <th>Cat_3_weight</th>\n",
       "      <th>...</th>\n",
       "      <th>Cat_9_weight</th>\n",
       "      <th>Cat_10_level_1</th>\n",
       "      <th>Cat_10_level_2</th>\n",
       "      <th>Cat_10_weight</th>\n",
       "      <th>Cat_11_level_1</th>\n",
       "      <th>Cat_11_level_2</th>\n",
       "      <th>Cat_11_weight</th>\n",
       "      <th>Cat_12_level_1</th>\n",
       "      <th>Cat_12_level_2</th>\n",
       "      <th>Cat_12_weight</th>\n",
       "    </tr>\n",
       "  </thead>\n",
       "  <tbody>\n",
       "    <tr>\n",
       "      <th>count</th>\n",
       "      <td>103480.000000</td>\n",
       "      <td>327.0</td>\n",
       "      <td>327.000000</td>\n",
       "      <td>327.000000</td>\n",
       "      <td>289.000000</td>\n",
       "      <td>289.000000</td>\n",
       "      <td>289.000000</td>\n",
       "      <td>232.000000</td>\n",
       "      <td>232.000000</td>\n",
       "      <td>232.000000</td>\n",
       "      <td>...</td>\n",
       "      <td>1.0</td>\n",
       "      <td>0.0</td>\n",
       "      <td>0.0</td>\n",
       "      <td>0.0</td>\n",
       "      <td>0.0</td>\n",
       "      <td>0.0</td>\n",
       "      <td>0.0</td>\n",
       "      <td>0.0</td>\n",
       "      <td>0.0</td>\n",
       "      <td>0.0</td>\n",
       "    </tr>\n",
       "    <tr>\n",
       "      <th>mean</th>\n",
       "      <td>258428.879928</td>\n",
       "      <td>1.0</td>\n",
       "      <td>2.581040</td>\n",
       "      <td>1.651376</td>\n",
       "      <td>2.003460</td>\n",
       "      <td>3.069204</td>\n",
       "      <td>1.591696</td>\n",
       "      <td>2.327586</td>\n",
       "      <td>3.982759</td>\n",
       "      <td>1.538793</td>\n",
       "      <td>...</td>\n",
       "      <td>1.0</td>\n",
       "      <td>NaN</td>\n",
       "      <td>NaN</td>\n",
       "      <td>NaN</td>\n",
       "      <td>NaN</td>\n",
       "      <td>NaN</td>\n",
       "      <td>NaN</td>\n",
       "      <td>NaN</td>\n",
       "      <td>NaN</td>\n",
       "      <td>NaN</td>\n",
       "    </tr>\n",
       "    <tr>\n",
       "      <th>std</th>\n",
       "      <td>149261.811705</td>\n",
       "      <td>0.0</td>\n",
       "      <td>1.916671</td>\n",
       "      <td>0.496172</td>\n",
       "      <td>0.530319</td>\n",
       "      <td>3.196469</td>\n",
       "      <td>0.513093</td>\n",
       "      <td>0.585183</td>\n",
       "      <td>3.618095</td>\n",
       "      <td>0.524924</td>\n",
       "      <td>...</td>\n",
       "      <td>NaN</td>\n",
       "      <td>NaN</td>\n",
       "      <td>NaN</td>\n",
       "      <td>NaN</td>\n",
       "      <td>NaN</td>\n",
       "      <td>NaN</td>\n",
       "      <td>NaN</td>\n",
       "      <td>NaN</td>\n",
       "      <td>NaN</td>\n",
       "      <td>NaN</td>\n",
       "    </tr>\n",
       "    <tr>\n",
       "      <th>min</th>\n",
       "      <td>6.000000</td>\n",
       "      <td>1.0</td>\n",
       "      <td>1.000000</td>\n",
       "      <td>1.000000</td>\n",
       "      <td>1.000000</td>\n",
       "      <td>1.000000</td>\n",
       "      <td>1.000000</td>\n",
       "      <td>1.000000</td>\n",
       "      <td>1.000000</td>\n",
       "      <td>1.000000</td>\n",
       "      <td>...</td>\n",
       "      <td>1.0</td>\n",
       "      <td>NaN</td>\n",
       "      <td>NaN</td>\n",
       "      <td>NaN</td>\n",
       "      <td>NaN</td>\n",
       "      <td>NaN</td>\n",
       "      <td>NaN</td>\n",
       "      <td>NaN</td>\n",
       "      <td>NaN</td>\n",
       "      <td>NaN</td>\n",
       "    </tr>\n",
       "    <tr>\n",
       "      <th>25%</th>\n",
       "      <td>129517.250000</td>\n",
       "      <td>1.0</td>\n",
       "      <td>1.000000</td>\n",
       "      <td>1.000000</td>\n",
       "      <td>2.000000</td>\n",
       "      <td>1.000000</td>\n",
       "      <td>1.000000</td>\n",
       "      <td>2.000000</td>\n",
       "      <td>2.000000</td>\n",
       "      <td>1.000000</td>\n",
       "      <td>...</td>\n",
       "      <td>1.0</td>\n",
       "      <td>NaN</td>\n",
       "      <td>NaN</td>\n",
       "      <td>NaN</td>\n",
       "      <td>NaN</td>\n",
       "      <td>NaN</td>\n",
       "      <td>NaN</td>\n",
       "      <td>NaN</td>\n",
       "      <td>NaN</td>\n",
       "      <td>NaN</td>\n",
       "    </tr>\n",
       "    <tr>\n",
       "      <th>50%</th>\n",
       "      <td>258514.500000</td>\n",
       "      <td>1.0</td>\n",
       "      <td>1.000000</td>\n",
       "      <td>2.000000</td>\n",
       "      <td>2.000000</td>\n",
       "      <td>2.000000</td>\n",
       "      <td>2.000000</td>\n",
       "      <td>2.000000</td>\n",
       "      <td>2.000000</td>\n",
       "      <td>2.000000</td>\n",
       "      <td>...</td>\n",
       "      <td>1.0</td>\n",
       "      <td>NaN</td>\n",
       "      <td>NaN</td>\n",
       "      <td>NaN</td>\n",
       "      <td>NaN</td>\n",
       "      <td>NaN</td>\n",
       "      <td>NaN</td>\n",
       "      <td>NaN</td>\n",
       "      <td>NaN</td>\n",
       "      <td>NaN</td>\n",
       "    </tr>\n",
       "    <tr>\n",
       "      <th>75%</th>\n",
       "      <td>387474.250000</td>\n",
       "      <td>1.0</td>\n",
       "      <td>4.000000</td>\n",
       "      <td>2.000000</td>\n",
       "      <td>2.000000</td>\n",
       "      <td>4.000000</td>\n",
       "      <td>2.000000</td>\n",
       "      <td>3.000000</td>\n",
       "      <td>6.000000</td>\n",
       "      <td>2.000000</td>\n",
       "      <td>...</td>\n",
       "      <td>1.0</td>\n",
       "      <td>NaN</td>\n",
       "      <td>NaN</td>\n",
       "      <td>NaN</td>\n",
       "      <td>NaN</td>\n",
       "      <td>NaN</td>\n",
       "      <td>NaN</td>\n",
       "      <td>NaN</td>\n",
       "      <td>NaN</td>\n",
       "      <td>NaN</td>\n",
       "    </tr>\n",
       "    <tr>\n",
       "      <th>max</th>\n",
       "      <td>517400.000000</td>\n",
       "      <td>1.0</td>\n",
       "      <td>8.000000</td>\n",
       "      <td>3.000000</td>\n",
       "      <td>4.000000</td>\n",
       "      <td>13.000000</td>\n",
       "      <td>3.000000</td>\n",
       "      <td>4.000000</td>\n",
       "      <td>13.000000</td>\n",
       "      <td>4.000000</td>\n",
       "      <td>...</td>\n",
       "      <td>1.0</td>\n",
       "      <td>NaN</td>\n",
       "      <td>NaN</td>\n",
       "      <td>NaN</td>\n",
       "      <td>NaN</td>\n",
       "      <td>NaN</td>\n",
       "      <td>NaN</td>\n",
       "      <td>NaN</td>\n",
       "      <td>NaN</td>\n",
       "      <td>NaN</td>\n",
       "    </tr>\n",
       "  </tbody>\n",
       "</table>\n",
       "<p>8 rows × 37 columns</p>\n",
       "</div>"
      ],
      "text/plain": [
       "          Unnamed: 0  Cat_1_level_1  Cat_1_level_2  Cat_1_weight  \\\n",
       "count  103480.000000          327.0     327.000000    327.000000   \n",
       "mean   258428.879928            1.0       2.581040      1.651376   \n",
       "std    149261.811705            0.0       1.916671      0.496172   \n",
       "min         6.000000            1.0       1.000000      1.000000   \n",
       "25%    129517.250000            1.0       1.000000      1.000000   \n",
       "50%    258514.500000            1.0       1.000000      2.000000   \n",
       "75%    387474.250000            1.0       4.000000      2.000000   \n",
       "max    517400.000000            1.0       8.000000      3.000000   \n",
       "\n",
       "       Cat_2_level_1  Cat_2_level_2  Cat_2_weight  Cat_3_level_1  \\\n",
       "count     289.000000     289.000000    289.000000     232.000000   \n",
       "mean        2.003460       3.069204      1.591696       2.327586   \n",
       "std         0.530319       3.196469      0.513093       0.585183   \n",
       "min         1.000000       1.000000      1.000000       1.000000   \n",
       "25%         2.000000       1.000000      1.000000       2.000000   \n",
       "50%         2.000000       2.000000      2.000000       2.000000   \n",
       "75%         2.000000       4.000000      2.000000       3.000000   \n",
       "max         4.000000      13.000000      3.000000       4.000000   \n",
       "\n",
       "       Cat_3_level_2  Cat_3_weight  ...  Cat_9_weight  Cat_10_level_1  \\\n",
       "count     232.000000    232.000000  ...           1.0             0.0   \n",
       "mean        3.982759      1.538793  ...           1.0             NaN   \n",
       "std         3.618095      0.524924  ...           NaN             NaN   \n",
       "min         1.000000      1.000000  ...           1.0             NaN   \n",
       "25%         2.000000      1.000000  ...           1.0             NaN   \n",
       "50%         2.000000      2.000000  ...           1.0             NaN   \n",
       "75%         6.000000      2.000000  ...           1.0             NaN   \n",
       "max        13.000000      4.000000  ...           1.0             NaN   \n",
       "\n",
       "       Cat_10_level_2  Cat_10_weight  Cat_11_level_1  Cat_11_level_2  \\\n",
       "count             0.0            0.0             0.0             0.0   \n",
       "mean              NaN            NaN             NaN             NaN   \n",
       "std               NaN            NaN             NaN             NaN   \n",
       "min               NaN            NaN             NaN             NaN   \n",
       "25%               NaN            NaN             NaN             NaN   \n",
       "50%               NaN            NaN             NaN             NaN   \n",
       "75%               NaN            NaN             NaN             NaN   \n",
       "max               NaN            NaN             NaN             NaN   \n",
       "\n",
       "       Cat_11_weight  Cat_12_level_1  Cat_12_level_2  Cat_12_weight  \n",
       "count            0.0             0.0             0.0            0.0  \n",
       "mean             NaN             NaN             NaN            NaN  \n",
       "std              NaN             NaN             NaN            NaN  \n",
       "min              NaN             NaN             NaN            NaN  \n",
       "25%              NaN             NaN             NaN            NaN  \n",
       "50%              NaN             NaN             NaN            NaN  \n",
       "75%              NaN             NaN             NaN            NaN  \n",
       "max              NaN             NaN             NaN            NaN  \n",
       "\n",
       "[8 rows x 37 columns]"
      ]
     },
     "execution_count": 5,
     "metadata": {},
     "output_type": "execute_result"
    }
   ],
   "source": [
    "data.describe()"
   ]
  },
  {
   "cell_type": "code",
   "execution_count": 6,
   "metadata": {},
   "outputs": [
    {
     "data": {
      "text/plain": [
       "0         2000-12-11 09:22:00\n",
       "1         2000-03-09 10:00:00\n",
       "2         2000-02-04 18:14:00\n",
       "3         2000-11-01 12:34:00\n",
       "4         2000-11-29 15:43:00\n",
       "                 ...         \n",
       "103475    1999-09-09 17:51:00\n",
       "103476    2001-05-03 13:34:00\n",
       "103477    2000-08-21 17:33:00\n",
       "103478    2001-01-17 18:11:00\n",
       "103479    2001-04-13 10:43:00\n",
       "Name: Date, Length: 103480, dtype: object"
      ]
     },
     "execution_count": 6,
     "metadata": {},
     "output_type": "execute_result"
    }
   ],
   "source": [
    "data['Date']"
   ]
  },
  {
   "cell_type": "code",
   "execution_count": 7,
   "metadata": {},
   "outputs": [
    {
     "data": {
      "text/plain": [
       "'09:22:00'"
      ]
     },
     "execution_count": 7,
     "metadata": {},
     "output_type": "execute_result"
    }
   ],
   "source": [
    "data['Date'][0].split()[1]"
   ]
  },
  {
   "cell_type": "code",
   "execution_count": 8,
   "metadata": {},
   "outputs": [],
   "source": [
    "import seaborn as sns"
   ]
  },
  {
   "cell_type": "markdown",
   "metadata": {},
   "source": [
    "# Check missing data"
   ]
  },
  {
   "cell_type": "code",
   "execution_count": 11,
   "metadata": {},
   "outputs": [
    {
     "data": {
      "text/plain": [
       "<matplotlib.axes._subplots.AxesSubplot at 0x291ac9f7e88>"
      ]
     },
     "execution_count": 11,
     "metadata": {},
     "output_type": "execute_result"
    },
    {
     "data": {
      "image/png": "[encoded data removed]",
      "text/plain": [
       "<Figure size 432x288 with 2 Axes>"
      ]
     },
     "metadata": {
      "needs_background": "light"
     },
     "output_type": "display_data"
    }
   ],
   "source": [
    "sns.heatmap(data.isnull(),yticklabels=False)"
   ]
  },
  {
   "cell_type": "markdown",
   "metadata": {},
   "source": [
    "### As data in 'cat_levels' columns is missing, we will drop those!"
   ]
  },
  {
   "cell_type": "code",
   "execution_count": 12,
   "metadata": {},
   "outputs": [],
   "source": [
    "data.drop(['Cat_1_level_1','Cat_2_level_1','Cat_3_level_1','Cat_4_level_1','Cat_5_level_1','Cat_6_level_1','Cat_7_level_1','Cat_8_level_1','Cat_9_level_1','Cat_10_level_1','Cat_11_level_1','Cat_12_level_1'], axis = 1 , inplace=True)"
   ]
  },
  {
   "cell_type": "code",
   "execution_count": 13,
   "metadata": {},
   "outputs": [
    {
     "data": {
      "text/plain": [
       "<matplotlib.axes._subplots.AxesSubplot at 0x291b19cf808>"
      ]
     },
     "execution_count": 13,
     "metadata": {},
     "output_type": "execute_result"
    },
    {
     "data": {
      "image/png": "[encoded data removed]",
      "text/plain": [
       "<Figure size 432x288 with 2 Axes>"
      ]
     },
     "metadata": {
      "needs_background": "light"
     },
     "output_type": "display_data"
    }
   ],
   "source": [
    "sns.heatmap(data.isnull(),yticklabels=False)"
   ]
  },
  {
   "cell_type": "code",
   "execution_count": 14,
   "metadata": {},
   "outputs": [],
   "source": [
    "data.drop(['Cat_1_weight','Cat_2_weight','Cat_3_weight','Cat_4_weight','Cat_5_weight','Cat_6_weight','Cat_7_weight','Cat_8_weight','Cat_9_weight','Cat_10_weight','Cat_11_weight','Cat_12_weight'],axis=1,inplace=True)"
   ]
  },
  {
   "cell_type": "code",
   "execution_count": 15,
   "metadata": {},
   "outputs": [
    {
     "data": {
      "text/plain": [
       "<matplotlib.axes._subplots.AxesSubplot at 0x291acae90c8>"
      ]
     },
     "execution_count": 15,
     "metadata": {},
     "output_type": "execute_result"
    },
    {
     "data": {
      "image/png": "[encoded data removed]",
      "text/plain": [
       "<Figure size 432x288 with 2 Axes>"
      ]
     },
     "metadata": {
      "needs_background": "light"
     },
     "output_type": "display_data"
    }
   ],
   "source": [
    "sns.heatmap(data.isnull(),yticklabels=False)"
   ]
  },
  {
   "cell_type": "code",
   "execution_count": 16,
   "metadata": {},
   "outputs": [],
   "source": [
    "data.drop(['Cat_2_level_2','Cat_4_level_2','Cat_6_level_2','Cat_8_level_2','Cat_10_level_2','Cat_12_level_2'],axis=1,inplace=True)"
   ]
  },
  {
   "cell_type": "code",
   "execution_count": 17,
   "metadata": {},
   "outputs": [
    {
     "data": {
      "text/plain": [
       "<matplotlib.axes._subplots.AxesSubplot at 0x291b1c39388>"
      ]
     },
     "execution_count": 17,
     "metadata": {},
     "output_type": "execute_result"
    },
    {
     "data": {
      "image/png": "[encoded data removed]",
      "text/plain": [
       "<Figure size 432x288 with 2 Axes>"
      ]
     },
     "metadata": {
      "needs_background": "light"
     },
     "output_type": "display_data"
    }
   ],
   "source": [
    "sns.heatmap(data.isnull(),yticklabels=False)"
   ]
  },
  {
   "cell_type": "code",
   "execution_count": 19,
   "metadata": {},
   "outputs": [],
   "source": [
    "data.drop(['Cat_1_level_2','Cat_3_level_2','Cat_5_level_2','Cat_7_level_2','Cat_9_level_2','Cat_11_level_2'],axis=1,inplace=True)"
   ]
  },
  {
   "cell_type": "code",
   "execution_count": 20,
   "metadata": {},
   "outputs": [
    {
     "data": {
      "text/plain": [
       "<matplotlib.axes._subplots.AxesSubplot at 0x291b1fe0488>"
      ]
     },
     "execution_count": 20,
     "metadata": {},
     "output_type": "execute_result"
    },
    {
     "data": {
      "image/png": "[encoded data removed]",
      "text/plain": [
       "<Figure size 432x288 with 2 Axes>"
      ]
     },
     "metadata": {
      "needs_background": "light"
     },
     "output_type": "display_data"
    }
   ],
   "source": [
    "sns.heatmap(data.isnull(),yticklabels=False)"
   ]
  },
  {
   "cell_type": "markdown",
   "metadata": {},
   "source": [
    "#### Huh! A lot of dropping in data, still 1 more to go! "
   ]
  },
  {
   "cell_type": "code",
   "execution_count": 22,
   "metadata": {},
   "outputs": [],
   "source": [
    "data.drop(['X-bcc'],axis=1,inplace=True)"
   ]
  },
  {
   "cell_type": "code",
   "execution_count": 23,
   "metadata": {},
   "outputs": [
    {
     "data": {
      "text/plain": [
       "<matplotlib.axes._subplots.AxesSubplot at 0x291b20d9808>"
      ]
     },
     "execution_count": 23,
     "metadata": {},
     "output_type": "execute_result"
    },
    {
     "data": {
      "image/png": "[encoded data removed]",
      "text/plain": [
       "<Figure size 432x288 with 2 Axes>"
      ]
     },
     "metadata": {
      "needs_background": "light"
     },
     "output_type": "display_data"
    }
   ],
   "source": [
    "sns.heatmap(data.isnull(),yticklabels=False)"
   ]
  },
  {
   "cell_type": "code",
   "execution_count": 32,
   "metadata": {
    "scrolled": true
   },
   "outputs": [
    {
     "data": {
      "text/plain": [
       "0                   frozenset({'alicia.perkins@enron.com'})\n",
       "1                    frozenset({'chris.germany@enron.com'})\n",
       "2                          frozenset({'vkaminski@aol.com'})\n",
       "3                    frozenset({'patty.donahue@chase.com'})\n",
       "4                     frozenset({'joseph.alamo@enron.com'})\n",
       "                                ...                        \n",
       "103475              frozenset({'ferazzi@emrecruiting.com'})\n",
       "103476    frozenset({'james.steffes@enron.com', 'richard...\n",
       "103477             frozenset({'martin.penkwitz@enron.com'})\n",
       "103478           frozenset({'victor.guggenheim@enron.com'})\n",
       "103479                  frozenset({'pete.davis@enron.com'})\n",
       "Name: To, Length: 103480, dtype: object"
      ]
     },
     "execution_count": 32,
     "metadata": {},
     "output_type": "execute_result"
    }
   ],
   "source": []
  },
  {
   "cell_type": "code",
   "execution_count": 30,
   "metadata": {},
   "outputs": [],
   "source": []
  },
  {
   "cell_type": "code",
   "execution_count": 31,
   "metadata": {},
   "outputs": [
    {
     "data": {
      "text/plain": [
       "0                                    katyhester@hotmail.com\n",
       "1                                                       NaN\n",
       "2                                                       NaN\n",
       "3                                                       NaN\n",
       "4                                                       NaN\n",
       "                                ...                        \n",
       "103475                                                  NaN\n",
       "103476                                      Linda Robertson\n",
       "103477                                                  NaN\n",
       "103478                                                  NaN\n",
       "103479    bert.meyers@enron.com, bill.williams.III@enron...\n",
       "Name: X-cc, Length: 103480, dtype: object"
      ]
     },
     "execution_count": 31,
     "metadata": {},
     "output_type": "execute_result"
    }
   ],
   "source": []
  },
  {
   "cell_type": "code",
   "execution_count": null,
   "metadata": {},
   "outputs": [],
   "source": []
  }
 ],
 "metadata": {
  "kernelspec": {
   "display_name": "Python 3",
   "language": "python",
   "name": "python3"
  },
  "language_info": {
   "codemirror_mode": {
    "name": "ipython",
    "version": 3
   },
   "file_extension": ".py",
   "mimetype": "text/x-python",
   "name": "python",
   "nbconvert_exporter": "python",
   "pygments_lexer": "ipython3",
   "version": "3.7.6"
  }
 },
 "nbformat": 4,
 "nbformat_minor": 4
}
