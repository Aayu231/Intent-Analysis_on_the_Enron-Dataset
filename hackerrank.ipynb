{
 "cells": [
  {
   "cell_type": "code",
   "execution_count": 35,
   "metadata": {},
   "outputs": [],
   "source": [
    "def gradingStudents(grades):\n",
    "    # Write your code here\n",
    "    x = grades\n",
    "    if grades< 38:\n",
    "        return grades\n",
    "    elif grades%5 == 0:\n",
    "        return grades\n",
    "    else:\n",
    "        while(grades%5 != 0):\n",
    "            grades = grades+1\n",
    "        new = grades\n",
    "        diff = new -x\n",
    "        if diff<3:\n",
    "            return new\n",
    "        else:\n",
    "            return x"
   ]
  },
  {
   "cell_type": "code",
   "execution_count": 36,
   "metadata": {},
   "outputs": [
    {
     "data": {
      "text/plain": [
       "35"
      ]
     },
     "execution_count": 36,
     "metadata": {},
     "output_type": "execute_result"
    }
   ],
   "source": [
    "gradingStudents(35)"
   ]
  },
  {
   "cell_type": "code",
   "execution_count": 37,
   "metadata": {},
   "outputs": [
    {
     "data": {
      "text/plain": [
       "40"
      ]
     },
     "execution_count": 37,
     "metadata": {},
     "output_type": "execute_result"
    }
   ],
   "source": [
    "gradingStudents(38)"
   ]
  },
  {
   "cell_type": "code",
   "execution_count": 29,
   "metadata": {},
   "outputs": [
    {
     "data": {
      "text/plain": [
       "40"
      ]
     },
     "execution_count": 29,
     "metadata": {},
     "output_type": "execute_result"
    }
   ],
   "source": [
    "gradingStudents(40)"
   ]
  },
  {
   "cell_type": "code",
   "execution_count": 30,
   "metadata": {},
   "outputs": [],
   "source": [
    "r = gradingStudents(73)"
   ]
  },
  {
   "cell_type": "code",
   "execution_count": 31,
   "metadata": {},
   "outputs": [
    {
     "name": "stdout",
     "output_type": "stream",
     "text": [
      "75\n"
     ]
    }
   ],
   "source": [
    "print(r)"
   ]
  },
  {
   "cell_type": "code",
   "execution_count": 25,
   "metadata": {},
   "outputs": [
    {
     "name": "stdout",
     "output_type": "stream",
     "text": [
      "75\n",
      "75\n"
     ]
    }
   ],
   "source": [
    "x = 73\n",
    "y =73\n",
    "while(x%5 != 0):\n",
    "    x=x+1\n",
    "new = x\n",
    "print(new)\n",
    "diff = new-y\n",
    "if diff<3:\n",
    "    print(new)\n",
    "else:\n",
    "    print(y)\n"
   ]
  },
  {
   "cell_type": "code",
   "execution_count": 24,
   "metadata": {},
   "outputs": [
    {
     "data": {
      "text/plain": [
       "3"
      ]
     },
     "execution_count": 24,
     "metadata": {},
     "output_type": "execute_result"
    }
   ],
   "source": []
  },
  {
   "cell_type": "code",
   "execution_count": 32,
   "metadata": {},
   "outputs": [
    {
     "data": {
      "text/plain": [
       "67"
      ]
     },
     "execution_count": 32,
     "metadata": {},
     "output_type": "execute_result"
    }
   ],
   "source": [
    "gradingStudents(67)"
   ]
  },
  {
   "cell_type": "code",
   "execution_count": 33,
   "metadata": {},
   "outputs": [
    {
     "data": {
      "text/plain": [
       "33"
      ]
     },
     "execution_count": 33,
     "metadata": {},
     "output_type": "execute_result"
    }
   ],
   "source": [
    "gradingStudents(33)"
   ]
  },
  {
   "cell_type": "code",
   "execution_count": 34,
   "metadata": {},
   "outputs": [
    {
     "data": {
      "text/plain": [
       "38"
      ]
     },
     "execution_count": 34,
     "metadata": {},
     "output_type": "execute_result"
    }
   ],
   "source": [
    "gradingStudents(38)"
   ]
  },
  {
   "cell_type": "code",
   "execution_count": 38,
   "metadata": {},
   "outputs": [],
   "source": [
    "g =[23,45,67]\n",
    "l=g"
   ]
  },
  {
   "cell_type": "code",
   "execution_count": 39,
   "metadata": {},
   "outputs": [
    {
     "name": "stdout",
     "output_type": "stream",
     "text": [
      "[23, 45, 67]\n"
     ]
    }
   ],
   "source": [
    "print(l)"
   ]
  },
  {
   "cell_type": "code",
   "execution_count": 40,
   "metadata": {},
   "outputs": [],
   "source": [
    "def countApplesAndOranges(s, t, a, b, apples, oranges):\n",
    "    ca =0\n",
    "    co=0\n",
    "    for item in apples:\n",
    "        value = item+a\n",
    "        if value>=s and value<=t:\n",
    "            ca+=1\n",
    "        else:\n",
    "            continue\n",
    "    for item in oranges:\n",
    "        val2 = item +b\n",
    "        if val2>=s and val2<=t:\n",
    "            co+=1\n",
    "        else:\n",
    "            continue\n",
    "    print(ca)\n",
    "    print(co)\n",
    "    \n",
    "    "
   ]
  },
  {
   "cell_type": "code",
   "execution_count": 41,
   "metadata": {},
   "outputs": [
    {
     "name": "stdout",
     "output_type": "stream",
     "text": [
      "1\n",
      "1\n"
     ]
    }
   ],
   "source": [
    "countApplesAndOranges(7,11,5,15,[-2,2,1],[5,-6])"
   ]
  },
  {
   "cell_type": "code",
   "execution_count": 5,
   "metadata": {},
   "outputs": [],
   "source": [
    "def breakingRecords(scores):\n",
    "    low =scores[0]\n",
    "    high =scores[0]\n",
    "    l_count = 0\n",
    "    h_count = 0\n",
    "    for item in scores:\n",
    "        \n",
    "        if item >high :\n",
    "            high = item\n",
    "            h_count+=1\n",
    "        elif item<low:\n",
    "            low = item\n",
    "            l_count+=1\n",
    "        else:\n",
    "            continue\n",
    "    print(high , low)\n",
    "    return [h_count, l_count]"
   ]
  },
  {
   "cell_type": "code",
   "execution_count": 6,
   "metadata": {},
   "outputs": [
    {
     "name": "stdout",
     "output_type": "stream",
     "text": [
      "25 1\n",
      "[2, 4]\n"
     ]
    }
   ],
   "source": [
    "r = breakingRecords([10 ,5, 20 ,20 ,4, 5 ,2 ,25 ,1])\n",
    "print(r)"
   ]
  },
  {
   "cell_type": "code",
   "execution_count": 7,
   "metadata": {},
   "outputs": [],
   "source": [
    "l=[1,2,3,4]"
   ]
  },
  {
   "cell_type": "code",
   "execution_count": 8,
   "metadata": {},
   "outputs": [
    {
     "name": "stdout",
     "output_type": "stream",
     "text": [
      "[1, 2]\n"
     ]
    }
   ],
   "source": [
    "print(l[0:2])"
   ]
  },
  {
   "cell_type": "code",
   "execution_count": 22,
   "metadata": {},
   "outputs": [],
   "source": [
    "def birthday(s, d, m):\n",
    "    count =0\n",
    "    for i in range (len(s)):\n",
    "        req = s[i:i+m]\n",
    "        print(req)\n",
    "        total=0\n",
    "        if len(req)==m:\n",
    "            \n",
    "            for item in req:\n",
    "                total+=item\n",
    "            if total == d:\n",
    "                count+=1\n",
    "            else:\n",
    "                continue\n",
    "        else:\n",
    "            continue\n",
    "    return count\n"
   ]
  },
  {
   "cell_type": "code",
   "execution_count": 23,
   "metadata": {},
   "outputs": [
    {
     "name": "stdout",
     "output_type": "stream",
     "text": [
      "[2, 5, 1, 3, 4, 4, 3]\n",
      "[5, 1, 3, 4, 4, 3, 5]\n",
      "[1, 3, 4, 4, 3, 5, 1]\n",
      "[3, 4, 4, 3, 5, 1, 1]\n",
      "[4, 4, 3, 5, 1, 1, 2]\n",
      "[4, 3, 5, 1, 1, 2, 1]\n",
      "[3, 5, 1, 1, 2, 1, 4]\n",
      "[5, 1, 1, 2, 1, 4, 1]\n",
      "[1, 1, 2, 1, 4, 1, 3]\n",
      "[1, 2, 1, 4, 1, 3, 3]\n",
      "[2, 1, 4, 1, 3, 3, 4]\n",
      "[1, 4, 1, 3, 3, 4, 2]\n",
      "[4, 1, 3, 3, 4, 2, 1]\n",
      "[1, 3, 3, 4, 2, 1]\n",
      "[3, 3, 4, 2, 1]\n",
      "[3, 4, 2, 1]\n",
      "[4, 2, 1]\n",
      "[2, 1]\n",
      "[1]\n"
     ]
    },
    {
     "data": {
      "text/plain": [
       "3"
      ]
     },
     "execution_count": 23,
     "metadata": {},
     "output_type": "execute_result"
    }
   ],
   "source": [
    "birthday([2 ,5, 1, 3, 4, 4, 3, 5, 1, 1, 2, 1, 4, 1, 3, 3, 4, 2, 1] ,18, 7)"
   ]
  },
  {
   "cell_type": "code",
   "execution_count": 28,
   "metadata": {},
   "outputs": [
    {
     "name": "stdout",
     "output_type": "stream",
     "text": [
      "[1, 2, 3]\n",
      "[1, 2, 3, 2, 3]\n",
      "[1, 2, 3, 2, 3, 3]\n",
      "[1, 2, 3, 2, 3, 3]\n"
     ]
    }
   ],
   "source": [
    "l1 =[1,2,3,4]\n",
    "l2=[]\n",
    "for item in l1:\n",
    "    num = item\n",
    "    for i in range(num,len(l1)):\n",
    "        \n",
    "        l2.append(i)\n",
    "    print(l2)"
   ]
  },
  {
   "cell_type": "code",
   "execution_count": 31,
   "metadata": {},
   "outputs": [
    {
     "name": "stdout",
     "output_type": "stream",
     "text": [
      "[2, 3, 4]\n",
      "[3, 4]\n",
      "[4]\n",
      "[]\n"
     ]
    }
   ],
   "source": [
    "l1 = [1,2,3,4]\n",
    "for item in l1:\n",
    "    print(l1[item:])"
   ]
  },
  {
   "cell_type": "code",
   "execution_count": 50,
   "metadata": {},
   "outputs": [],
   "source": [
    "def divisibleSumPairs(n, k, ar):\n",
    "    count=0\n",
    "    for i in range(len(ar)):\n",
    "        num1 = ar[i]\n",
    "        print(num1)\n",
    "        req = ar[i+1:]\n",
    "        print(req)\n",
    "        if len(req)==0:\n",
    "            continue\n",
    "        else:\n",
    "            for n2 in req:\n",
    "                val = num1+n2\n",
    "                print(val)\n",
    "                if val%k ==0:\n",
    "                    count+=1\n",
    "                else:\n",
    "                    continue\n",
    "    return count"
   ]
  },
  {
   "cell_type": "code",
   "execution_count": 51,
   "metadata": {},
   "outputs": [
    {
     "name": "stdout",
     "output_type": "stream",
     "text": [
      "1\n",
      "[3, 2, 6, 1, 2]\n",
      "4\n",
      "3\n",
      "7\n",
      "2\n",
      "3\n",
      "3\n",
      "[2, 6, 1, 2]\n",
      "5\n",
      "9\n",
      "4\n",
      "5\n",
      "2\n",
      "[6, 1, 2]\n",
      "8\n",
      "3\n",
      "4\n",
      "6\n",
      "[1, 2]\n",
      "7\n",
      "8\n",
      "1\n",
      "[2]\n",
      "3\n",
      "2\n",
      "[]\n"
     ]
    },
    {
     "data": {
      "text/plain": [
       "5"
      ]
     },
     "execution_count": 51,
     "metadata": {},
     "output_type": "execute_result"
    }
   ],
   "source": [
    "divisibleSumPairs(6, 3,[1 ,3 ,2 ,6 ,1 ,2])"
   ]
  },
  {
   "cell_type": "code",
   "execution_count": 102,
   "metadata": {},
   "outputs": [],
   "source": [
    "def migratoryBirds(arr):\n",
    "    d = {}\n",
    "    nd={}\n",
    "    low = 0\n",
    "    for item in arr:\n",
    "        if item not in d:\n",
    "            d[item]=1\n",
    "        else:\n",
    "            d[item]+=1\n",
    "    sort = sorted(d.items(), key=lambda x:x[1],reverse = True)\n",
    "    x, y = sort[0]\n",
    "    count = 0\n",
    "    print(sort)\n",
    "    for i in range(len(sort)):\n",
    "        val = sort[i]\n",
    "        key,value = val\n",
    "        if value == y:\n",
    "            count+=1\n",
    "            nd[key]= value\n",
    "        else:\n",
    "            continue\n",
    "    for key in nd:\n",
    "        if low == 0:\n",
    "            low = key\n",
    "        else:\n",
    "            if key<=low:\n",
    "                low = key\n",
    "            else:\n",
    "                continue\n",
    "    return low\n",
    "        "
   ]
  },
  {
   "cell_type": "code",
   "execution_count": 103,
   "metadata": {},
   "outputs": [
    {
     "name": "stdout",
     "output_type": "stream",
     "text": [
      "[(3, 3), (4, 3), (1, 2), (2, 2), (5, 1)]\n"
     ]
    },
    {
     "data": {
      "text/plain": [
       "3"
      ]
     },
     "execution_count": 103,
     "metadata": {},
     "output_type": "execute_result"
    }
   ],
   "source": [
    "migratoryBirds([1 ,2 ,3 ,4 ,5 ,4 ,3 ,2 ,1 ,3, 4])"
   ]
  },
  {
   "cell_type": "code",
   "execution_count": 74,
   "metadata": {},
   "outputs": [],
   "source": [
    "#print(sort)"
   ]
  },
  {
   "cell_type": "code",
   "execution_count": 105,
   "metadata": {},
   "outputs": [
    {
     "name": "stdout",
     "output_type": "stream",
     "text": [
      "12.13\n"
     ]
    }
   ],
   "source": [
    "print(\"{}{}{}\".format(\"12\",\".\",\"13\"))"
   ]
  },
  {
   "cell_type": "code",
   "execution_count": 110,
   "metadata": {},
   "outputs": [],
   "source": [
    "def dayOfProgrammer(year):\n",
    "    if year == 1918:\n",
    "        return \"{}{}{}{}{}\".format(\"26\",\".\",\"09\",\".\",year)\n",
    "    elif year <=1917:\n",
    "        if year %4 ==0:\n",
    "            r =True\n",
    "        else:\n",
    "            r = False\n",
    "        return r\n",
    "    else:\n",
    "        if (year % 4) == 0:\n",
    "            if (year % 100) == 0:\n",
    "                if (year % 400) == 0:\n",
    "                    r = True\n",
    "                else:\n",
    "                    r =False\n",
    "            else:\n",
    "                r =True\n",
    "        else:\n",
    "            r =False\n",
    "        return r\n",
    "    "
   ]
  },
  {
   "cell_type": "code",
   "execution_count": 111,
   "metadata": {},
   "outputs": [
    {
     "data": {
      "text/plain": [
       "False"
      ]
     },
     "execution_count": 111,
     "metadata": {},
     "output_type": "execute_result"
    }
   ],
   "source": [
    "dayOfProgrammer(1800)"
   ]
  },
  {
   "cell_type": "code",
   "execution_count": 112,
   "metadata": {},
   "outputs": [
    {
     "name": "stdout",
     "output_type": "stream",
     "text": [
      "False\n"
     ]
    }
   ],
   "source": [
    "r = dayOfProgrammer(1800)\n",
    "print(r)"
   ]
  },
  {
   "cell_type": "code",
   "execution_count": 114,
   "metadata": {},
   "outputs": [
    {
     "data": {
      "text/plain": [
       "200"
      ]
     },
     "execution_count": 114,
     "metadata": {},
     "output_type": "execute_result"
    }
   ],
   "source": [
    "1800%400"
   ]
  },
  {
   "cell_type": "code",
   "execution_count": 115,
   "metadata": {},
   "outputs": [],
   "source": [
    "l=[1,2,3]\n"
   ]
  },
  {
   "cell_type": "code",
   "execution_count": 116,
   "metadata": {},
   "outputs": [],
   "source": [
    "l.remove(1)"
   ]
  },
  {
   "cell_type": "code",
   "execution_count": 117,
   "metadata": {},
   "outputs": [
    {
     "data": {
      "text/plain": [
       "[2, 3]"
      ]
     },
     "execution_count": 117,
     "metadata": {},
     "output_type": "execute_result"
    }
   ],
   "source": [
    "l"
   ]
  },
  {
   "cell_type": "code",
   "execution_count": null,
   "metadata": {},
   "outputs": [],
   "source": [
    "def bonAppetit(bill, k, b):\n",
    "    item = bill[k]\n",
    "    total=0\n",
    "    bill.remove(item)\n",
    "    for val in bill:\n",
    "        total+=val\n",
    "    r = total/2\n",
    "    if r==b:\n",
    "        return \"Bon Apetit\"\n",
    "    else:\n",
    "        return b-r"
   ]
  },
  {
   "cell_type": "code",
   "execution_count": null,
   "metadata": {},
   "outputs": [],
   "source": [
    "bon"
   ]
  },
  {
   "cell_type": "code",
   "execution_count": null,
   "metadata": {},
   "outputs": [],
   "source": []
  },
  {
   "cell_type": "code",
   "execution_count": null,
   "metadata": {},
   "outputs": [],
   "source": []
  }
 ],
 "metadata": {
  "kernelspec": {
   "display_name": "Python 3",
   "language": "python",
   "name": "python3"
  },
  "language_info": {
   "codemirror_mode": {
    "name": "ipython",
    "version": 3
   },
   "file_extension": ".py",
   "mimetype": "text/x-python",
   "name": "python",
   "nbconvert_exporter": "python",
   "pygments_lexer": "ipython3",
   "version": "3.7.6"
  }
 },
 "nbformat": 4,
 "nbformat_minor": 4
}
