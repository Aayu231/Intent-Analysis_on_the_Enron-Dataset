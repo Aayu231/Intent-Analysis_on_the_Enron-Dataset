{
 "cells": [
  {
  {
 "cells": [
  {
   "cell_type": "markdown",
   "metadata": {},
   "source": [
    "<h1>MNIST Case Study</h1>"
   ]
  },
  {
   "attachments": {
    "mnist%20pic.png": {
     "image/png": "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"
    }
   },
   "cell_type": "markdown",
   "metadata": {},
   "source": [
    "![mnist%20pic.png](attachment:mnist%20pic.png)"
   ]
  },
  {
   "cell_type": "code",
   "execution_count": 2,
   "metadata": {},
   "outputs": [],
   "source": [
    "%matplotlib inline\n",
    "import numpy as np\n",
    "import matplotlib.pyplot as plt\n",
    "\n",
    "image_size = 28 # width and length\n",
    "no_of_different_labels = 10 #  i.e. 0, 1, 2, 3, ..., 9\n",
    "image_pixels = image_size * image_size\n",
    "data_path = \"data/mnist/\"\n",
    "train_data = np.loadtxt(data_path + \"mnist_train.csv\", \n",
    "                        delimiter=\",\")\n",
    "test_data = np.loadtxt(data_path + \"mnist_test.csv\", \n",
    "                       delimiter=\",\") "
   ]
  },
  {
   "cell_type": "code",
   "execution_count": 3,
   "metadata": {},
   "outputs": [
    {
     "data": {
      "text/plain": [
       "array([[5., 0., 0., ..., 0., 0., 0.],\n",
       "       [0., 0., 0., ..., 0., 0., 0.],\n",
       "       [4., 0., 0., ..., 0., 0., 0.],\n",
       "       ...,\n",
       "       [3., 0., 0., ..., 0., 0., 0.],\n",
       "       [1., 0., 0., ..., 0., 0., 0.],\n",
       "       [4., 0., 0., ..., 0., 0., 0.]])"
      ]
     },
     "execution_count": 3,
     "metadata": {},
     "output_type": "execute_result"
    }
   ],
   "source": [
    "train_data[:10]"
   ]
  },
  {
   "cell_type": "code",
   "execution_count": 4,
   "metadata": {},
   "outputs": [
    {
     "data": {
      "text/plain": [
       "(10000, 785)"
      ]
     },
     "execution_count": 4,
     "metadata": {},
     "output_type": "execute_result"
    }
   ],
   "source": [
    "test_data[test_data==255]\n",
    "test_data.shape"
   ]
  },
  {
   "cell_type": "code",
   "execution_count": 5,
   "metadata": {},
   "outputs": [],
   "source": [
    "fac = 0.99 / 255\n",
    "train_imgs = np.asfarray(train_data[:, 1:]) * fac + 0.01\n",
    "test_imgs = np.asfarray(test_data[:, 1:]) * fac + 0.01\n",
    "\n",
    "train_labels = np.asfarray(train_data[:, :1])\n",
    "test_labels = np.asfarray(test_data[:, :1])"
   ]
  },
  {
   "cell_type": "code",
   "execution_count": 6,
   "metadata": {},
   "outputs": [
    {
     "name": "stdout",
     "output_type": "stream",
     "text": [
      "label:  0  in one-hot representation:  [1 0 0 0 0 0 0 0 0 0]\n",
      "label:  1  in one-hot representation:  [0 1 0 0 0 0 0 0 0 0]\n",
      "label:  2  in one-hot representation:  [0 0 1 0 0 0 0 0 0 0]\n",
      "label:  3  in one-hot representation:  [0 0 0 1 0 0 0 0 0 0]\n",
      "label:  4  in one-hot representation:  [0 0 0 0 1 0 0 0 0 0]\n",
      "label:  5  in one-hot representation:  [0 0 0 0 0 1 0 0 0 0]\n",
      "label:  6  in one-hot representation:  [0 0 0 0 0 0 1 0 0 0]\n",
      "label:  7  in one-hot representation:  [0 0 0 0 0 0 0 1 0 0]\n",
      "label:  8  in one-hot representation:  [0 0 0 0 0 0 0 0 1 0]\n",
      "label:  9  in one-hot representation:  [0 0 0 0 0 0 0 0 0 1]\n"
     ]
    }
   ],
   "source": [
    "import numpy as np\n",
    "\n",
    "lr = np.arange(10)\n",
    "\n",
    "for label in range(10):\n",
    "    one_hot = (lr==label).astype(np.int)\n",
    "    print(\"label: \", label, \" in one-hot representation: \", one_hot)"
   ]
  },
  {
   "cell_type": "code",
   "execution_count": 7,
   "metadata": {},
   "outputs": [],
   "source": [
    "# transform labels into one hot representation\n",
    "train_labels_one_hot = (lr==train_labels).astype(np.float)\n",
    "test_labels_one_hot = (lr==test_labels).astype(np.float)\n",
    "\n",
    "# we don't want zeroes and ones in the labels neither:\n",
    "train_labels_one_hot[train_labels_one_hot==0] = 0.01\n",
    "train_labels_one_hot[train_labels_one_hot==1] = 0.99\n",
    "test_labels_one_hot[test_labels_one_hot==0] = 0.01\n",
    "test_labels_one_hot[test_labels_one_hot==1] = 0.99"
   ]
  },
  {
   "cell_type": "code",
   "execution_count": 8,
   "metadata": {},
   "outputs": [
    {
     "data": {
      "image/png": "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\n",
      "text/plain": [
       "<Figure size 432x288 with 1 Axes>"
      ]
     },
     "metadata": {
      "needs_background": "light"
     },
     "output_type": "display_data"
    },
    {
     "data": {
      "image/png": "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\n",
      "text/plain": [
       "<Figure size 432x288 with 1 Axes>"
      ]
     },
     "metadata": {
      "needs_background": "light"
     },
     "output_type": "display_data"
    },
    {
     "data": {
      "image/png": "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\n",
      "text/plain": [
       "<Figure size 432x288 with 1 Axes>"
      ]
     },
     "metadata": {
      "needs_background": "light"
     },
     "output_type": "display_data"
    },
    {
     "data": {
      "image/png": "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\n",
      "text/plain": [
       "<Figure size 432x288 with 1 Axes>"
      ]
     },
     "metadata": {
      "needs_background": "light"
     },
     "output_type": "display_data"
    },
    {
     "data": {
      "image/png": "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\n",
      "text/plain": [
       "<Figure size 432x288 with 1 Axes>"
      ]
     },
     "metadata": {
      "needs_background": "light"
     },
     "output_type": "display_data"
    },
    {
     "data": {
      "image/png": "iVBORw0KGgoAAAANSUhEUgAAAPsAAAD4CAYAAAAq5pAIAAAAOXRFWHRTb2Z0d2FyZQBNYXRwbG90bGliIHZlcnNpb24zLjMuMiwgaHR0cHM6Ly9tYXRwbG90bGliLm9yZy8vihELAAAACXBIWXMAAAsTAAALEwEAmpwYAAAOhUlEQVR4nO3dfaxU9Z3H8c8XaDXyEFFuCBGyF4nGkMXSOsE1NZWVWEFNsDHBYqzUEGl8Sps0UdNNqH9oQtalSOKCwoqwSwshtkZ8yG5daCQQJQ6GRdT4sAYCCNyLRpAIlIfv/nEP7i3e+Z3LnDMP8n2/kpuZOd8593w58OHMnN/M+Zm7C8C5b0CrGwDQHIQdCIKwA0EQdiAIwg4EMaiZGxsxYoR3dnY2c5NAKDt27NCBAwesr1qhsJvZVEkLJQ2U9G/uPi/1/M7OTlWr1SKbBJBQqVRq1up+GW9mAyX9q6RpksZLmmlm4+v9fQAaq8h79kmSPnb3T9z9r5JWS5peTlsAylYk7JdI2tXr8e5s2d8wszlmVjWzand3d4HNASii4Wfj3X2Ju1fcvdLR0dHozQGooUjY90ga0+vx6GwZgDZUJOxvSbrMzMaa2Xcl/VTS2nLaAlC2uofe3P2EmT0g6b/UM/S2zN3fLa0zAKUqNM7u7q9KerWkXgA0EB+XBYIg7EAQhB0IgrADQRB2IAjCDgRB2IEgCDsQBGEHgiDsQBCEHQiCsANBEHYgCMIOBEHYgSAIOxAEYQeCIOxAEIQdCIKwA0EQdiAIwg4EQdiBIAg7EARhB4Ig7EAQhB0IgrADQRB2IIhCs7gCx44dS9aPHz9es7Zx48bkunv27EnWZ82alawPGsQ/794K7Q0z2yHpS0knJZ1w90oZTQEoXxn/9f2jux8o4fcAaCDeswNBFA27S/qzmW0xszl9PcHM5phZ1cyq3d3dBTcHoF5Fw36tu/9A0jRJ95vZj858grsvcfeKu1c6OjoKbg5AvQqF3d33ZLddkl6QNKmMpgCUr+6wm9lgMxt6+r6kH0vaXlZjAMpV5Gz8SEkvmNnp3/MHd//PUrpC03zxxRfJ+vz585P19evXJ+ubN28+25b6LW8cfu7cuQ3b9rdR3WF3908kfa/EXgA0EENvQBCEHQiCsANBEHYgCMIOBMF3AM8BqY8hL1y4MLluXv3IkSPJursn62PHjq1Zu/jii5PrbtmyJVl/5plnkvV77723Zi3ipzk5sgNBEHYgCMIOBEHYgSAIOxAEYQeCIOxAEIyzt4GjR48m64899liyvnjx4pq1gwcP1tVTf02YMCFZf/3112vWTpw4kVx35MiRyfr+/fuT9dSfnXF2AOcswg4EQdiBIAg7EARhB4Ig7EAQhB0IgnH2NrBp06Zkfd68eU3q5JvGjx+frG/YsCFZHzZsWM3aZ599VldPqA9HdiAIwg4EQdiBIAg7EARhB4Ig7EAQhB0IgnH2NrB8+fKG/e7LL788Wb/++uuT9ccffzxZT42j59m5c2fd6+Ls5R7ZzWyZmXWZ2fZeyy4ys9fM7KPsdnhj2wRQVH9exi+XNPWMZY9IWuful0lalz0G0MZyw+7uGyR9fsbi6ZJWZPdXSLq13LYAlK3eE3Qj3X1vdn+fpJoXCzOzOWZWNbNqak4yAI1V+Gy898zsV3N2P3df4u4Vd69EvMgf0C7qDft+MxslSdltV3ktAWiEesO+VtKs7P4sSS+W0w6ARskdZzezVZImSxphZrsl/VbSPElrzGy2pJ2SZjSyyXPdokWLkvVrrrkmWZ869czBkv+Xd+31wYMHJ+uN1NXFC8Jmyg27u8+sUZpSci8AGoiPywJBEHYgCMIOBEHYgSAIOxAEX3FtA0OHDk3W77vvviZ10lzr169vdQuhcGQHgiDsQBCEHQiCsANBEHYgCMIOBEHYgSAYZw/u+eefT9YPHTqUrPdcqKg2M6tZ27JlS3LdPDfffHOyfumllxb6/ecajuxAEIQdCIKwA0EQdiAIwg4EQdiBIAg7EATj7N8Cx48fT9Y//fTTmrW5c+cm1125cmVdPZ126tSpZH3AgPqPJ2PGjEnWn3vuuYZt+1zE3gCCIOxAEIQdCIKwA0EQdiAIwg4EQdiBIBhnb4KTJ08m67t3707WJ0+enKzv2rWrZu2CCy5Irps3lj1t2rRkfdWqVcn64cOHk/WUEydOJOuvvPJKsn7HHXfUrA0cOLCunr7Nco/sZrbMzLrMbHuvZY+a2R4z25r93NTYNgEU1Z+X8cslTe1j+QJ3n5j9vFpuWwDKlht2d98g6fMm9AKggYqcoHvAzLZlL/OH13qSmc0xs6qZVbu7uwtsDkAR9YZ9saRxkiZK2itpfq0nuvsSd6+4e6Wjo6POzQEoqq6wu/t+dz/p7qckLZU0qdy2AJStrrCb2aheD38iaXut5wJoD7nj7Ga2StJkSSPMbLek30qabGYTJbmkHZJ+0bgW21/eOPrWrVuT9auvvrrQ9hctWlSzNmXKlOS648aNS9aPHDmSrG/bti1Z37x5c7Kesm/fvmT97rvvTtZT143P2+eDBp17H0HJ/RO5+8w+Fj/bgF4ANBAflwWCIOxAEIQdCIKwA0EQdiCIc298oUFSw2sLFy5MrvvQQw8V2nbqq5qSdNddd9WsnX/++cl1v/rqq2T9lltuSdbffPPNZP28886rWXviiSeS6+YNWeZdSvq6666rWZsxY0Zy3bxLcA8ZMiRZzzN69OhC69eDIzsQBGEHgiDsQBCEHQiCsANBEHYgCMIOBME4eyZv6uEnn3yyZu3hhx9Orjt06NBkffny5cn6jTfemKynxtJ37tyZXPeee+5J1jds2JCsT5gwIVlfvXp1zdoVV1yRXPfYsWPJ+oMPPpisL1u2rGZtxYoVyXXXrFmTrOdJfb1Wkj788MNCv78eHNmBIAg7EARhB4Ig7EAQhB0IgrADQRB2IAjG2TMvv/xysp4aS8/7bvNLL72UrF911VXJ+gcffJCsP/300zVrK1euTK6bd6nop556KlnP+679sGHDkvWU1HfhJenKK69M1lOfjbjtttuS6y5dujRZz7NgwYJC6zcCR3YgCMIOBEHYgSAIOxAEYQeCIOxAEIQdCMLcvWkbq1QqXq1Wm7a9s5F3He/U9MF512bPG0c/ePBgsr59+/ZkvYjFixcn67Nnz07WBwzgeNFOKpWKqtWq9VXL/ZsyszFm9hcze8/M3jWzX2bLLzKz18zso+x2eNmNAyhPf/5bPiHp1+4+XtI/SLrfzMZLekTSOne/TNK67DGANpUbdnff6+5vZ/e/lPS+pEskTZd0+to+KyTd2qAeAZTgrN5wmVmnpO9L2ixppLvvzUr7JI2ssc4cM6uaWbW7u7tIrwAK6HfYzWyIpD9K+pW7H+pd856zfH2e6XP3Je5ecfdKR0dHoWYB1K9fYTez76gn6L939z9li/eb2aisPkpSV2NaBFCG3K+4mplJelbS++7+u16ltZJmSZqX3b7YkA6bpLOzM1lPDb0dPXo0ue6mTZvqaelrd955Z7J+ww031KxNmzYtue6FF16YrDO0du7oz/fZfyjpZ5LeMbOt2bLfqCfka8xstqSdktITXgNoqdywu/tGSX0O0kuaUm47ABqF12hAEIQdCIKwA0EQdiAIwg4EwaWkM+vWrUvW33jjjZq1vHH0UaNGJeu33357sp73FdqBAwcm64DEkR0Ig7ADQRB2IAjCDgRB2IEgCDsQBGEHgmCcPZM3PfDkyZPrqgHtgiM7EARhB4Ig7EAQhB0IgrADQRB2IAjCDgRB2IEgCDsQBGEHgiDsQBCEHQiCsANBEHYgCMIOBJEbdjMbY2Z/MbP3zOxdM/tltvxRM9tjZluzn5sa3y6AevXn4hUnJP3a3d82s6GStpjZa1ltgbv/S+PaA1CW/szPvlfS3uz+l2b2vqRLGt0YgHKd1Xt2M+uU9H1Jm7NFD5jZNjNbZmbDa6wzx8yqZlbt7u4u1i2AuvU77GY2RNIfJf3K3Q9JWixpnKSJ6jnyz+9rPXdf4u4Vd690dHQU7xhAXfoVdjP7jnqC/nt3/5Mkuft+dz/p7qckLZU0qXFtAiiqP2fjTdKzkt5399/1Wt57atKfSNpefnsAytKfs/E/lPQzSe+Y2dZs2W8kzTSziZJc0g5Jv2hAfwBK0p+z8RslWR+lV8tvB0Cj8Ak6IAjCDgRB2IEgCDsQBGEHgiDsQBCEHQiCsANBEHYgCMIOBEHYgSAIOxAEYQeCIOxAEObuzduYWbeknb0WjZB0oGkNnJ127a1d+5LorV5l9vZ37t7n9d+aGvZvbNys6u6VljWQ0K69tWtfEr3Vq1m98TIeCIKwA0G0OuxLWrz9lHbtrV37kuitXk3praXv2QE0T6uP7ACahLADQbQk7GY21cw+MLOPzeyRVvRQi5ntMLN3smmoqy3uZZmZdZnZ9l7LLjKz18zso+y2zzn2WtRbW0zjnZhmvKX7rtXTnzf9PbuZDZT0oaQbJO2W9Jakme7+XlMbqcHMdkiquHvLP4BhZj+SdFjSv7v732fL/lnS5+4+L/uPcri7P9wmvT0q6XCrp/HOZisa1XuacUm3Svq5WrjvEn3NUBP2WyuO7JMkfezun7j7XyWtljS9BX20PXffIOnzMxZPl7Qiu79CPf9Ymq5Gb23B3fe6+9vZ/S8lnZ5mvKX7LtFXU7Qi7JdI2tXr8W6113zvLunPZrbFzOa0upk+jHT3vdn9fZJGtrKZPuRO491MZ0wz3jb7rp7pz4viBN03XevuP5A0TdL92cvVtuQ978Haaey0X9N4N0sf04x/rZX7rt7pz4tqRdj3SBrT6/HobFlbcPc92W2XpBfUflNR7z89g25229Xifr7WTtN49zXNuNpg37Vy+vNWhP0tSZeZ2Vgz+66kn0pa24I+vsHMBmcnTmRmgyX9WO03FfVaSbOy+7MkvdjCXv5Gu0zjXWuacbV437V8+nN3b/qPpJvUc0b+fyX9Uyt6qNHXpZL+J/t5t9W9SVqlnpd1x9VzbmO2pIslrZP0kaT/lnRRG/X2H5LekbRNPcEa1aLerlXPS/RtkrZmPze1et8l+mrKfuPjskAQnKADgiDsQBCEHQiCsANBEHYgCMIOBEHYgSD+DxCyZWhxyt+xAAAAAElFTkSuQmCC\n",
      "text/plain": [
       "<Figure size 432x288 with 1 Axes>"
      ]
     },
     "metadata": {
      "needs_background": "light"
     },
     "output_type": "display_data"
    },
    {
     "data": {
      "image/png": "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\n",
      "text/plain": [
       "<Figure size 432x288 with 1 Axes>"
      ]
     },
     "metadata": {
      "needs_background": "light"
     },
     "output_type": "display_data"
    },
    {
     "data": {
      "image/png": "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\n",
      "text/plain": [
       "<Figure size 432x288 with 1 Axes>"
      ]
     },
     "metadata": {
      "needs_background": "light"
     },
     "output_type": "display_data"
    },
    {
     "data": {
      "image/png": "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\n",
      "text/plain": [
       "<Figure size 432x288 with 1 Axes>"
      ]
     },
     "metadata": {
      "needs_background": "light"
     },
     "output_type": "display_data"
    },
    {
     "data": {
      "image/png": "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\n",
      "text/plain": [
       "<Figure size 432x288 with 1 Axes>"
      ]
     },
     "metadata": {
      "needs_background": "light"
     },
     "output_type": "display_data"
    }
   ],
   "source": [
    "for i in range(10):\n",
    "    img = train_imgs[i].reshape((28,28))\n",
    "    plt.imshow(img, cmap=\"Greys\")\n",
    "    plt.show()"
   ]
  },
  {
   "cell_type": "code",
   "execution_count": 9,
   "metadata": {},
   "outputs": [],
   "source": [
    "import pickle\n",
    "\n",
    "with open(\"data/mnist/pickled_mnist.pkl\", \"bw\") as fh:\n",
    "    data = (train_imgs, \n",
    "            test_imgs, \n",
    "            train_labels,\n",
    "            test_labels,\n",
    "            train_labels_one_hot,\n",
    "            test_labels_one_hot)\n",
    "    pickle.dump(data, fh)\n",
    "    "
   ]
  },
  {
   "cell_type": "code",
   "execution_count": 10,
   "metadata": {},
   "outputs": [],
   "source": [
    "with open(\"data/mnist/pickled_mnist.pkl\", \"br\") as fh:\n",
    "    data = pickle.load(fh)\n",
    "\n",
    "train_imgs = data[0]\n",
    "test_imgs = data[1]\n",
    "train_labels = data[2]\n",
    "test_labels = data[3]\n",
    "train_labels_one_hot = data[4]\n",
    "test_labels_one_hot = data[5]\n",
    "\n",
    "image_size = 28 # width and length\n",
    "no_of_different_labels = 10 #  i.e. 0, 1, 2, 3, ..., 9\n",
    "image_pixels = image_size * image_size"
   ]
  },
  {
   "cell_type": "code",
   "execution_count": 11,
   "metadata": {},
   "outputs": [],
   "source": [
    "import numpy as np\n",
    "from scipy.special import expit as activation_function\n",
    "from scipy.stats import truncnorm\n",
    "\n",
    "def truncated_normal(mean=0, sd=1, low=0, upp=10):\n",
    "    return truncnorm((low - mean) / sd, \n",
    "                     (upp - mean) / sd, \n",
    "                     loc=mean, \n",
    "                     scale=sd)\n",
    "\n",
    "\n",
    "class NeuralNetwork:\n",
    "        \n",
    "    \n",
    "    def __init__(self, \n",
    "                 network_structure, # ie. [input_nodes, hidden1_nodes, ... , hidden_n_nodes, output_nodes]\n",
    "                 learning_rate,\n",
    "                 bias=None\n",
    "                ):  \n",
    "\n",
    "        self.structure = network_structure\n",
    "        self.learning_rate = learning_rate \n",
    "        self.bias = bias\n",
    "        self.create_weight_matrices()\n",
    "    \n",
    "    \n",
    "    def create_weight_matrices(self):\n",
    "        \n",
    "        bias_node = 1 if self.bias else 0\n",
    "        self.weights_matrices = []\n",
    "        \n",
    "        layer_index = 1\n",
    "        no_of_layers = len(self.structure)\n",
    "        while layer_index < no_of_layers:\n",
    "            nodes_in = self.structure[layer_index-1]\n",
    "            nodes_out = self.structure[layer_index]\n",
    "            n = (nodes_in + bias_node) * nodes_out\n",
    "            rad = 1 / np.sqrt(nodes_in)\n",
    "            X = truncated_normal(mean=2, \n",
    "                                 sd=1, \n",
    "                                 low=-rad, \n",
    "                                 upp=rad)\n",
    "            wm = X.rvs(n).reshape((nodes_out, nodes_in + bias_node))\n",
    "            self.weights_matrices.append(wm)\n",
    "            layer_index += 1\n",
    "\n",
    "        \n",
    "        \n",
    "    def train(self, input_vector, target_vector):\n",
    "        \"\"\"\n",
    "        input_vector and target_vector can be tuple, \n",
    "        list or ndarray\n",
    "        \"\"\"                              \n",
    "\n",
    "        no_of_layers = len(self.structure)\n",
    "        input_vector = np.array(input_vector, ndmin=2).T\n",
    "        layer_index = 0\n",
    "        # The output/input vectors of the various layers:\n",
    "        res_vectors = [input_vector]\n",
    "        while layer_index < no_of_layers - 1:\n",
    "            in_vector = res_vectors[-1]\n",
    "            if self.bias:\n",
    "                # adding bias node to the end of the 'input'_vector\n",
    "                in_vector = np.concatenate( (in_vector, \n",
    "                                             [[self.bias]]) )\n",
    "                res_vectors[-1] = in_vector\n",
    "            x = np.dot(self.weights_matrices[layer_index], \n",
    "                       in_vector)\n",
    "            out_vector = activation_function(x)\n",
    "            # the output of one layer is the input of the next one:\n",
    "            res_vectors.append(out_vector)    \n",
    "            layer_index += 1\n",
    "        \n",
    "        layer_index = no_of_layers - 1\n",
    "        target_vector = np.array(target_vector, ndmin=2).T\n",
    "         # The input vectors to the various layers\n",
    "        output_errors = target_vector - out_vector  \n",
    "        while layer_index > 0:\n",
    "            out_vector = res_vectors[layer_index]\n",
    "            in_vector = res_vectors[layer_index-1]\n",
    "\n",
    "            if self.bias and not layer_index==(no_of_layers-1):\n",
    "                out_vector = out_vector[:-1,:].copy()\n",
    "\n",
    "            tmp = output_errors * out_vector * (1.0 - out_vector)     \n",
    "            tmp = np.dot(tmp, in_vector.T)\n",
    "            \n",
    "            #if self.bias:\n",
    "            #    tmp = tmp[:-1,:] \n",
    "                \n",
    "            self.weights_matrices[layer_index-1] += self.learning_rate * tmp\n",
    "            \n",
    "            output_errors = np.dot(self.weights_matrices[layer_index-1].T, \n",
    "                                   output_errors)\n",
    "            if self.bias:\n",
    "                output_errors = output_errors[:-1,:]\n",
    "            layer_index -= 1\n",
    "            \n",
    "            \n",
    "               \n",
    "    \n",
    "    def run(self, input_vector):\n",
    "        # input_vector can be tuple, list or ndarray\n",
    "\n",
    "        no_of_layers = len(self.structure)\n",
    "        if self.bias:\n",
    "            # adding bias node to the end of the inpuy_vector\n",
    "            input_vector = np.concatenate( (input_vector, \n",
    "                                            [self.bias]) )\n",
    "        in_vector = np.array(input_vector, ndmin=2).T\n",
    "\n",
    "        layer_index = 1\n",
    "        # The input vectors to the various layers\n",
    "        while layer_index < no_of_layers:\n",
    "            x = np.dot(self.weights_matrices[layer_index-1], \n",
    "                       in_vector)\n",
    "            out_vector = activation_function(x)\n",
    "            \n",
    "            # input vector for next layer\n",
    "            in_vector = out_vector\n",
    "            if self.bias:\n",
    "                in_vector = np.concatenate( (in_vector, \n",
    "                                             [[self.bias]]) )            \n",
    "            \n",
    "            layer_index += 1\n",
    "  \n",
    "    \n",
    "        return out_vector\n",
    "    \n",
    "    def evaluate(self, data, labels):\n",
    "        corrects, wrongs = 0, 0\n",
    "        for i in range(len(data)):\n",
    "            res = self.run(data[i])\n",
    "            res_max = res.argmax()\n",
    "            if res_max == labels[i]:\n",
    "                corrects += 1\n",
    "            else:\n",
    "                wrongs += 1\n",
    "        return corrects, wrongs"
   ]
  },
  {
   "cell_type": "code",
   "execution_count": 16,
   "metadata": {},
   "outputs": [],
   "source": [
    "ANN = NeuralNetwork(network_structure=[image_pixels, 50, 50, 10],\n",
    "                               learning_rate=0.1,\n",
    "                               bias=None)\n",
    "    \n",
    "    \n",
    "for i in range(len(train_imgs)):\n",
    "    ANN.train(train_imgs[i], train_labels_one_hot[i])"
   ]
  },
  {
   "cell_type": "code",
   "execution_count": 17,
   "metadata": {},
   "outputs": [
    {
     "name": "stdout",
     "output_type": "stream",
     "text": [
      "accuracy train:  0.8725666666666667\n",
      "accuracy: test 0.8712\n"
     ]
    }
   ],
   "source": [
    "corrects, wrongs = ANN.evaluate(train_imgs, train_labels)\n",
    "print(\"accuracy train: \", corrects / ( corrects + wrongs))\n",
    "corrects, wrongs = ANN.evaluate(test_imgs, test_labels)\n",
    "print(\"accuracy: test\", corrects / ( corrects + wrongs))"
   ]
  },
  {
   "cell_type": "markdown",
   "metadata": {},
   "source": [
    "<h2>Visualization</h2>"
   ]
  },
  {
   "attachments": {
    "mnist3.1.PNG": {
     "image/png": "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"
    }
   },
   "cell_type": "markdown",
   "metadata": {},
   "source": [
    "![mnist3.1.PNG](attachment:mnist3.1.PNG)"
   ]
  },
  {
   "cell_type": "code",
   "execution_count": 19,
   "metadata": {},
   "outputs": [],
   "source": [
    "#Thank You"
   ]
  }
 ],
 "metadata": {
  "kernelspec": {
   "display_name": "Python 3",
   "language": "python",
   "name": "python3"
  }
 },
 "nbformat": 4,
 "nbformat_minor": 4
}
 "cell_type": "code",
   "execution_count": 2,
   "metadata": {},
   "outputs": [],
   "source": [
    "%matplotlib inline\n",
    "import numpy as np\n",
    "import matplotlib.pyplot as plt\n",
    "\n",
    "image_size = 28 # width and length\n",
    "no_of_different_labels = 10 #  i.e. 0, 1, 2, 3, ..., 9\n",
    "image_pixels = image_size * image_size\n",
    "data_path = \"data/mnist/\"\n",
    "train_data = np.loadtxt(data_path + \"mnist_train.csv\", \n",
    "                        delimiter=\",\")\n",
    "test_data = np.loadtxt(data_path + \"mnist_test.csv\", \n",
    "                       delimiter=\",\") "
   ]
  },
  {
   "cell_type": "code",
   "execution_count": 3,
   "metadata": {},
   "outputs": [
    {
     "data": {
      "text/plain": [
       "array([[5., 0., 0., ..., 0., 0., 0.],\n",
       "       [0., 0., 0., ..., 0., 0., 0.],\n",
       "       [4., 0., 0., ..., 0., 0., 0.],\n",
       "       ...,\n",
       "       [3., 0., 0., ..., 0., 0., 0.],\n",
       "       [1., 0., 0., ..., 0., 0., 0.],\n",
       "       [4., 0., 0., ..., 0., 0., 0.]])"
      ]
     },
     "execution_count": 3,
     "metadata": {},
     "output_type": "execute_result"
    }
   ],
   "source": [
    "train_data[:10]"
   ]
  },
  {
   "cell_type": "code",
   "execution_count": 4,
   "metadata": {},
   "outputs": [
    {
     "data": {
      "text/plain": [
       "(10000, 785)"
      ]
     },
     "execution_count": 4,
     "metadata": {},
     "output_type": "execute_result"
    }
   ],
   "source": [
    "test_data[test_data==255]\n",
    "test_data.shape"
   ]
  },
  {
   "cell_type": "code",
   "execution_count": 5,
   "metadata": {},
   "outputs": [],
   "source": [
    "fac = 0.99 / 255\n",
    "train_imgs = np.asfarray(train_data[:, 1:]) * fac + 0.01\n",
    "test_imgs = np.asfarray(test_data[:, 1:]) * fac + 0.01\n",
    "\n",
    "train_labels = np.asfarray(train_data[:, :1])\n",
    "test_labels = np.asfarray(test_data[:, :1])"
   ]
  },
  {
   "cell_type": "code",
   "execution_count": 6,
   "metadata": {},
   "outputs": [
    {
     "name": "stdout",
     "output_type": "stream",
     "text": [
      "label:  0  in one-hot representation:  [1 0 0 0 0 0 0 0 0 0]\n",
      "label:  1  in one-hot representation:  [0 1 0 0 0 0 0 0 0 0]\n",
      "label:  2  in one-hot representation:  [0 0 1 0 0 0 0 0 0 0]\n",
      "label:  3  in one-hot representation:  [0 0 0 1 0 0 0 0 0 0]\n",
      "label:  4  in one-hot representation:  [0 0 0 0 1 0 0 0 0 0]\n",
      "label:  5  in one-hot representation:  [0 0 0 0 0 1 0 0 0 0]\n",
      "label:  6  in one-hot representation:  [0 0 0 0 0 0 1 0 0 0]\n",
      "label:  7  in one-hot representation:  [0 0 0 0 0 0 0 1 0 0]\n",
      "label:  8  in one-hot representation:  [0 0 0 0 0 0 0 0 1 0]\n",
      "label:  9  in one-hot representation:  [0 0 0 0 0 0 0 0 0 1]\n"
     ]
    }
   ],
   "source": [
    "import numpy as np\n",
    "\n",
    "lr = np.arange(10)\n",
    "\n",
    "for label in range(10):\n",
    "    one_hot = (lr==label).astype(np.int)\n",
    "    print(\"label: \", label, \" in one-hot representation: \", one_hot)"
   ]
  },
  {
   "cell_type": "code",
   "execution_count": 7,
   "metadata": {},
   "outputs": [],
   "source": [
    "# transform labels into one hot representation\n",
    "train_labels_one_hot = (lr==train_labels).astype(np.float)\n",
    "test_labels_one_hot = (lr==test_labels).astype(np.float)\n",
    "\n",
    "# we don't want zeroes and ones in the labels neither:\n",
    "train_labels_one_hot[train_labels_one_hot==0] = 0.01\n",
    "train_labels_one_hot[train_labels_one_hot==1] = 0.99\n",
    "test_labels_one_hot[test_labels_one_hot==0] = 0.01\n",
    "test_labels_one_hot[test_labels_one_hot==1] = 0.99"
   ]
  },
  {
   "cell_type": "code",
   "execution_count": 8,
   "metadata": {},
   "outputs": [
    {
     "data": {
      "image/png": "iVBORw0KGgoAAAANSUhEUgAAAPsAAAD4CAYAAAAq5pAIAAAAOXRFWHRTb2Z0d2FyZQBNYXRwbG90bGliIHZlcnNpb24zLjMuMiwgaHR0cHM6Ly9tYXRwbG90bGliLm9yZy8vihELAAAACXBIWXMAAAsTAAALEwEAmpwYAAAOTklEQVR4nO3dfYxUZZbH8d8RQVSIQWk7xCHbsxM1MSbTgyVZw0tYxiXIP2AwZkicsJFsT3xJBkPMGDZxfEkMMcuMGM0kPQvCbGYdRwHBxOyihMSQ6GipqIDvpgmNvDRRGSHKLHD2j75MWqx6qqm6Vbfo8/0knaq6p27fQ8GPW3Wfe+sxdxeAke+8ohsA0BqEHQiCsANBEHYgCMIOBHF+Kzc2ceJE7+rqauUmgVD6+vp0+PBhq1RrKOxmNlfSKkmjJP2nu69IPb+rq0vlcrmRTQJIKJVKVWt1v403s1GSnpR0k6RrJC0ys2vq/X0AmquRz+xTJX3i7p+5+98k/UnS/HzaApC3RsJ+haS9Qx73Z8u+w8x6zKxsZuWBgYEGNgegEU0/Gu/uve5ecvdSR0dHszcHoIpGwr5P0uQhj3+QLQPQhhoJ+xuSrjSzH5rZGEk/k7Q5n7YA5K3uoTd3P2Fmd0v6Xw0Ova1x9125dQYgVw2Ns7v7i5JezKkXAE3E6bJAEIQdCIKwA0EQdiAIwg4EQdiBIAg7EARhB4Ig7EAQhB0IgrADQRB2IAjCDgRB2IEgCDsQBGEHgiDsQBCEHQiCsANBEHYgCMIOBEHYgSAIOxAEYQeCIOxAEIQdCIKwA0EQdiAIwg4E0dAsrmh/p06dStaPHz/e1O2vW7euau3YsWPJdXfv3p2sP/bYY8n68uXLq9aeeOKJ5LoXXnhhsr5y5cpk/Y477kjWi9BQ2M2sT9LXkk5KOuHupTyaApC/PPbs/+zuh3P4PQCaiM/sQBCNht0lbTGzN82sp9ITzKzHzMpmVh4YGGhwcwDq1WjYp7v7FEk3SbrLzGae+QR373X3kruXOjo6GtwcgHo1FHZ335fdHpK0UdLUPJoCkL+6w25mF5vZ+NP3Jc2RtDOvxgDkq5Gj8Z2SNprZ6d/z3+7+P7l0NcIcOXIkWT958mSy/s477yTrW7ZsqVr76quvkuv29vYm60Xq6upK1pctW5asr169umrtkksuSa47Y8aMZH327NnJejuqO+zu/pmkH+fYC4AmYugNCIKwA0EQdiAIwg4EQdiBILjENQf9/f3Jend3d7L+5Zdf5tjNueO889L7mtTQmVT7MtQlS5ZUrV1++eXJdceNG5esn4tng7JnB4Ig7EAQhB0IgrADQRB2IAjCDgRB2IEgGGfPwWWXXZasd3Z2JuvtPM4+Z86cZL3Wn33Dhg1VaxdccEFy3VmzZiXrODvs2YEgCDsQBGEHgiDsQBCEHQiCsANBEHYgCMbZc1Druuq1a9cm688991yyfsMNNyTrCxcuTNZTpk+fnqxv2rQpWR8zZkyyfuDAgaq1VatWJddFvtizA0EQdiAIwg4EQdiBIAg7EARhB4Ig7EAQ5u4t21ipVPJyudyy7Z0rjh8/nqzXGstevnx51dqjjz6aXHfbtm3J+syZM5N1tJdSqaRyuWyVajX37Ga2xswOmdnOIcsuNbOXzOzj7HZCng0DyN9w3savlTT3jGX3Sdrq7ldK2po9BtDGaobd3V+R9MUZi+dLWpfdXydpQb5tAchbvQfoOt19f3b/gKSqX7JmZj1mVjaz8sDAQJ2bA9Coho/G++ARvqpH+dy9191L7l46FyfDA0aKesN+0MwmSVJ2eyi/lgA0Q71h3yxpcXZ/saT0dZAAClfzenYze1rSLEkTzaxf0q8lrZD0ZzNbImmPpFub2eRIV+v702uZMKH+kc/HH388WZ8xY0ayblZxSBdtqGbY3X1RldJPc+4FQBNxuiwQBGEHgiDsQBCEHQiCsANB8FXSI8DSpUur1l5//fXkuhs3bkzWd+3alaxfe+21yTraB3t2IAjCDgRB2IEgCDsQBGEHgiDsQBCEHQiCcfYRIPVV0729vcl1t27dmqzPnz8/WV+wYEGyPm3atKq1m2++Obkul8/miz07EARhB4Ig7EAQhB0IgrADQRB2IAjCDgTBlM3B1brefe7cM+f0/K4jR47Uve01a9Yk6wsXLkzWx40bV/e2R6qGpmwGMDIQdiAIwg4EQdiBIAg7EARhB4Ig7EAQXM8e3NSpU5P1Wt8bf8899yTrzz77bNXa7bffnlz3008/TdbvvffeZH38+PHJejQ19+xmtsbMDpnZziHLHjCzfWa2I/uZ19w2ATRqOG/j10qqdBrVb929O/t5Md+2AOStZtjd/RVJX7SgFwBN1MgBurvN7N3sbf6Eak8ysx4zK5tZeWBgoIHNAWhEvWH/naQfSeqWtF/SympPdPdedy+5e6mjo6POzQFoVF1hd/eD7n7S3U9J+r2k9CFdAIWrK+xmNmnIw5sl7az2XADtoeb17Gb2tKRZkiZKOijp19njbkkuqU/SL9x9f62NcT37yPPtt98m66+99lrV2o033phct9a/zVtuuSVZf+aZZ5L1kSh1PXvNk2rcfVGFxasb7gpAS3G6LBAEYQeCIOxAEIQdCIKwA0FwiSsaMnbs2GR91qxZVWujRo1KrnvixIlk/fnnn0/WP/zww6q1q6++OrnuSMSeHQiCsANBEHYgCMIOBEHYgSAIOxAEYQeCYJwdSZ9//nmyvmHDhmT91VdfrVqrNY5ey/XXX5+sX3XVVQ39/pGGPTsQBGEHgiDsQBCEHQiCsANBEHYgCMIOBME4+whXa8qtJ598Mll/6qmnkvX+/v6z7mm4al3v3tXVlaybVfxG5bDYswNBEHYgCMIOBEHYgSAIOxAEYQeCIOxAEIyznwOOHj2arL/wwgtVaw899FBy3Y8++qiunvIwe/bsZH3FihXJ+nXXXZdnOyNezT27mU02s21mttvMdpnZL7Pll5rZS2b2cXY7ofntAqjXcN7Gn5C0zN2vkfRPku4ys2sk3Sdpq7tfKWlr9hhAm6oZdnff7+5vZfe/lvS+pCskzZe0LnvaOkkLmtQjgByc1QE6M+uS9BNJf5HU6e77s9IBSZ1V1ukxs7KZlWudpw2geYYddjMbJ2m9pKXu/tehNXd3SV5pPXfvdfeSu5c6OjoaahZA/YYVdjMbrcGg/9HdT3+d6EEzm5TVJ0k61JwWAeSh5tCbDV4nuFrS++7+myGlzZIWS1qR3W5qSocjwLFjx5L1vXv3Juu33XZbsv7222+fdU95mTNnTrL+4IMPVq3V+ipoLlHN13DG2adJ+rmk98xsR7ZsuQZD/mczWyJpj6Rbm9IhgFzUDLu7b5dU7b/Yn+bbDoBm4XRZIAjCDgRB2IEgCDsQBGEHguAS12H65ptvqtaWLl2aXHf79u3J+gcffFBPS7mYN29esn7//fcn693d3cn66NGjz7YlNAl7diAIwg4EQdiBIAg7EARhB4Ig7EAQhB0IIsw4e19fX7L+yCOPJOsvv/xy1dqePXvqaSk3F110UdXaww8/nFz3zjvvTNbHjBlTV09oP+zZgSAIOxAEYQeCIOxAEIQdCIKwA0EQdiCIMOPs69evT9ZXr17dtG1PmTIlWV+0aFGyfv756b+mnp6eqrWxY8cm10Uc7NmBIAg7EARhB4Ig7EAQhB0IgrADQRB2IAhz9/QTzCZL+oOkTkkuqdfdV5nZA5L+TdJA9tTl7v5i6neVSiUvl8sNNw2gslKppHK5XHHW5eGcVHNC0jJ3f8vMxkt608xeymq/dff/yKtRAM0znPnZ90van93/2szel3RFsxsDkK+z+sxuZl2SfiLpL9miu83sXTNbY2YTqqzTY2ZlMysPDAxUegqAFhh22M1snKT1kpa6+18l/U7SjyR1a3DPv7LSeu7e6+4ldy91dHQ03jGAugwr7GY2WoNB/6O7b5Akdz/o7ifd/ZSk30ua2rw2ATSqZtjNzCStlvS+u/9myPJJQ552s6Sd+bcHIC/DORo/TdLPJb1nZjuyZcslLTKzbg0Ox/VJ+kUT+gOQk+Ecjd8uqdK4XXJMHUB74Qw6IAjCDgRB2IEgCDsQBGEHgiDsQBCEHQiCsANBEHYgCMIOBEHYgSAIOxAEYQeCIOxAEDW/SjrXjZkNSNozZNFESYdb1sDZadfe2rUvid7qlWdv/+DuFb//raVh/97GzcruXiqsgYR27a1d+5LorV6t6o238UAQhB0Iouiw9xa8/ZR27a1d+5LorV4t6a3Qz+wAWqfoPTuAFiHsQBCFhN3M5prZh2b2iZndV0QP1ZhZn5m9Z2Y7zKzQ+aWzOfQOmdnOIcsuNbOXzOzj7LbiHHsF9faAme3LXrsdZjavoN4mm9k2M9ttZrvM7JfZ8kJfu0RfLXndWv6Z3cxGSfpI0r9I6pf0hqRF7r67pY1UYWZ9kkruXvgJGGY2U9JRSX9w92uzZY9K+sLdV2T/UU5w91+1SW8PSDpa9DTe2WxFk4ZOMy5pgaR/VYGvXaKvW9WC162IPftUSZ+4+2fu/jdJf5I0v4A+2p67vyLpizMWz5e0Lru/ToP/WFquSm9twd33u/tb2f2vJZ2eZrzQ1y7RV0sUEfYrJO0d8rhf7TXfu0vaYmZvmllP0c1U0Onu+7P7ByR1FtlMBTWn8W6lM6YZb5vXrp7pzxvFAbrvm+7uUyTdJOmu7O1qW/LBz2DtNHY6rGm8W6XCNON/V+RrV+/0540qIuz7JE0e8vgH2bK24O77sttDkjaq/aaiPnh6Bt3s9lDB/fxdO03jXWmacbXBa1fk9OdFhP0NSVea2Q/NbIykn0naXEAf32NmF2cHTmRmF0uao/abinqzpMXZ/cWSNhXYy3e0yzTe1aYZV8GvXeHTn7t7y38kzdPgEflPJf17ET1U6esfJb2T/ewqujdJT2vwbd3/afDYxhJJl0naKuljSS9LurSNevsvSe9JeleDwZpUUG/TNfgW/V1JO7KfeUW/dom+WvK6cbosEAQH6IAgCDsQBGEHgiDsQBCEHQiCsANBEHYgiP8H/v1TaABfc0YAAAAASUVORK5CYII=\n",
      "text/plain": [
       "<Figure size 432x288 with 1 Axes>"
      ]
     },
     "metadata": {
      "needs_background": "light"
     },
     "output_type": "display_data"
    },
    {
     "data": {
      "image/png": "iVBORw0KGgoAAAANSUhEUgAAAPsAAAD4CAYAAAAq5pAIAAAAOXRFWHRTb2Z0d2FyZQBNYXRwbG90bGliIHZlcnNpb24zLjMuMiwgaHR0cHM6Ly9tYXRwbG90bGliLm9yZy8vihELAAAACXBIWXMAAAsTAAALEwEAmpwYAAAOdUlEQVR4nO3dfayU5ZnH8d8lLb4AEpAjQXvicRETtYnQTMgmJQ2bug3oH0h8CUQJa4g0BJSa+haMqTGayLotSlyJsBBw7dI0FCN/mLVKGrF/2DgClRezq4sH4QQ5hwip1Wh5ufaP89gc8Tz3HGaemWfg+n6Sycw819znuTL645l57pm5zd0F4Nx3XtkNAGgNwg4EQdiBIAg7EARhB4L4Tit3Nm7cOO/q6mrlLoFQuru7deTIERus1lDYzWyGpGclDZP0H+7+VOrxXV1dqlarjewSQEKlUsmt1f0y3syGSfp3STMlXStprpldW+/fA9BcjbxnnyrpQ3ff5+5/k/QbSbOKaQtA0RoJ++WSDgy4fzDb9g1mttDMqmZW7evra2B3ABrR9LPx7r7a3SvuXuno6Gj27gDkaCTsPZI6B9z/XrYNQBtqJOzvSJpkZlea2XBJcyRtKaYtAEWre+rN3U+Y2RJJr6l/6m2du+8prDMAhWpont3dX5X0akG9AGgiPi4LBEHYgSAIOxAEYQeCIOxAEIQdCIKwA0EQdiAIwg4EQdiBIAg7EARhB4Ig7EAQhB0IgrADQRB2IAjCDgRB2IEgCDsQBGEHgiDsQBAtXbIZ554DBw4k688++2xubcWKFcmx9913X7K+dOnSZL2zszNZj4YjOxAEYQeCIOxAEIQdCIKwA0EQdiAIwg4EwTw7knp6epL1KVOmJOvHjh3LrZlZcuwzzzyTrG/YsCFZ7+vrS9ajaSjsZtYt6TNJJyWdcPdKEU0BKF4RR/Z/cvcjBfwdAE3Ee3YgiEbD7pJ+b2bvmtnCwR5gZgvNrGpmVd5DAeVpNOzT3P0HkmZKWmxmPzr9Ae6+2t0r7l7p6OhocHcA6tVQ2N29J7vulfSypKlFNAWgeHWH3cxGmNmor29L+omk3UU1BqBYjZyNHy/p5Wyu9DuS/svd/7uQrtAy+/fvT9anT5+erB89ejRZT82ljx49Ojn2/PPPT9Z7e3uT9X379uXWrrjiiuTYYcOGJetno7rD7u77JF1fYC8AmoipNyAIwg4EQdiBIAg7EARhB4LgK67ngOPHj+fWak2tzZgxI1mv9VPRjZg8eXKy/uSTTybr06ZNS9YnTZqUW1u9enVy7IIFC5L1sxFHdiAIwg4EQdiBIAg7EARhB4Ig7EAQhB0Ignn2c8ADDzyQW3vuueda2MmZefPNN5P1zz//PFmfPXt2sr558+bc2o4dO5Jjz0Uc2YEgCDsQBGEHgiDsQBCEHQiCsANBEHYgCObZzwK1vlP+0ksv5dbcvaF915rLvuWWW5L1O++8M7fW2dmZHHvNNdck6w899FCyvmnTptxao8/L2YgjOxAEYQeCIOxAEIQdCIKwA0EQdiAIwg4EYa2cb6xUKl6tVlu2v7NFT09Psn799enFco8dO1b3vu+4445kfc2aNcn63r17k/Xt27fn1ubMmZMce9FFFyXrtaSWXR4xYkRy7J49e5L1Wp8RKEulUlG1Wh10neyaR3YzW2dmvWa2e8C2sWb2upl9kF2PKbJhAMUbysv49ZJOXzbkYUlb3X2SpK3ZfQBtrGbY3X2bpE9P2zxL0obs9gZJNxfbFoCi1XuCbry7H8pufyJpfN4DzWyhmVXNrNrX11fn7gA0quGz8d5/hi/3LJ+7r3b3irtXOjo6Gt0dgDrVG/bDZjZBkrLr3uJaAtAM9YZ9i6T52e35kl4pph0AzVLz++xmtlHSdEnjzOygpF9IekrSb81sgaT9km5vZpNnuyNHjiTry5cvT9aPHj2arI8fn3vKRFdeeWVy7KJFi5L14cOHJ+u11livVS/LF198kaw//fTTyfrKlSuLbKclaobd3efmlH5ccC8AmoiPywJBEHYgCMIOBEHYgSAIOxAEPyVdgBMnTiTr999/f7Ke+iloSRo9enSy/tprr+XWrrrqquTY48ePJ+tRffTRR2W3UDiO7EAQhB0IgrADQRB2IAjCDgRB2IEgCDsQBPPsBfj444+T9Vrz6LW8/fbbyfrVV19d99++8MIL6x6LswtHdiAIwg4EQdiBIAg7EARhB4Ig7EAQhB0Ignn2AixevDhZr7Us9uzZs5P1RubRIzt16lRu7bzz0se5Vi5l3ioc2YEgCDsQBGEHgiDsQBCEHQiCsANBEHYgCObZh2jHjh25tW3btiXHmlmyftttt9XVE9JSc+m1/ptUKpWi2yldzSO7ma0zs14z2z1g22Nm1mNmO7PLjc1tE0CjhvIyfr2kGYNsX+Huk7PLq8W2BaBoNcPu7tskfdqCXgA0USMn6JaY2XvZy/wxeQ8ys4VmVjWzal9fXwO7A9CIesO+StJESZMlHZL0y7wHuvtqd6+4e6Wjo6PO3QFoVF1hd/fD7n7S3U9JWiNparFtAShaXWE3swkD7s6WtDvvsQDaQ815djPbKGm6pHFmdlDSLyRNN7PJklxSt6SfNq/F9vDll1/m1r766qvk2MsuuyxZv+mmm+rq6VxXa937lStX1v23b7311mR92bJldf/tdlUz7O4+d5DNa5vQC4Am4uOyQBCEHQiCsANBEHYgCMIOBMFXXFvgggsuSNZHjhzZok7aS62ptVWrViXrDz74YLLe1dWVW3vkkUeSY4cPH56sn404sgNBEHYgCMIOBEHYgSAIOxAEYQeCIOxAEMyzt8C8efPKbqE0PT09ubXly5cnxz7//PPJ+l133ZWsr1mzJlmPhiM7EARhB4Ig7EAQhB0IgrADQRB2IAjCDgTBPPsQuXtdNUlav359sv7oo4/W01Jb2LhxY7J+zz335NaOHj2aHHvvvfcm6ytWrEjW8U0c2YEgCDsQBGEHgiDsQBCEHQiCsANBEHYgCObZh8jM6qpJ0sGDB5P1xx9/PFlfsGBBsj5q1Kjc2p49e5JjX3jhhWT9rbfeSta7u7uT9YkTJ+bW5syZkxxba54dZ6bmkd3MOs3sD2a218z2mNnSbPtYM3vdzD7Irsc0v10A9RrKy/gTkn7u7tdK+kdJi83sWkkPS9rq7pMkbc3uA2hTNcPu7ofcfXt2+zNJ70u6XNIsSRuyh22QdHOTegRQgDM6QWdmXZKmSPqTpPHufigrfSJpfM6YhWZWNbNqX19fI70CaMCQw25mIyX9TtLP3P0vA2ve/02QQb8N4u6r3b3i7pWOjo6GmgVQvyGF3cy+q/6g/9rdN2ebD5vZhKw+QVJvc1oEUISaU2/WP6+0VtL77v6rAaUtkuZLeiq7fqUpHZ4DTp48mazXmnpbu3Ztsj527Njc2q5du5JjGzVz5sxkfcaMGbm1JUuWFN0OEoYyz/5DSfMk7TKzndm2ZeoP+W/NbIGk/ZJub0qHAApRM+zu/kdJeZ8a+XGx7QBoFj4uCwRB2IEgCDsQBGEHgiDsQBB8xXWIrrvuutzaDTfckBz7xhtvNLTvWl+RTS2LXMull16arC9atChZP5t/BjsajuxAEIQdCIKwA0EQdiAIwg4EQdiBIAg7EATz7EN08cUX59Y2bdqUHPviiy8m6838yeQnnngiWb/77ruT9UsuuaTIdlAijuxAEIQdCIKwA0EQdiAIwg4EQdiBIAg7EIT1L+bSGpVKxavVasv2B0RTqVRUrVYH/TVojuxAEIQdCIKwA0EQdiAIwg4EQdiBIAg7EETNsJtZp5n9wcz2mtkeM1uabX/MzHrMbGd2ubH57QKo11B+vOKEpJ+7+3YzGyXpXTN7PautcPd/a157AIoylPXZD0k6lN3+zMzel3R5sxsDUKwzes9uZl2Spkj6U7ZpiZm9Z2brzGxMzpiFZlY1s2pfX19j3QKo25DDbmYjJf1O0s/c/S+SVkmaKGmy+o/8vxxsnLuvdveKu1c6Ojoa7xhAXYYUdjP7rvqD/mt33yxJ7n7Y3U+6+ylJayRNbV6bABo1lLPxJmmtpPfd/VcDtk8Y8LDZknYX3x6AogzlbPwPJc2TtMvMdmbblkmaa2aTJbmkbkk/bUJ/AAoylLPxf5Q02PdjXy2+HQDNwifogCAIOxAEYQeCIOxAEIQdCIKwA0EQdiAIwg4EQdiBIAg7EARhB4Ig7EAQhB0IgrADQbR0yWYz65O0f8CmcZKOtKyBM9OuvbVrXxK91avI3q5w90F//62lYf/Wzs2q7l4prYGEdu2tXfuS6K1ereqNl/FAEIQdCKLssK8uef8p7dpbu/Yl0Vu9WtJbqe/ZAbRO2Ud2AC1C2IEgSgm7mc0ws/8xsw/N7OEyeshjZt1mtitbhrpaci/rzKzXzHYP2DbWzF43sw+y60HX2Cupt7ZYxjuxzHipz13Zy5+3/D27mQ2T9L+S/lnSQUnvSJrr7ntb2kgOM+uWVHH30j+AYWY/kvRXSS+6+/ezbf8q6VN3fyr7h3KMuz/UJr09JumvZS/jna1WNGHgMuOSbpb0LyrxuUv0dbta8LyVcWSfKulDd9/n7n+T9BtJs0roo+25+zZJn562eZakDdntDer/n6XlcnprC+5+yN23Z7c/k/T1MuOlPneJvlqijLBfLunAgPsH1V7rvbuk35vZu2a2sOxmBjHe3Q9ltz+RNL7MZgZRcxnvVjptmfG2ee7qWf68UZyg+7Zp7v4DSTMlLc5errYl738P1k5zp0NaxrtVBllm/O/KfO7qXf68UWWEvUdS54D738u2tQV378mueyW9rPZbivrw1yvoZte9Jffzd+20jPdgy4yrDZ67Mpc/LyPs70iaZGZXmtlwSXMkbSmhj28xsxHZiROZ2QhJP1H7LUW9RdL87PZ8Sa+U2Ms3tMsy3nnLjKvk56705c/dveUXSTeq/4z8/0l6pIwecvr6B0l/zi57yu5N0kb1v6w7rv5zGwskXSJpq6QPJL0haWwb9fafknZJek/9wZpQUm/T1P8S/T1JO7PLjWU/d4m+WvK88XFZIAhO0AFBEHYgCMIOBEHYgSAIOxAEYQeCIOxAEP8PJdJc1imh8gYAAAAASUVORK5CYII=\n",
      "text/plain": [
       "<Figure size 432x288 with 1 Axes>"
      ]
     },
     "metadata": {
      "needs_background": "light"
     },
     "output_type": "display_data"
    },
    {
     "data": {
      "image/png": "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\n",
      "text/plain": [
       "<Figure size 432x288 with 1 Axes>"
      ]
     },
     "metadata": {
      "needs_background": "light"
     },
     "output_type": "display_data"
    },
    {
     "data": {
      "image/png": "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\n",
      "text/plain": [
       "<Figure size 432x288 with 1 Axes>"
      ]
     },
     "metadata": {
      "needs_background": "light"
     },
     "output_type": "display_data"
    },
    {
     "data": {
      "image/png": "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\n",
      "text/plain": [
       "<Figure size 432x288 with 1 Axes>"
      ]
     },
     "metadata": {
      "needs_background": "light"
     },
     "output_type": "display_data"
    },
    {
     "data": {
      "image/png": "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\n",
      "text/plain": [
       "<Figure size 432x288 with 1 Axes>"
      ]
     },
     "metadata": {
      "needs_background": "light"
     },
     "output_type": "display_data"
    },
    {
     "data": {
      "image/png": "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\n",
      "text/plain": [
       "<Figure size 432x288 with 1 Axes>"
      ]
     },
     "metadata": {
      "needs_background": "light"
     },
     "output_type": "display_data"
    },
    {
     "data": {
      "image/png": "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\n",
      "text/plain": [
       "<Figure size 432x288 with 1 Axes>"
      ]
     },
     "metadata": {
      "needs_background": "light"
     },
     "output_type": "display_data"
    },
    {
     "data": {
      "image/png": "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\n",
      "text/plain": [
       "<Figure size 432x288 with 1 Axes>"
      ]
     },
     "metadata": {
      "needs_background": "light"
     },
     "output_type": "display_data"
    },
    {
     "data": {
      "image/png": "iVBORw0KGgoAAAANSUhEUgAAAPsAAAD4CAYAAAAq5pAIAAAAOXRFWHRTb2Z0d2FyZQBNYXRwbG90bGliIHZlcnNpb24zLjMuMiwgaHR0cHM6Ly9tYXRwbG90bGliLm9yZy8vihELAAAACXBIWXMAAAsTAAALEwEAmpwYAAANwElEQVR4nO3dX4xUZZrH8d+jA4k6EGHpYOvoNgt60U6yMOmQDUMmbkbxf2AuGoeLCZOQ4AUmgHOxOps4GjWSRYasuhnDrAR2g44TZ4gYiTuKREHJxMawgprddg0GOi1dxCiSiIzy7EUfJw32eauoc6pOwfP9JJWqOk+dOk9Kf7zV562q19xdAM5/F1TdAID2IOxAEIQdCIKwA0EQdiCI77TzYNOmTfOenp52HhII5eDBgzp69KiNVysUdjO7SdK/SrpQ0r+7+5rU43t6ejQwMFDkkAAS+vr6cmtNv403swsl/ZukmyX1SlpiZr3NPh+A1iryN/tcSR+4+4fuflLS7yQtLKctAGUrEvYrJB0ac/9wtu00ZrbczAbMbKBWqxU4HIAiWn423t03uHufu/d1dXW1+nAAchQJ+5CkK8fc/162DUAHKhL2tyRdbWYzzGyipJ9K2lZOWwDK1vTUm7t/ZWZ3SfovjU69bXT3d0vrDECpCs2zu/t2SdtL6gVAC/FxWSAIwg4EQdiBIAg7EARhB4Ig7EAQhB0IgrADQRB2IAjCDgRB2IEgCDsQBGEHgiDsQBCEHQiCsANBEHYgCMIOBEHYgSAIOxAEYQeCaOuSzcC5or+/P1l392T9ueeeK7OdUjCyA0EQdiAIwg4EQdiBIAg7EARhB4Ig7EAQzLMjpIcffjhZf/HFF5P11atXl9lOWxQKu5kdlPS5pK8lfeXufWU0BaB8ZYzs/+juR0t4HgAtxN/sQBBFw+6S/mRme81s+XgPMLPlZjZgZgO1Wq3g4QA0q2jY57v7DyTdLGmFmf3ozAe4+wZ373P3vq6uroKHA9CsQmF396HsekTSVklzy2gKQPmaDruZXWJmk765LWmBpANlNQagXEXOxk+XtNXMvnmep939pVK6Akqwbt263Fq9efaJEycm67feemtTPVWp6bC7+4eS/r7EXgC0EFNvQBCEHQiCsANBEHYgCMIOBMFXXHHe2r17d27t5MmTyX1vv/32ZH3evHlN9VQlRnYgCMIOBEHYgSAIOxAEYQeCIOxAEIQdCIJ59vPc4OBgsn7fffcl6xs3bkzWL7roorPuqSy7du1K1t98883cWm9vb3Lf9evXN9VTJ2NkB4Ig7EAQhB0IgrADQRB2IAjCDgRB2IEgmGc/z/X39yfr+/fvT9YffPDBZH3WrFln3VNZ7r777mR9ZGQkt/bCCy8k97388sub6qmTMbIDQRB2IAjCDgRB2IEgCDsQBGEHgiDsQBDMs5/nJk+enKxnS27nqvf76q00NDSUrNf7rv4FF+SPZV9++WVTPZ3L6o7sZrbRzEbM7MCYbVPN7GUzG8yup7S2TQBFNfI2fpOkm87Ydo+kHe5+taQd2X0AHaxu2N39dUmfnLF5oaTN2e3NkhaV2xaAsjV7gm66uw9ntz+WND3vgWa23MwGzGygVqs1eTgARRU+G+/uLskT9Q3u3ufufV1dXUUPB6BJzYb9iJl1S1J2nf/1IgAdodmwb5O0NLu9VNLz5bQDoFXqzrOb2TOSrpM0zcwOS/qVpDWSfm9myyR9JGlxK5tE2uOPP55b27NnT3LfOXPmJOs9PT3NtNSQenP4jzzySLJ+/PjxZP3GG2/MrZ2L66sXVTfs7r4kp/TjknsB0EJ8XBYIgrADQRB2IAjCDgRB2IEg+IrrOeDYsWPJ+po1a3JrEyZMSO67ZcuWZP3iiy9O1ot44IEHkvUnn3wyWb/qqquS9e3bt591T+czRnYgCMIOBEHYgSAIOxAEYQeCIOxAEIQdCIJ59g4wPDycrF9//fXJ+pEjR3Jr9eayr7nmmmS9qNQ8/qOPPlrouR977LFC+0fDyA4EQdiBIAg7EARhB4Ig7EAQhB0IgrADQTDPXoJTp04l6zt37kzWFyxYUOj5U0sTv/baa8l9L7vssmR96dKlyfqJEyeS9U2bNuXWRhcTyrd69epk/bbbbkvWcTpGdiAIwg4EQdiBIAg7EARhB4Ig7EAQhB0Ignn2EuzatStZTy0dLElmlqyn5tEl6dprr82tvfrqq8l969WfffbZZH1wcDBZP3ToUG6t3hz/2rVrk3Wcnboju5ltNLMRMzswZtv9ZjZkZvuyyy2tbRNAUY28jd8k6aZxtq9399nZhaU3gA5XN+zu/rqkT9rQC4AWKnKC7i4zeyd7mz8l70FmttzMBsxsoFarFTgcgCKaDftvJM2UNFvSsKR1eQ909w3u3ufufV1dXU0eDkBRTYXd3Y+4+9fufkrSbyXNLbctAGVrKuxm1j3m7k8kHch7LIDOUHee3cyekXSdpGlmdljSryRdZ2azJbmkg5LubF2LneGNN97IrdX7XfeJEycm61OnTk3WX3nllWR90qRJubVVq1Yl9926dWuyXm8evt530lOfIUj93r0kzZgxI1nfu3dvsl7vdY2mbtjdfck4m59qQS8AWoiPywJBEHYgCMIOBEHYgSAIOxAEX3Ft0Pr163Nrs2bNSu5bb2nhG264oameGvHEE08k61988UWy/tJLL5XZzmnqTdstWrQoWWdq7ewwsgNBEHYgCMIOBEHYgSAIOxAEYQeCIOxAEMyzN+iOO+7IrdX7qejJkyeX3U7Djh07lqzv2bOn0PPX+xntmTNnNv3cl156adP74tsY2YEgCDsQBGEHgiDsQBCEHQiCsANBEHYgCObZG9Tf3191C7lOnDiRW9uyZUty308//TRZ7+3tTdbnzZuXrKNzMLIDQRB2IAjCDgRB2IEgCDsQBGEHgiDsQBDMs58Hnn766dzaQw89lNy3u7s7WU8tVY1zS92R3cyuNLOdZvaemb1rZiuz7VPN7GUzG8yup7S+XQDNauRt/FeSfuHuvZL+QdIKM+uVdI+kHe5+taQd2X0AHapu2N192N3fzm5/Lul9SVdIWihpc/awzZIWtahHACU4qxN0ZtYjaY6kP0ua7u7DWeljSdNz9lluZgNmNlCr1Yr0CqCAhsNuZt+V9AdJq9z9tF8x9NEV+sZdpc/dN7h7n7v3dXV1FWoWQPMaCruZTdBo0Le4+x+zzUfMrDurd0saaU2LAMpQd+rNzEzSU5Led/dfjyltk7RU0prs+vmWdAh99tlnyfratWtza6P/+fLde++9yXqVP4ONcjUyz/5DST+TtN/M9mXbfqnRkP/ezJZJ+kjS4pZ0CKAUdcPu7rsl5Q0PPy63HQCtwsdlgSAIOxAEYQeCIOxAEIQdCIKvuJ4D5s+fn6wPDg7m1lauXJncd8WKFU31hHMPIzsQBGEHgiDsQBCEHQiCsANBEHYgCMIOBME8+zlg1apVyfqdd96ZW1u8mG8eYxQjOxAEYQeCIOxAEIQdCIKwA0EQdiAIwg4EwTz7OWDZsmWF6oDEyA6EQdiBIAg7EARhB4Ig7EAQhB0IgrADQdQNu5ldaWY7zew9M3vXzFZm2+83syEz25ddbml9uwCa1ciHar6S9At3f9vMJknaa2YvZ7X17v5o69oDUJZG1mcfljSc3f7czN6XdEWrGwNQrrP6m93MeiTNkfTnbNNdZvaOmW00syk5+yw3swEzG6jVasW6BdC0hsNuZt+V9AdJq9z9mKTfSJopabZGR/514+3n7hvcvc/d+7q6uop3DKApDYXdzCZoNOhb3P2PkuTuR9z9a3c/Jem3kua2rk0ARTVyNt4kPSXpfXf/9Zjt3WMe9hNJB8pvD0BZGjkb/0NJP5O038z2Zdt+KWmJmc2W5JIOSsr/PWMAlWvkbPxuSTZOaXv57QBoFT5BBwRB2IEgCDsQBGEHgiDsQBCEHQiCsANBEHYgCMIOBEHYgSAIOxAEYQeCIOxAEIQdCMLcvX0HM6tJ+mjMpmmSjratgbPTqb11al8SvTWrzN7+1t3H/f23tob9Wwc3G3D3vsoaSOjU3jq1L4nemtWu3ngbDwRB2IEgqg77hoqPn9KpvXVqXxK9NastvVX6NzuA9ql6ZAfQJoQdCKKSsJvZTWb2P2b2gZndU0UPeczsoJntz5ahHqi4l41mNmJmB8Zsm2pmL5vZYHY97hp7FfXWEct4J5YZr/S1q3r587b/zW5mF0r6X0k3SDos6S1JS9z9vbY2ksPMDkrqc/fKP4BhZj+SdFzSf7j797Nt/yLpE3dfk/1DOcXd/6lDertf0vGql/HOVivqHrvMuKRFkn6uCl+7RF+L1YbXrYqRfa6kD9z9Q3c/Kel3khZW0EfHc/fXJX1yxuaFkjZntzdr9H+WtsvprSO4+7C7v53d/lzSN8uMV/raJfpqiyrCfoWkQ2PuH1Znrffukv5kZnvNbHnVzYxjursPZ7c/ljS9ymbGUXcZ73Y6Y5nxjnntmln+vChO0H3bfHf/gaSbJa3I3q52JB/9G6yT5k4bWsa7XcZZZvyvqnztml3+vKgqwj4k6cox97+XbesI7j6UXY9I2qrOW4r6yDcr6GbXIxX381edtIz3eMuMqwNeuyqXP68i7G9JutrMZpjZREk/lbStgj6+xcwuyU6cyMwukbRAnbcU9TZJS7PbSyU9X2Evp+mUZbzzlhlXxa9d5cufu3vbL5Ju0egZ+f+T9M9V9JDT199J+u/s8m7VvUl6RqNv6/6i0XMbyyT9jaQdkgYlvSJpagf19p+S9kt6R6PB6q6ot/kafYv+jqR92eWWql+7RF9ted34uCwQBCfogCAIOxAEYQeCIOxAEIQdCIKwA0EQdiCI/we+ByKZuyIKfAAAAABJRU5ErkJggg==\n",
      "text/plain": [
       "<Figure size 432x288 with 1 Axes>"
      ]
     },
     "metadata": {
      "needs_background": "light"
     },
     "output_type": "display_data"
    }
   ],
   "source": [
    "for i in range(10):\n",
    "    img = train_imgs[i].reshape((28,28))\n",
    "    plt.imshow(img, cmap=\"Greys\")\n",
    "    plt.show()"
   ]
  },
  {
   "cell_type": "code",
   "execution_count": 9,
   "metadata": {},
   "outputs": [],
   "source": [
    "import pickle\n",
    "\n",
    "with open(\"data/mnist/pickled_mnist.pkl\", \"bw\") as fh:\n",
    "    data = (train_imgs, \n",
    "            test_imgs, \n",
    "            train_labels,\n",
    "            test_labels,\n",
    "            train_labels_one_hot,\n",
    "            test_labels_one_hot)\n",
    "    pickle.dump(data, fh)\n",
    "    "
   ]
  },
  {
   "cell_type": "code",
   "execution_count": 10,
   "metadata": {},
   "outputs": [],
   "source": [
    "with open(\"data/mnist/pickled_mnist.pkl\", \"br\") as fh:\n",
    "    data = pickle.load(fh)\n",
    "\n",
    "train_imgs = data[0]\n",
    "test_imgs = data[1]\n",
    "train_labels = data[2]\n",
    "test_labels = data[3]\n",
    "train_labels_one_hot = data[4]\n",
    "test_labels_one_hot = data[5]\n",
    "\n",
    "image_size = 28 # width and length\n",
    "no_of_different_labels = 10 #  i.e. 0, 1, 2, 3, ..., 9\n",
    "image_pixels = image_size * image_size"
   ]
  },
  {
   "cell_type": "code",
   "execution_count": 11,
   "metadata": {},
   "outputs": [],
   "source": [
    "import numpy as np\n",
    "from scipy.special import expit as activation_function\n",
    "from scipy.stats import truncnorm\n",
    "\n",
    "def truncated_normal(mean=0, sd=1, low=0, upp=10):\n",
    "    return truncnorm((low - mean) / sd, \n",
    "                     (upp - mean) / sd, \n",
    "                     loc=mean, \n",
    "                     scale=sd)\n",
    "\n",
    "\n",
    "class NeuralNetwork:\n",
    "        \n",
    "    \n",
    "    def __init__(self, \n",
    "                 network_structure, # ie. [input_nodes, hidden1_nodes, ... , hidden_n_nodes, output_nodes]\n",
    "                 learning_rate,\n",
    "                 bias=None\n",
    "                ):  \n",
    "\n",
    "        self.structure = network_structure\n",
    "        self.learning_rate = learning_rate \n",
    "        self.bias = bias\n",
    "        self.create_weight_matrices()\n",
    "    \n",
    "    \n",
    "    def create_weight_matrices(self):\n",
    "        \n",
    "        bias_node = 1 if self.bias else 0\n",
    "        self.weights_matrices = []\n",
    "        \n",
    "        layer_index = 1\n",
    "        no_of_layers = len(self.structure)\n",
    "        while layer_index < no_of_layers:\n",
    "            nodes_in = self.structure[layer_index-1]\n",
    "            nodes_out = self.structure[layer_index]\n",
    "            n = (nodes_in + bias_node) * nodes_out\n",
    "            rad = 1 / np.sqrt(nodes_in)\n",
    "            X = truncated_normal(mean=2, \n",
    "                                 sd=1, \n",
    "                                 low=-rad, \n",
    "                                 upp=rad)\n",
    "            wm = X.rvs(n).reshape((nodes_out, nodes_in + bias_node))\n",
    "            self.weights_matrices.append(wm)\n",
    "            layer_index += 1\n",
    "\n",
    "        \n",
    "        \n",
    "    def train(self, input_vector, target_vector):\n",
    "        \"\"\"\n",
    "        input_vector and target_vector can be tuple, \n",
    "        list or ndarray\n",
    "        \"\"\"                              \n",
    "\n",
    "        no_of_layers = len(self.structure)\n",
    "        input_vector = np.array(input_vector, ndmin=2).T\n",
    "        layer_index = 0\n",
    "        # The output/input vectors of the various layers:\n",
    "        res_vectors = [input_vector]\n",
    "        while layer_index < no_of_layers - 1:\n",
    "            in_vector = res_vectors[-1]\n",
    "            if self.bias:\n",
    "                # adding bias node to the end of the 'input'_vector\n",
    "                in_vector = np.concatenate( (in_vector, \n",
    "                                             [[self.bias]]) )\n",
    "                res_vectors[-1] = in_vector\n",
    "            x = np.dot(self.weights_matrices[layer_index], \n",
    "                       in_vector)\n",
    "            out_vector = activation_function(x)\n",
    "            # the output of one layer is the input of the next one:\n",
    "            res_vectors.append(out_vector)    \n",
    "            layer_index += 1\n",
    "        \n",
    "        layer_index = no_of_layers - 1\n",
    "        target_vector = np.array(target_vector, ndmin=2).T\n",
    "         # The input vectors to the various layers\n",
    "        output_errors = target_vector - out_vector  \n",
    "        while layer_index > 0:\n",
    "            out_vector = res_vectors[layer_index]\n",
    "            in_vector = res_vectors[layer_index-1]\n",
    "\n",
    "            if self.bias and not layer_index==(no_of_layers-1):\n",
    "                out_vector = out_vector[:-1,:].copy()\n",
    "\n",
    "            tmp = output_errors * out_vector * (1.0 - out_vector)     \n",
    "            tmp = np.dot(tmp, in_vector.T)\n",
    "            \n",
    "            #if self.bias:\n",
    "            #    tmp = tmp[:-1,:] \n",
    "                \n",
    "            self.weights_matrices[layer_index-1] += self.learning_rate * tmp\n",
    "            \n",
    "            output_errors = np.dot(self.weights_matrices[layer_index-1].T, \n",
    "                                   output_errors)\n",
    "            if self.bias:\n",
    "                output_errors = output_errors[:-1,:]\n",
    "            layer_index -= 1\n",
    "            \n",
    "            \n",
    "               \n",
    "    \n",
    "    def run(self, input_vector):\n",
    "        # input_vector can be tuple, list or ndarray\n",
    "\n",
    "        no_of_layers = len(self.structure)\n",
    "        if self.bias:\n",
    "            # adding bias node to the end of the inpuy_vector\n",
    "            input_vector = np.concatenate( (input_vector, \n",
    "                                            [self.bias]) )\n",
    "        in_vector = np.array(input_vector, ndmin=2).T\n",
    "\n",
    "        layer_index = 1\n",
    "        # The input vectors to the various layers\n",
    "        while layer_index < no_of_layers:\n",
    "            x = np.dot(self.weights_matrices[layer_index-1], \n",
    "                       in_vector)\n",
    "            out_vector = activation_function(x)\n",
    "            \n",
    "            # input vector for next layer\n",
    "            in_vector = out_vector\n",
    "            if self.bias:\n",
    "                in_vector = np.concatenate( (in_vector, \n",
    "                                             [[self.bias]]) )            \n",
    "            \n",
    "            layer_index += 1\n",
    "  \n",
    "    \n",
    "        return out_vector\n",
    "    \n",
    "    def evaluate(self, data, labels):\n",
    "        corrects, wrongs = 0, 0\n",
    "        for i in range(len(data)):\n",
    "            res = self.run(data[i])\n",
    "            res_max = res.argmax()\n",
    "            if res_max == labels[i]:\n",
    "                corrects += 1\n",
    "            else:\n",
    "                wrongs += 1\n",
    "        return corrects, wrongs"
   ]
  },
  {
   "cell_type": "code",
   "execution_count": 12,
   "metadata": {},
   "outputs": [],
   "source": [
    "ANN = NeuralNetwork(network_structure=[image_pixels, 50, 50, 10],\n",
    "                               learning_rate=0.1,\n",
    "                               bias=None)\n",
    "    \n",
    "    \n",
    "for i in range(len(train_imgs)):\n",
    "    ANN.train(train_imgs[i], train_labels_one_hot[i])"
   ]
  },
  {
   "cell_type": "code",
   "execution_count": 13,
   "metadata": {},
   "outputs": [
    {
     "name": "stdout",
     "output_type": "stream",
     "text": [
      "accuracy train:  0.87645\n",
      "accuracy: test 0.8787\n"
     ]
    }
   ],
   "source": [
    "corrects, wrongs = ANN.evaluate(train_imgs, train_labels)\n",
    "print(\"accuracy train: \", corrects / ( corrects + wrongs))\n",
    "corrects, wrongs = ANN.evaluate(test_imgs, test_labels)\n",
    "print(\"accuracy: test\", corrects / ( corrects + wrongs))"
   ]
  },
  {
   "cell_type": "code",
   "execution_count": null,
   "metadata": {},
   "outputs": [],
   "source": []
  }
 ],
 "metadata": {
  "kernelspec": {
   "display_name": "Python 3",
   "language": "python",
   "name": "python3"
  }
 },
 "nbformat": 4,
 "nbformat_minor": 4
}
