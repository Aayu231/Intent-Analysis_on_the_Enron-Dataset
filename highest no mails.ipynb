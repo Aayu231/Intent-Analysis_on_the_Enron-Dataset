{
 "cells": [
  {
   "cell_type": "code",
   "execution_count": 1,
   "metadata": {},
   "outputs": [
    {
     "name": "stderr",
     "output_type": "stream",
     "text": [
      "Matplotlib is building the font cache; this may take a moment.\n"
     ]
    }
   ],
   "source": [
    "import numpy as np\n",
    "import pandas as pd\n",
    "import matplotlib.pyplot as plt\n",
    "import seaborn as sns\n",
    "%matplotlib inline"
   ]
  },
  {
   "cell_type": "code",
   "execution_count": 2,
   "metadata": {},
   "outputs": [],
   "source": [
    "data = pd.read_csv('enron_email_20_percent.csv')"
   ]
  },
  {
   "cell_type": "code",
   "execution_count": 3,
   "metadata": {},
   "outputs": [
    {
     "data": {
      "text/html": [
       "<div>\n",
       "<style scoped>\n",
       "    .dataframe tbody tr th:only-of-type {\n",
       "        vertical-align: middle;\n",
       "    }\n",
       "\n",
       "    .dataframe tbody tr th {\n",
       "        vertical-align: top;\n",
       "    }\n",
       "\n",
       "    .dataframe thead th {\n",
       "        text-align: right;\n",
       "    }\n",
       "</style>\n",
       "<table border=\"1\" class=\"dataframe\">\n",
       "  <thead>\n",
       "    <tr style=\"text-align: right;\">\n",
       "      <th></th>\n",
       "      <th>Unnamed: 0</th>\n",
       "      <th>Message-ID</th>\n",
       "      <th>Date</th>\n",
       "      <th>From</th>\n",
       "      <th>To</th>\n",
       "      <th>Subject</th>\n",
       "      <th>X-From</th>\n",
       "      <th>X-To</th>\n",
       "      <th>X-cc</th>\n",
       "      <th>X-bcc</th>\n",
       "      <th>...</th>\n",
       "      <th>Cat_10_level_1</th>\n",
       "      <th>Cat_10_level_2</th>\n",
       "      <th>Cat_10_weight</th>\n",
       "      <th>Cat_11_level_1</th>\n",
       "      <th>Cat_11_level_2</th>\n",
       "      <th>Cat_11_weight</th>\n",
       "      <th>Cat_12_level_1</th>\n",
       "      <th>Cat_12_level_2</th>\n",
       "      <th>Cat_12_weight</th>\n",
       "      <th>labeled</th>\n",
       "    </tr>\n",
       "  </thead>\n",
       "  <tbody>\n",
       "    <tr>\n",
       "      <th>0</th>\n",
       "      <td>403470</td>\n",
       "      <td>&lt;117238.1075846810566.JavaMail.evans@thyme&gt;</td>\n",
       "      <td>2000-12-11 09:22:00</td>\n",
       "      <td>frozenset({'susan.scott@enron.com'})</td>\n",
       "      <td>frozenset({'alicia.perkins@enron.com'})</td>\n",
       "      <td>Re: Travel</td>\n",
       "      <td>Susan M Scott</td>\n",
       "      <td>Alicia Perkins</td>\n",
       "      <td>katyhester@hotmail.com</td>\n",
       "      <td>NaN</td>\n",
       "      <td>...</td>\n",
       "      <td>NaN</td>\n",
       "      <td>NaN</td>\n",
       "      <td>NaN</td>\n",
       "      <td>NaN</td>\n",
       "      <td>NaN</td>\n",
       "      <td>NaN</td>\n",
       "      <td>NaN</td>\n",
       "      <td>NaN</td>\n",
       "      <td>NaN</td>\n",
       "      <td>False</td>\n",
       "    </tr>\n",
       "    <tr>\n",
       "      <th>1</th>\n",
       "      <td>130904</td>\n",
       "      <td>&lt;12689165.1075853747639.JavaMail.evans@thyme&gt;</td>\n",
       "      <td>2000-03-09 10:00:00</td>\n",
       "      <td>frozenset({'scott.goodell@enron.com'})</td>\n",
       "      <td>frozenset({'chris.germany@enron.com'})</td>\n",
       "      <td>Re: k#65403</td>\n",
       "      <td>Scott Goodell</td>\n",
       "      <td>Chris Germany</td>\n",
       "      <td>NaN</td>\n",
       "      <td>NaN</td>\n",
       "      <td>...</td>\n",
       "      <td>NaN</td>\n",
       "      <td>NaN</td>\n",
       "      <td>NaN</td>\n",
       "      <td>NaN</td>\n",
       "      <td>NaN</td>\n",
       "      <td>NaN</td>\n",
       "      <td>NaN</td>\n",
       "      <td>NaN</td>\n",
       "      <td>NaN</td>\n",
       "      <td>False</td>\n",
       "    </tr>\n",
       "    <tr>\n",
       "      <th>2</th>\n",
       "      <td>217372</td>\n",
       "      <td>&lt;12058190.1075856802090.JavaMail.evans@thyme&gt;</td>\n",
       "      <td>2000-02-04 18:14:00</td>\n",
       "      <td>frozenset({'vince.kaminski@enron.com'})</td>\n",
       "      <td>frozenset({'vkaminski@aol.com'})</td>\n",
       "      <td>El Paso / ENA Deal Completely Terminated Now</td>\n",
       "      <td>Vince J Kaminski</td>\n",
       "      <td>vkaminski@aol.com</td>\n",
       "      <td>NaN</td>\n",
       "      <td>NaN</td>\n",
       "      <td>...</td>\n",
       "      <td>NaN</td>\n",
       "      <td>NaN</td>\n",
       "      <td>NaN</td>\n",
       "      <td>NaN</td>\n",
       "      <td>NaN</td>\n",
       "      <td>NaN</td>\n",
       "      <td>NaN</td>\n",
       "      <td>NaN</td>\n",
       "      <td>NaN</td>\n",
       "      <td>False</td>\n",
       "    </tr>\n",
       "    <tr>\n",
       "      <th>3</th>\n",
       "      <td>376779</td>\n",
       "      <td>&lt;1251997.1075857131869.JavaMail.evans@thyme&gt;</td>\n",
       "      <td>2000-11-01 12:34:00</td>\n",
       "      <td>frozenset({'benjamin.rogers@enron.com'})</td>\n",
       "      <td>frozenset({'patty.donahue@chase.com'})</td>\n",
       "      <td>Re: FW: winnie_t</td>\n",
       "      <td>Benjamin Rogers</td>\n",
       "      <td>\"Donahue, Patty\" &lt;Patty.Donahue@Chase.com&gt; @ E...</td>\n",
       "      <td>NaN</td>\n",
       "      <td>NaN</td>\n",
       "      <td>...</td>\n",
       "      <td>NaN</td>\n",
       "      <td>NaN</td>\n",
       "      <td>NaN</td>\n",
       "      <td>NaN</td>\n",
       "      <td>NaN</td>\n",
       "      <td>NaN</td>\n",
       "      <td>NaN</td>\n",
       "      <td>NaN</td>\n",
       "      <td>NaN</td>\n",
       "      <td>False</td>\n",
       "    </tr>\n",
       "    <tr>\n",
       "      <th>4</th>\n",
       "      <td>63707</td>\n",
       "      <td>&lt;23661622.1075843051592.JavaMail.evans@thyme&gt;</td>\n",
       "      <td>2000-11-29 15:43:00</td>\n",
       "      <td>frozenset({'jeff.dasovich@enron.com'})</td>\n",
       "      <td>frozenset({'joseph.alamo@enron.com'})</td>\n",
       "      <td>Re: Address Information</td>\n",
       "      <td>Jeff Dasovich</td>\n",
       "      <td>Joseph Alamo</td>\n",
       "      <td>NaN</td>\n",
       "      <td>NaN</td>\n",
       "      <td>...</td>\n",
       "      <td>NaN</td>\n",
       "      <td>NaN</td>\n",
       "      <td>NaN</td>\n",
       "      <td>NaN</td>\n",
       "      <td>NaN</td>\n",
       "      <td>NaN</td>\n",
       "      <td>NaN</td>\n",
       "      <td>NaN</td>\n",
       "      <td>NaN</td>\n",
       "      <td>False</td>\n",
       "    </tr>\n",
       "  </tbody>\n",
       "</table>\n",
       "<p>5 rows × 52 columns</p>\n",
       "</div>"
      ],
      "text/plain": [
       "   Unnamed: 0                                     Message-ID  \\\n",
       "0      403470    <117238.1075846810566.JavaMail.evans@thyme>   \n",
       "1      130904  <12689165.1075853747639.JavaMail.evans@thyme>   \n",
       "2      217372  <12058190.1075856802090.JavaMail.evans@thyme>   \n",
       "3      376779   <1251997.1075857131869.JavaMail.evans@thyme>   \n",
       "4       63707  <23661622.1075843051592.JavaMail.evans@thyme>   \n",
       "\n",
       "                  Date                                      From  \\\n",
       "0  2000-12-11 09:22:00      frozenset({'susan.scott@enron.com'})   \n",
       "1  2000-03-09 10:00:00    frozenset({'scott.goodell@enron.com'})   \n",
       "2  2000-02-04 18:14:00   frozenset({'vince.kaminski@enron.com'})   \n",
       "3  2000-11-01 12:34:00  frozenset({'benjamin.rogers@enron.com'})   \n",
       "4  2000-11-29 15:43:00    frozenset({'jeff.dasovich@enron.com'})   \n",
       "\n",
       "                                        To  \\\n",
       "0  frozenset({'alicia.perkins@enron.com'})   \n",
       "1   frozenset({'chris.germany@enron.com'})   \n",
       "2         frozenset({'vkaminski@aol.com'})   \n",
       "3   frozenset({'patty.donahue@chase.com'})   \n",
       "4    frozenset({'joseph.alamo@enron.com'})   \n",
       "\n",
       "                                        Subject            X-From  \\\n",
       "0                                    Re: Travel     Susan M Scott   \n",
       "1                                   Re: k#65403     Scott Goodell   \n",
       "2  El Paso / ENA Deal Completely Terminated Now  Vince J Kaminski   \n",
       "3                              Re: FW: winnie_t   Benjamin Rogers   \n",
       "4                       Re: Address Information     Jeff Dasovich   \n",
       "\n",
       "                                                X-To                    X-cc  \\\n",
       "0                                     Alicia Perkins  katyhester@hotmail.com   \n",
       "1                                      Chris Germany                     NaN   \n",
       "2                                  vkaminski@aol.com                     NaN   \n",
       "3  \"Donahue, Patty\" <Patty.Donahue@Chase.com> @ E...                     NaN   \n",
       "4                                       Joseph Alamo                     NaN   \n",
       "\n",
       "  X-bcc  ... Cat_10_level_1 Cat_10_level_2 Cat_10_weight Cat_11_level_1  \\\n",
       "0   NaN  ...            NaN            NaN           NaN            NaN   \n",
       "1   NaN  ...            NaN            NaN           NaN            NaN   \n",
       "2   NaN  ...            NaN            NaN           NaN            NaN   \n",
       "3   NaN  ...            NaN            NaN           NaN            NaN   \n",
       "4   NaN  ...            NaN            NaN           NaN            NaN   \n",
       "\n",
       "  Cat_11_level_2  Cat_11_weight  Cat_12_level_1  Cat_12_level_2  \\\n",
       "0            NaN            NaN             NaN             NaN   \n",
       "1            NaN            NaN             NaN             NaN   \n",
       "2            NaN            NaN             NaN             NaN   \n",
       "3            NaN            NaN             NaN             NaN   \n",
       "4            NaN            NaN             NaN             NaN   \n",
       "\n",
       "   Cat_12_weight  labeled  \n",
       "0            NaN    False  \n",
       "1            NaN    False  \n",
       "2            NaN    False  \n",
       "3            NaN    False  \n",
       "4            NaN    False  \n",
       "\n",
       "[5 rows x 52 columns]"
      ]
     },
     "execution_count": 3,
     "metadata": {},
     "output_type": "execute_result"
    }
   ],
   "source": [
    "data.head()"
   ]
  },
  {
   "cell_type": "code",
   "execution_count": 4,
   "metadata": {},
   "outputs": [
    {
     "name": "stdout",
     "output_type": "stream",
     "text": [
      "<class 'pandas.core.frame.DataFrame'>\n",
      "RangeIndex: 103480 entries, 0 to 103479\n",
      "Data columns (total 52 columns):\n",
      " #   Column          Non-Null Count   Dtype  \n",
      "---  ------          --------------   -----  \n",
      " 0   Unnamed: 0      103480 non-null  int64  \n",
      " 1   Message-ID      103480 non-null  object \n",
      " 2   Date            103480 non-null  object \n",
      " 3   From            103480 non-null  object \n",
      " 4   To              99165 non-null   object \n",
      " 5   Subject         99656 non-null   object \n",
      " 6   X-From          103476 non-null  object \n",
      " 7   X-To            101679 non-null  object \n",
      " 8   X-cc            25663 non-null   object \n",
      " 9   X-bcc           39 non-null      object \n",
      " 10  X-Folder        103476 non-null  object \n",
      " 11  X-Origin        103476 non-null  object \n",
      " 12  X-FileName      102624 non-null  object \n",
      " 13  content         103246 non-null  object \n",
      " 14  user            103480 non-null  object \n",
      " 15  Cat_1_level_1   327 non-null     float64\n",
      " 16  Cat_1_level_2   327 non-null     float64\n",
      " 17  Cat_1_weight    327 non-null     float64\n",
      " 18  Cat_2_level_1   289 non-null     float64\n",
      " 19  Cat_2_level_2   289 non-null     float64\n",
      " 20  Cat_2_weight    289 non-null     float64\n",
      " 21  Cat_3_level_1   232 non-null     float64\n",
      " 22  Cat_3_level_2   232 non-null     float64\n",
      " 23  Cat_3_weight    232 non-null     float64\n",
      " 24  Cat_4_level_1   146 non-null     float64\n",
      " 25  Cat_4_level_2   146 non-null     float64\n",
      " 26  Cat_4_weight    146 non-null     float64\n",
      " 27  Cat_5_level_1   77 non-null      float64\n",
      " 28  Cat_5_level_2   77 non-null      float64\n",
      " 29  Cat_5_weight    77 non-null      float64\n",
      " 30  Cat_6_level_1   30 non-null      float64\n",
      " 31  Cat_6_level_2   30 non-null      float64\n",
      " 32  Cat_6_weight    30 non-null      float64\n",
      " 33  Cat_7_level_1   10 non-null      float64\n",
      " 34  Cat_7_level_2   10 non-null      float64\n",
      " 35  Cat_7_weight    10 non-null      float64\n",
      " 36  Cat_8_level_1   2 non-null       float64\n",
      " 37  Cat_8_level_2   2 non-null       float64\n",
      " 38  Cat_8_weight    2 non-null       float64\n",
      " 39  Cat_9_level_1   1 non-null       float64\n",
      " 40  Cat_9_level_2   1 non-null       float64\n",
      " 41  Cat_9_weight    1 non-null       float64\n",
      " 42  Cat_10_level_1  0 non-null       float64\n",
      " 43  Cat_10_level_2  0 non-null       float64\n",
      " 44  Cat_10_weight   0 non-null       float64\n",
      " 45  Cat_11_level_1  0 non-null       float64\n",
      " 46  Cat_11_level_2  0 non-null       float64\n",
      " 47  Cat_11_weight   0 non-null       float64\n",
      " 48  Cat_12_level_1  0 non-null       float64\n",
      " 49  Cat_12_level_2  0 non-null       float64\n",
      " 50  Cat_12_weight   0 non-null       float64\n",
      " 51  labeled         103480 non-null  bool   \n",
      "dtypes: bool(1), float64(36), int64(1), object(14)\n",
      "memory usage: 40.4+ MB\n"
     ]
    }
   ],
   "source": [
    "data.info()\n"
   ]
  },
  {
   "cell_type": "code",
   "execution_count": 5,
   "metadata": {},
   "outputs": [
    {
     "data": {
      "text/html": [
       "<div>\n",
       "<style scoped>\n",
       "    .dataframe tbody tr th:only-of-type {\n",
       "        vertical-align: middle;\n",
       "    }\n",
       "\n",
       "    .dataframe tbody tr th {\n",
       "        vertical-align: top;\n",
       "    }\n",
       "\n",
       "    .dataframe thead th {\n",
       "        text-align: right;\n",
       "    }\n",
       "</style>\n",
       "<table border=\"1\" class=\"dataframe\">\n",
       "  <thead>\n",
       "    <tr style=\"text-align: right;\">\n",
       "      <th></th>\n",
       "      <th>Unnamed: 0</th>\n",
       "      <th>Cat_1_level_1</th>\n",
       "      <th>Cat_1_level_2</th>\n",
       "      <th>Cat_1_weight</th>\n",
       "      <th>Cat_2_level_1</th>\n",
       "      <th>Cat_2_level_2</th>\n",
       "      <th>Cat_2_weight</th>\n",
       "      <th>Cat_3_level_1</th>\n",
       "      <th>Cat_3_level_2</th>\n",
       "      <th>Cat_3_weight</th>\n",
       "      <th>...</th>\n",
       "      <th>Cat_9_weight</th>\n",
       "      <th>Cat_10_level_1</th>\n",
       "      <th>Cat_10_level_2</th>\n",
       "      <th>Cat_10_weight</th>\n",
       "      <th>Cat_11_level_1</th>\n",
       "      <th>Cat_11_level_2</th>\n",
       "      <th>Cat_11_weight</th>\n",
       "      <th>Cat_12_level_1</th>\n",
       "      <th>Cat_12_level_2</th>\n",
       "      <th>Cat_12_weight</th>\n",
       "    </tr>\n",
       "  </thead>\n",
       "  <tbody>\n",
       "    <tr>\n",
       "      <th>count</th>\n",
       "      <td>103480.000000</td>\n",
       "      <td>327.0</td>\n",
       "      <td>327.000000</td>\n",
       "      <td>327.000000</td>\n",
       "      <td>289.000000</td>\n",
       "      <td>289.000000</td>\n",
       "      <td>289.000000</td>\n",
       "      <td>232.000000</td>\n",
       "      <td>232.000000</td>\n",
       "      <td>232.000000</td>\n",
       "      <td>...</td>\n",
       "      <td>1.0</td>\n",
       "      <td>0.0</td>\n",
       "      <td>0.0</td>\n",
       "      <td>0.0</td>\n",
       "      <td>0.0</td>\n",
       "      <td>0.0</td>\n",
       "      <td>0.0</td>\n",
       "      <td>0.0</td>\n",
       "      <td>0.0</td>\n",
       "      <td>0.0</td>\n",
       "    </tr>\n",
       "    <tr>\n",
       "      <th>mean</th>\n",
       "      <td>258428.879928</td>\n",
       "      <td>1.0</td>\n",
       "      <td>2.581040</td>\n",
       "      <td>1.651376</td>\n",
       "      <td>2.003460</td>\n",
       "      <td>3.069204</td>\n",
       "      <td>1.591696</td>\n",
       "      <td>2.327586</td>\n",
       "      <td>3.982759</td>\n",
       "      <td>1.538793</td>\n",
       "      <td>...</td>\n",
       "      <td>1.0</td>\n",
       "      <td>NaN</td>\n",
       "      <td>NaN</td>\n",
       "      <td>NaN</td>\n",
       "      <td>NaN</td>\n",
       "      <td>NaN</td>\n",
       "      <td>NaN</td>\n",
       "      <td>NaN</td>\n",
       "      <td>NaN</td>\n",
       "      <td>NaN</td>\n",
       "    </tr>\n",
       "    <tr>\n",
       "      <th>std</th>\n",
       "      <td>149261.811705</td>\n",
       "      <td>0.0</td>\n",
       "      <td>1.916671</td>\n",
       "      <td>0.496172</td>\n",
       "      <td>0.530319</td>\n",
       "      <td>3.196469</td>\n",
       "      <td>0.513093</td>\n",
       "      <td>0.585183</td>\n",
       "      <td>3.618095</td>\n",
       "      <td>0.524924</td>\n",
       "      <td>...</td>\n",
       "      <td>NaN</td>\n",
       "      <td>NaN</td>\n",
       "      <td>NaN</td>\n",
       "      <td>NaN</td>\n",
       "      <td>NaN</td>\n",
       "      <td>NaN</td>\n",
       "      <td>NaN</td>\n",
       "      <td>NaN</td>\n",
       "      <td>NaN</td>\n",
       "      <td>NaN</td>\n",
       "    </tr>\n",
       "    <tr>\n",
       "      <th>min</th>\n",
       "      <td>6.000000</td>\n",
       "      <td>1.0</td>\n",
       "      <td>1.000000</td>\n",
       "      <td>1.000000</td>\n",
       "      <td>1.000000</td>\n",
       "      <td>1.000000</td>\n",
       "      <td>1.000000</td>\n",
       "      <td>1.000000</td>\n",
       "      <td>1.000000</td>\n",
       "      <td>1.000000</td>\n",
       "      <td>...</td>\n",
       "      <td>1.0</td>\n",
       "      <td>NaN</td>\n",
       "      <td>NaN</td>\n",
       "      <td>NaN</td>\n",
       "      <td>NaN</td>\n",
       "      <td>NaN</td>\n",
       "      <td>NaN</td>\n",
       "      <td>NaN</td>\n",
       "      <td>NaN</td>\n",
       "      <td>NaN</td>\n",
       "    </tr>\n",
       "    <tr>\n",
       "      <th>25%</th>\n",
       "      <td>129517.250000</td>\n",
       "      <td>1.0</td>\n",
       "      <td>1.000000</td>\n",
       "      <td>1.000000</td>\n",
       "      <td>2.000000</td>\n",
       "      <td>1.000000</td>\n",
       "      <td>1.000000</td>\n",
       "      <td>2.000000</td>\n",
       "      <td>2.000000</td>\n",
       "      <td>1.000000</td>\n",
       "      <td>...</td>\n",
       "      <td>1.0</td>\n",
       "      <td>NaN</td>\n",
       "      <td>NaN</td>\n",
       "      <td>NaN</td>\n",
       "      <td>NaN</td>\n",
       "      <td>NaN</td>\n",
       "      <td>NaN</td>\n",
       "      <td>NaN</td>\n",
       "      <td>NaN</td>\n",
       "      <td>NaN</td>\n",
       "    </tr>\n",
       "    <tr>\n",
       "      <th>50%</th>\n",
       "      <td>258514.500000</td>\n",
       "      <td>1.0</td>\n",
       "      <td>1.000000</td>\n",
       "      <td>2.000000</td>\n",
       "      <td>2.000000</td>\n",
       "      <td>2.000000</td>\n",
       "      <td>2.000000</td>\n",
       "      <td>2.000000</td>\n",
       "      <td>2.000000</td>\n",
       "      <td>2.000000</td>\n",
       "      <td>...</td>\n",
       "      <td>1.0</td>\n",
       "      <td>NaN</td>\n",
       "      <td>NaN</td>\n",
       "      <td>NaN</td>\n",
       "      <td>NaN</td>\n",
       "      <td>NaN</td>\n",
       "      <td>NaN</td>\n",
       "      <td>NaN</td>\n",
       "      <td>NaN</td>\n",
       "      <td>NaN</td>\n",
       "    </tr>\n",
       "    <tr>\n",
       "      <th>75%</th>\n",
       "      <td>387474.250000</td>\n",
       "      <td>1.0</td>\n",
       "      <td>4.000000</td>\n",
       "      <td>2.000000</td>\n",
       "      <td>2.000000</td>\n",
       "      <td>4.000000</td>\n",
       "      <td>2.000000</td>\n",
       "      <td>3.000000</td>\n",
       "      <td>6.000000</td>\n",
       "      <td>2.000000</td>\n",
       "      <td>...</td>\n",
       "      <td>1.0</td>\n",
       "      <td>NaN</td>\n",
       "      <td>NaN</td>\n",
       "      <td>NaN</td>\n",
       "      <td>NaN</td>\n",
       "      <td>NaN</td>\n",
       "      <td>NaN</td>\n",
       "      <td>NaN</td>\n",
       "      <td>NaN</td>\n",
       "      <td>NaN</td>\n",
       "    </tr>\n",
       "    <tr>\n",
       "      <th>max</th>\n",
       "      <td>517400.000000</td>\n",
       "      <td>1.0</td>\n",
       "      <td>8.000000</td>\n",
       "      <td>3.000000</td>\n",
       "      <td>4.000000</td>\n",
       "      <td>13.000000</td>\n",
       "      <td>3.000000</td>\n",
       "      <td>4.000000</td>\n",
       "      <td>13.000000</td>\n",
       "      <td>4.000000</td>\n",
       "      <td>...</td>\n",
       "      <td>1.0</td>\n",
       "      <td>NaN</td>\n",
       "      <td>NaN</td>\n",
       "      <td>NaN</td>\n",
       "      <td>NaN</td>\n",
       "      <td>NaN</td>\n",
       "      <td>NaN</td>\n",
       "      <td>NaN</td>\n",
       "      <td>NaN</td>\n",
       "      <td>NaN</td>\n",
       "    </tr>\n",
       "  </tbody>\n",
       "</table>\n",
       "<p>8 rows × 37 columns</p>\n",
       "</div>"
      ],
      "text/plain": [
       "          Unnamed: 0  Cat_1_level_1  Cat_1_level_2  Cat_1_weight  \\\n",
       "count  103480.000000          327.0     327.000000    327.000000   \n",
       "mean   258428.879928            1.0       2.581040      1.651376   \n",
       "std    149261.811705            0.0       1.916671      0.496172   \n",
       "min         6.000000            1.0       1.000000      1.000000   \n",
       "25%    129517.250000            1.0       1.000000      1.000000   \n",
       "50%    258514.500000            1.0       1.000000      2.000000   \n",
       "75%    387474.250000            1.0       4.000000      2.000000   \n",
       "max    517400.000000            1.0       8.000000      3.000000   \n",
       "\n",
       "       Cat_2_level_1  Cat_2_level_2  Cat_2_weight  Cat_3_level_1  \\\n",
       "count     289.000000     289.000000    289.000000     232.000000   \n",
       "mean        2.003460       3.069204      1.591696       2.327586   \n",
       "std         0.530319       3.196469      0.513093       0.585183   \n",
       "min         1.000000       1.000000      1.000000       1.000000   \n",
       "25%         2.000000       1.000000      1.000000       2.000000   \n",
       "50%         2.000000       2.000000      2.000000       2.000000   \n",
       "75%         2.000000       4.000000      2.000000       3.000000   \n",
       "max         4.000000      13.000000      3.000000       4.000000   \n",
       "\n",
       "       Cat_3_level_2  Cat_3_weight  ...  Cat_9_weight  Cat_10_level_1  \\\n",
       "count     232.000000    232.000000  ...           1.0             0.0   \n",
       "mean        3.982759      1.538793  ...           1.0             NaN   \n",
       "std         3.618095      0.524924  ...           NaN             NaN   \n",
       "min         1.000000      1.000000  ...           1.0             NaN   \n",
       "25%         2.000000      1.000000  ...           1.0             NaN   \n",
       "50%         2.000000      2.000000  ...           1.0             NaN   \n",
       "75%         6.000000      2.000000  ...           1.0             NaN   \n",
       "max        13.000000      4.000000  ...           1.0             NaN   \n",
       "\n",
       "       Cat_10_level_2  Cat_10_weight  Cat_11_level_1  Cat_11_level_2  \\\n",
       "count             0.0            0.0             0.0             0.0   \n",
       "mean              NaN            NaN             NaN             NaN   \n",
       "std               NaN            NaN             NaN             NaN   \n",
       "min               NaN            NaN             NaN             NaN   \n",
       "25%               NaN            NaN             NaN             NaN   \n",
       "50%               NaN            NaN             NaN             NaN   \n",
       "75%               NaN            NaN             NaN             NaN   \n",
       "max               NaN            NaN             NaN             NaN   \n",
       "\n",
       "       Cat_11_weight  Cat_12_level_1  Cat_12_level_2  Cat_12_weight  \n",
       "count            0.0             0.0             0.0            0.0  \n",
       "mean             NaN             NaN             NaN            NaN  \n",
       "std              NaN             NaN             NaN            NaN  \n",
       "min              NaN             NaN             NaN            NaN  \n",
       "25%              NaN             NaN             NaN            NaN  \n",
       "50%              NaN             NaN             NaN            NaN  \n",
       "75%              NaN             NaN             NaN            NaN  \n",
       "max              NaN             NaN             NaN            NaN  \n",
       "\n",
       "[8 rows x 37 columns]"
      ]
     },
     "execution_count": 5,
     "metadata": {},
     "output_type": "execute_result"
    }
   ],
   "source": [
    "data.describe()"
   ]
  },
  {
   "cell_type": "code",
   "execution_count": 6,
   "metadata": {},
   "outputs": [
    {
     "data": {
      "text/plain": [
       "0         2000-12-11 09:22:00\n",
       "1         2000-03-09 10:00:00\n",
       "2         2000-02-04 18:14:00\n",
       "3         2000-11-01 12:34:00\n",
       "4         2000-11-29 15:43:00\n",
       "                 ...         \n",
       "103475    1999-09-09 17:51:00\n",
       "103476    2001-05-03 13:34:00\n",
       "103477    2000-08-21 17:33:00\n",
       "103478    2001-01-17 18:11:00\n",
       "103479    2001-04-13 10:43:00\n",
       "Name: Date, Length: 103480, dtype: object"
      ]
     },
     "execution_count": 6,
     "metadata": {},
     "output_type": "execute_result"
    }
   ],
   "source": [
    "data['Date']"
   ]
  },
  {
   "cell_type": "code",
   "execution_count": 7,
   "metadata": {},
   "outputs": [
    {
     "data": {
      "text/plain": [
       "'09:22:00'"
      ]
     },
     "execution_count": 7,
     "metadata": {},
     "output_type": "execute_result"
    }
   ],
   "source": [
    "data['Date'][0].split()[1]"
   ]
  },
  {
   "cell_type": "code",
   "execution_count": 8,
   "metadata": {},
   "outputs": [],
   "source": [
    "import seaborn as sns"
   ]
  },
  {
   "cell_type": "code",
   "execution_count": 9,
   "metadata": {},
   "outputs": [
    {
     "data": {
      "text/plain": [
       "<AxesSubplot:>"
      ]
     },
     "execution_count": 9,
     "metadata": {},
     "output_type": "execute_result"
    },
    {
     "data": {
      "image/png": "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\n",
      "text/plain": [
       "<Figure size 432x288 with 2 Axes>"
      ]
     },
     "metadata": {
      "needs_background": "light"
     },
     "output_type": "display_data"
    }
   ],
   "source": [
    "sns.heatmap(data.isnull(),yticklabels=False)"
   ]
  },
  {
   "cell_type": "code",
   "execution_count": 10,
   "metadata": {},
   "outputs": [],
   "source": [
    "data.drop(['Cat_1_level_1','Cat_2_level_1','Cat_3_level_1','Cat_4_level_1','Cat_5_level_1','Cat_6_level_1','Cat_7_level_1','Cat_8_level_1','Cat_9_level_1','Cat_10_level_1','Cat_11_level_1','Cat_12_level_1'], axis = 1 , inplace=True)"
   ]
  },
  {
   "cell_type": "code",
   "execution_count": 11,
   "metadata": {},
   "outputs": [
    {
     "data": {
      "text/plain": [
       "<AxesSubplot:>"
      ]
     },
     "execution_count": 11,
     "metadata": {},
     "output_type": "execute_result"
    },
    {
     "data": {
      "image/png": "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\n",
      "text/plain": [
       "<Figure size 432x288 with 2 Axes>"
      ]
     },
     "metadata": {
      "needs_background": "light"
     },
     "output_type": "display_data"
    }
   ],
   "source": [
    "sns.heatmap(data.isnull(),yticklabels=False)"
   ]
  },
  {
   "cell_type": "code",
   "execution_count": 12,
   "metadata": {},
   "outputs": [],
   "source": [
    "data.drop(['Cat_1_weight','Cat_2_weight','Cat_3_weight','Cat_4_weight','Cat_5_weight','Cat_6_weight','Cat_7_weight','Cat_8_weight','Cat_9_weight','Cat_10_weight','Cat_11_weight','Cat_12_weight'],axis=1,inplace=True)"
   ]
  },
  {
   "cell_type": "code",
   "execution_count": 13,
   "metadata": {},
   "outputs": [
    {
     "data": {
      "text/plain": [
       "<AxesSubplot:>"
      ]
     },
     "execution_count": 13,
     "metadata": {},
     "output_type": "execute_result"
    },
    {
     "data": {
      "image/png": "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\n",
      "text/plain": [
       "<Figure size 432x288 with 2 Axes>"
      ]
     },
     "metadata": {
      "needs_background": "light"
     },
     "output_type": "display_data"
    }
   ],
   "source": [
    "sns.heatmap(data.isnull(),yticklabels=False)"
   ]
  },
  {
   "cell_type": "code",
   "execution_count": 14,
   "metadata": {},
   "outputs": [],
   "source": [
    "data.drop(['Cat_2_level_2','Cat_4_level_2','Cat_6_level_2','Cat_8_level_2','Cat_10_level_2','Cat_12_level_2'],axis=1,inplace=True)"
   ]
  },
  {
   "cell_type": "code",
   "execution_count": 15,
   "metadata": {},
   "outputs": [
    {
     "data": {
      "text/plain": [
       "<AxesSubplot:>"
      ]
     },
     "execution_count": 15,
     "metadata": {},
     "output_type": "execute_result"
    },
    {
     "data": {
      "image/png": "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\n",
      "text/plain": [
       "<Figure size 432x288 with 2 Axes>"
      ]
     },
     "metadata": {
      "needs_background": "light"
     },
     "output_type": "display_data"
    }
   ],
   "source": [
    "sns.heatmap(data.isnull(),yticklabels=False)"
   ]
  },
  {
   "cell_type": "code",
   "execution_count": 16,
   "metadata": {},
   "outputs": [],
   "source": [
    "data.drop(['Cat_1_level_2','Cat_3_level_2','Cat_5_level_2','Cat_7_level_2','Cat_9_level_2','Cat_11_level_2'],axis=1,inplace=True)"
   ]
  },
  {
   "cell_type": "code",
   "execution_count": 17,
   "metadata": {},
   "outputs": [
    {
     "data": {
      "text/plain": [
       "<AxesSubplot:>"
      ]
     },
     "execution_count": 17,
     "metadata": {},
     "output_type": "execute_result"
    },
    {
     "data": {
      "image/png": "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\n",
      "text/plain": [
       "<Figure size 432x288 with 2 Axes>"
      ]
     },
     "metadata": {
      "needs_background": "light"
     },
     "output_type": "display_data"
    }
   ],
   "source": [
    "sns.heatmap(data.isnull(),yticklabels=False)"
   ]
  },
  {
   "cell_type": "code",
   "execution_count": 18,
   "metadata": {},
   "outputs": [],
   "source": [
    "data.drop(['X-bcc'],axis=1,inplace=True)"
   ]
  },
  {
   "cell_type": "code",
   "execution_count": 19,
   "metadata": {},
   "outputs": [
    {
     "data": {
      "text/plain": [
       "<AxesSubplot:>"
      ]
     },
     "execution_count": 19,
     "metadata": {},
     "output_type": "execute_result"
    },
    {
     "data": {
      "image/png": "iVBORw0KGgoAAAANSUhEUgAAAUwAAAEvCAYAAAAuDvirAAAAOXRFWHRTb2Z0d2FyZQBNYXRwbG90bGliIHZlcnNpb24zLjMuMSwgaHR0cHM6Ly9tYXRwbG90bGliLm9yZy/d3fzzAAAACXBIWXMAAAsTAAALEwEAmpwYAAAkoElEQVR4nO3deZhcZZn+8e+dsC+iCCqExQxGFBWUfQQ3FAUVGXfBEZXRwE9A8Oe+jDA6ruCCimQisrjBiKICRkERg4pA2GQHYxAIMCqowCAK3Xnmj/dUUimqq8976lT6dNX9ua66klNV56lT3dVPvfuriMDMzCY3Y6ovwMxsunDCNDMryQnTzKwkJ0wzs5KcMM3MSnLCNDMryQnTzIaSpBMl/VHSNRM8LklfkLRY0lWStp8sphOmmQ2rk4G9ejy+NzCnuM0Fjp8soBOmmQ2liLgA+HOPp+wLfC2Si4BHStqkV8zVJnvN1daYlXmZDzf24O30G6eOGI4zveI06Vocp1Qc9RvjobuWlJ56uMbGWx1EKhm2zI+I+RkvNwu4re14aXHfnROdMFnCNDNrpCI55iTITt0SfM+E7YRpA/PAHb+Y6kuw6Wb8oVX5akuBzduONwPu6HWC2zDNrDmWLSt/69+ZwAFFb/muwD0RMWF1HFzCNLMGiaglEQIg6VTgucBGkpYCRwKrp9eJecAC4MXAYuBvwJsni+mEaQOz9qbP6uv8sQdvr+lKbNqop+QIQETsN8njARySE9MJ0wbGbZiWrcYS5iA4YZpZcywbn+or6MkJ0wbGVXLLNj421VfQkxOmDYyr5Jarzk6fQXDCtIFxCdOy1djpMwhOmDYwLmFaNpcwbVS5hGnZ3Oljo8olTMvmTh8zs5JcJbdR5Sq5ZXOnj5lZORFuw7QR5TZMy+YquZlZSa6Sm5mVtGoXEM7mhGlmzeEquY0q95JbNlfJzcxKcgnTzKwklzBtVHlYkWVzwjQzKyfcS25mVpLbMM3MSnKV3EaVhxVZNpcwh9ewdmrU9b6G9edjA+QS5vDqtwQFzSxFDev7smnACwjbqHKV3LK5hGlmVpLbMM3MSnIJ0yYzrJ0jw/q+bIBcwrTJuJPFrOASpplZSe4lNzMrySVMG1UeVmTZIqb6CnpywrSBcaePZXMJ08ysJCdMG1Wuklu2GocVSdoLOBaYCZwQEZ/seHwD4BvAFqRceExEnNQrphOmDYyr5JZtfLyWMJJmAscBewJLgUWSzoyI69qedghwXUTsI2lj4EZJ34yIByeK64RpZs1RX5V8Z2BxRCwBkHQasC/QnjADWF+SgPWAPwM9xzXNqOvqzMz6tmxZ6ZukuZIubbvNbYs0C7it7XhpcV+7LwFPBu4ArgYOj+jdJuASppk1R0YbZkTMB+ZP8LC6ndJx/CLgSmAPYCvgJ5J+ERH3TvSaLmGaWWPEsih9m8RSYPO2481IJcl2bwbOiGQxcDPwpF5BnTDNrDnGx8rfelsEzJE0W9IawOuAMzuecyvwfABJjwW2Bpb0CuoquZk1x+Qlx1IiYkzSocA5pGFFJ0bEtZIOLh6fB3wUOFnS1aQq/Hsj4q5ecZ0wzaw5ahy4HhELgAUd981r+/8dwAtzYjphmllzeKaPjSrP9LFsXnzDRpVn+lg2lzDNzEqqaWrkoDhhmllz1NRLPihOmGbWGOEquZlZSS5h2qhyL7ll8za7NqrcS27ZxtzpY2ZWjqvkZmYluUpuo8ptmJbNJUwbVW7DtFweVmRmVpZLmGZmJXlqpJlZSS5hDq9hbaOr632508dyldirZ0o5Yfah34QAzUwKdb2vYf1CsQFywjQzK8m95GZmJbmEaaPKbZiWK8ZdwrQR5TZMy+YSpplZSU6YZmbleFiRmVlZTphmZuXEmBOmjSj3kls2lzBtVLmX3LI1e1SRE6YNjkuYlsudPjayXMK0bC5hmpmV4xKmmVlJMTbVV9CbE6YNjNswLZur5Daq3IZpuRq+yy4zpvoCzMyWW5Zxm4SkvSTdKGmxpPdN8JznSrpS0rWSFk4W0yVMM2uMukqYkmYCxwF7AkuBRZLOjIjr2p7zSODLwF4Rcaukx0wW1yVMM2uMWFb+NomdgcURsSQiHgROA/bteM7+wBkRcStARPxxsqBOmGbWGDGu0jdJcyVd2nab2xZqFnBb2/HS4r52TwQeJennki6TdMBk1+cquZk1Rk6VPCLmA/MneFjdTuk4Xg3YAXg+sDbwa0kXRcRNE72mE6YNjIcVWa5Y1i3PVbIU2LzteDPgji7PuSsi7gful3QBsB3ghGmrnocVWa4ahxUtAuZImg3cDryO1GbZ7gfAlyStBqwB7AJ8rldQJ0wza4yIekqYETEm6VDgHGAmcGJEXCvp4OLxeRFxvaQfA1eRBiqdEBHX9IrrhGlmjbFsrLYqORGxAFjQcd+8juOjgaPLxnTCNLPGiGavveGE2Q+30ZnVq8ZOn4FwwuxDv73A4J5gs3ZOmGZmJblKbmZWkkuYZmYlLRt3wjQzK2VZTeMwB8UJ08wao66B64PihGlmjeE2TDOzktxLbiPLqxVZLpcwzcxKGl/W7DXNnTDNrDFcJbeR5bn2lsvDiszMSvKwIhtZ7vSxXK6Sm5mV5E4fM7OS3IZpZlZSw2vkTpg2OO4lt1wuYdrIcqeP5XIvuZlZSfVtSz4YTpg2MK6SW65xlzBtVLlKbrmW4YRpI8olTMsVTpjDa1gTwrC+L2s+t2EOsWHdl3xY35c1n0uYZmYljU31BUzCCdPMGsMlTBtZ7iW3XA3focIJ08yaw8OKbGS5t91yefENM7OSPKzIRpbbMC3XuFwlNzMrxSVMG1luw7RcdfaSS9oLOBaYCZwQEZ+c4Hk7ARcBr42I7/SK6YTZBycEs3rV1UsuaSZwHLAnsBRYJOnMiLiuy/M+BZxTJq4TZh88hbA3t2Farhp7yXcGFkfEEgBJpwH7Atd1PO8w4LvATmWCOmHawLgEbrlyquSS5gJz2+6aHxHzi//PAm5re2wpsEvH+bOAlwN74IQ5eMOaEIb1fVnzjWc8t0iO8yd4uFvq7SzAfh54b0SMq2TvvBNmH+qqkjctQbmpwaZKjZ0+S4HN2443A+7oeM6OwGlFstwIeLGksYj4/kRBnTAbwAnKLKlxWNEiYI6k2cDtwOuA/dufEBGzW/+XdDJwdq9kCU6YjdC0EqYNnn/n3dWVMCNiTNKhpN7vmcCJEXGtpIOLx+dVieuE2QAuYY4e/867q3MPtIhYACzouK9rooyIN5WJ6YRplsElw8HyAsJmQ8Qlw8HyakU2sjxw3XJ5AWEbWa6+Wi4vvmFmVpITpplZSW7DtJHlNkzLNeY2TBtVbsO0XC5h2shyCdNyLWt4ynTCtIFxCdNyudPHRpZLmJar2eVLJ0wzaxCXMM3MShpTs8uYTpg2MG7DtFzNTpdOmDZAbsO0XK6S28hyCdNyeViRTcqJxSxpdrp0wmwEr7Folow1PGU6YZpZYzQ7XTphmlmDuNPHzKykaHgZ0wnTBsbDiiyXS5g2stz7b7k8rMjMrKRxJ0wbVa6SWy5XyW1kuUpuudzpY2ZWkkuYZmYluYRpZlaSS5hmZiWNh0uYZmaleBymmVlJbsM0MyvJbZhmZiU1vUo+Y6ovwMysZZwofZuMpL0k3ShpsaT3dXn89ZKuKm4XStpuspguYZpZY0RNveSSZgLHAXsCS4FFks6MiOvannYz8JyI+IukvYH5wC694jphmllj1Fgl3xlYHBFLACSdBuwLLE+YEXFh2/MvAjabLKir5GbWGMsybpLmSrq07Ta3LdQs4La246XFfRP5N+BHk12fS5hm1hg5w4oiYj6pGt2Nuobv9kTpeaSEuftkr+mEaWaNUWOVfCmwedvxZsAdnU+StC1wArB3RNw9WVAnTDNrjBqnRi4C5kiaDdwOvA7Yv/0JkrYAzgDeEBE3lQnqhGlmjVHXTJ+IGJN0KHAOMBM4MSKulXRw8fg84MPAo4EvSwIYi4gde8V1wrSB8YrrlqvOgesRsQBY0HHfvLb/vwV4S05MJ0wbGK+4brnqGoc5KE6YZtYYTZ8a6YRpA+MqueUaj2Yvv+GEaQPjKrnlanb50gnTzBrEVXIzs5KcMIfYsFY5h/V9WfO5l3yI9dupAc3s2BjW92XN5xKmmVlJy9xLbmZWjkuYNrI8DtNyuQ3TRpY7jyyXS5hmZiV5X/Ih5hKUWb2WuUo+vDz8pje3YVouzyW3keUSuOVyldzMrCRXyc3MSnIJc4gNa5VzWN+XNZ9LmENsWDt9hvV9WfMti/GpvoSenDDNrDE8cN3MrCRPjTQzK8klTDOzklzCNDMryb3kZmYleQFhM7OS3IZpZlaS2zDNzEpyG6aZWUkuYdrI8nqYlsttmDayvIiH5Rpf5l5yG1EuYVouL+9mZlaSO31sZLlKbrnc6WMjy1Vyy1VnlVzSXsCxwEzghIj4ZMfjKh5/MfA34E0RcXmvmE6YNjAuYVquZTV1+kiaCRwH7AksBRZJOjMirmt72t7AnOK2C3B88e+EnDBtYFzCtFw1Vsh3BhZHxBIASacB+wLtCXNf4GuR2gEukvRISZtExJ0TX2BEXzdgbr8xHGf6XIvj+HfelBswF7i07Ta37bFXkarhreM3AF/qOP9sYPe24/OAHXu95oyMjD2RuTXEcJzBx3Cc6RWnSddSZ5zaRMT8iNix7Ta/7WF1O6XjuMxzVlJHwjQza5qlwOZtx5sBd1R4zkqcMM1sGC0C5kiaLWkN4HXAmR3PORM4QMmuwD3Rq/2Sejp95k/+FMdpQAzHmV5xmnQtdcZZJSJiTNKhwDmkYUUnRsS1kg4uHp8HLCANKVpMGlb05sniqmjsNDOzSbhKbmZWkhOmmVlJTphmZiVldfoUcy93BmaRxivdAVwSbggFQNLqwP8Dnl3ctRCYFxEPVYi1ZkT8Y7L7zGzVKd3pI+mFwJeB3wKtOWubAU8A3hYR52a9sLQaaS7nk4q7rgd+HBFjOXHa4m0JzImIn0paG1gtIu7LjDEbOAx4PG1fJhHxspLnnwCsDpxS3PUGYDwi3pJzHUWsyyNi+8nuKxGnr/dUxNgAOApozXVcCHwkIu7JvJZdgWtbvxdJ6wPbRMTFGTFmAudExAtyXnuCWE8E3g1syco/mz0y46wDvBPYIiLeKmkOsHVEnJ0Z57yIeP5k900So++fj6Sr6TGAOyK2rRp7usspYR4LvCAift9+Z/EHuQB4ctlAkjYFzgfuBK4gjbh/KfAZSc+LiJ6DR7vEeytpJsKGwFakRD4PKP1BK3wf+CpwFlB6FQBJqxWJfqeI2K7toZ9J+k3OBUh6HKkEv7akZ7BiNsIjgHVyYhW+T4X31OFE4BrgNcXxG4CTgFdkxjkeaE/493e5r6eIGJf0N0kb5CbsLk4nfU6+Aoz3Eeck4DLgn4vjpUXsUglT0lqk3+1Gkh7Fyr/zTXMupKafz0uLfw8p/v168e/rScNvRlZOwlyN9EHodDupVJXj48DxEfH59jslvR34BPDGzHiHkJoKLgaIiN9KekxmDIC/R8QXKpx3CemPflzSVhHxOwBJ/0T+H+KLgDeRkv5nWPHHcy/wgQrXVvU9tdsqIl7Zdvwfkq6sEEftzTcRsayoaeT6O3C1pJ+Qkm4r3tsz44xFxPEVXr/TVhHxWkn7FdfxQNF8VdZBwBGk5HgZK//Oj6twPX39fCLiFgBJu0XEbm0PvU/Sr4CPVLimoZDzYT2RtETSacBtxX2bk0bQfzXzdXeNiDd13hkRX5B0Y2YsgH9ExIOtz2jxR1ilXfVYSUcC5wLL2wpjkjXyWPEBfxdwvqQlxfHjKTEYtl1EnAKcIumVEfHdnHMnUPU9IWmLiLgVeEDS7hHxy+L+3YAHKlzLkuJLsZWk3gYs6fH8ifywuPXrLElvA77Hyj+bP2fGebBoBgoASVu1x5tMRBxL+j0dFhFfzHztbur6+azb8Xt/JrBuDXGnrayB65KeTFoSaRYpSSwFOteYKxPnioh4Ru5jPeJ9GvgrcACpve5twHUR8cHMOJ8gVTd/x4rqa0zWpiVpKfDZ4nBt0syC+4G1gAci4rMTndsj5seBT0fEX4vjRwHvjIgPZcap9J6Kcy+PiO0lPZ3ULrsB6ff+Z9Jiq7nNDY8BvgDsQUou5wFHRMQfc+IUsdYmtRlW+YJtxbi5y90REf+UGWdP4EPANqQvpt1IP5+fV7imZ/Lw9uavVYhTx89nB1JBaQPS7+se4MAyX7bDakpm+hQlsHd1e4iUJLbKjDcD+DfghUWMcyLiKxWu6wZg24h4MPO8O0mlpq7VsIj4jwrX8rAvjoqdPpXeU7drkPQIgIi4NzdWnSTtAxwDrBERs4uE/pGcjqwBXNOjgV1Jn4GLIuKuCjG+TmqDv5IVTTmR29RQ98+n+L2rhjbjaW+qFhBeCOwzwWMXVIh3WFGtWZ4kJR1e3JfjN8AjgdwSz50RUXe7zsz2YURFiWHNCnGqvieAWZIe1v7Zavqo8Id8CnB4R6n5MxFxYOZ1HUVqs/55cR1XFp2PZa9jj4j4maSunVYRcUbm9UCqdc0k/U09W1KVODuSRg30W4o5ij5+Pi2SHkvqb9g0IvaWtA3wzxGR2wQ3NKYkYUZEVrteCW8k9eK3e1OX+ybzWOAGSYtYuU1rsm/mnAb+sr4BnCfpJFJ16EBWDFfKUfU9QWqnvKzCa05k21ayLK7hL8VIgFxjEXFPR79KTpJ5DvAzun9pB5CV6CSdCGwLXEtbs0duHNJIhMeRRo/0o9+fT8vJpBEAraatm4D/Jr/PYmhMScKU9P97PV62za/oldwfmC2pfemm9YG7K1zakRXOgfzhS5OKiE9Lugp4ASkhfzQizqkQqup7Ari76ISqywxJj4qIvwBI2pBqn8FrJO1PKoXPAd4OXFj25Ig4svi3ri/uXSNimxribARcJ+kS8r/c2vX182m/noj4tqT3F9cxJqmf4VfTXqWEKWlutK1u3HlcwvpVXreLC0nfxhuRhuC03AdclRssIhYW1ZCdirsuKdMhUaFXtazrSaWFn0paR9L6kTkYv+p7Kjys3bPC77rdZ4ALJX2nOH418LEKcQ4jlXr+AZxKWsLro7lBJvjivge4LCKuzAj1a0nb5HZ+dnFUn+e31PLzAe4v2mZbvf+7kn4+I6tSp4+kgyLivyY6nq4kvQY4mtT2I9LMlndHxHd6nTega1k+GD8itipKCvMiY9ZHEafW91Sl46nj/G1IveQCzqshyVQm6VukdsOzirteQlp49knA6RHx6ZJxnl3E+B9SkhKpsyZ7RoxWnrG2DjAz90uyI95MYN0qHXWStge+CDyV1FywMfCqiMgujAyNaMBmRkXSvryPc3clfdD/l1QqGgfurRDnN8Bj2o43Bn4zRT+PK4E1gCva7rt6Vb4nYPMu911R/PusPt9f9qZapKR05kS3CvHOAdZrO14P+DFpaNh1GXEWAy8DZpOmWW4JbFnhet5afI5/VxzPIX2p5Mb5FmmW0LrADaRa2Lsr/p5WA55CSpqr9/M7H4Zb6Sp5Xe2OvV6ij3O/RBpAfzqpxHAAaY57rhmxcnX1bqZuRae6BuP3854WSpoHfDZWzPHfR9I3gK1ZUc2v4mDyV/E+pvj3FaTOkW8Ux/sBv69wDVuwcrPDQ6RE94CknEVObo2Izu0Pqqhrxto2EXGvpNeTpi2/l9R5d3SZkycaPQA8sWLv/9DIacNstTu2/lBaH5B9qDYUqFNfMxMiYrGkmRExDpwkqUoj948lnUNq9wF4LekDNxUWSvoAaU75nqTB+GdNck43/bynHYBPAldIOhx4GvAO0h/eAWUvQNLmEXFb593FY8+KiF+UiRMRC4tzPhoRz2576CxJVT6D3yLtR/2D4ngf4FRJ67Ly/tWTuaGo3p/Fyp01uYmlri/J1ZVWzvoX0tayDylrpuaEQ/6gWu//0Mhuw5R0LvDKWHnFmdMjYq9KF1DPKkMXkHqTTyC1I91JmmmxXc8TV44h0vztnYDdSX/QF0TE93KupS7dBuOT9lku/Qur6z0VyfJzpOX8do2IbmsK9Dp/CWmRi+UlVUmbkZLx1hGRVVKVdD3wkohYUhzPBhZEROkFYNpi7cCKn80vI+LSCjFO6nJ3ROb4UtU3Y+0wUqnyKlK77BbANyLiWT1PtElVSZg3ANvFigHVa5LaxJ7U+8yuserq2NgS+AOpze8dpKlcX46IxZlxLouIHXLOabp+3pOkRwKfAnYB3kPaMOr5pMHnP8uI8yhScnwm0FlSPT4islZRkrQXqTrfPmf/oCg57ErSI4oq64bdHo/BjXroqduXZFSbsdY+lCxITTAzI+LfM+N44HqHKgnzg6Rlvr5H+mW8HPh2RHw8+8XTijc7AxdHMQVP0tUR8bQKsTYGiIg/5Z7bFuM44OSIWFQ1Rr8kfTsiXqPuaxIGaR735yPiBw8/u2u8yu+pKBl+uXi9Vsnw6cV9t0TEfpnx+iqpdsRakxVrqd4QGQsrSzo7Il6qNJe8/Wfc6t3OnUu+FinRPYW0fgCkQLklzMOjY3Zat/tKxHln2+FapOXarq9wPT+iGLgeEdsVTQRXVPn7HBZVhxVtz4rFZC+IiCsqvbh0cUTsomLOcvELuTxKDscoqpxHAoeSPuwzgDHgi1FhqqKk60httL8nLZ5ReXhIVZI2iYg7i1JzNxsB3yxbou/nPUnabKKkJumtZUs/NZZUe66/mdNmWHx2No+0GlNfJJ1O6o3en7T02etJCerwzDjdFo2+IjIXo+kSd03SKIIXZZ63KCJ2ar8GSVdGxNP7uZ7prOpMn3VIw3ZOkrSxpNkR0W3ll8n027FxBGllmJ1ar6+0BuXxkt4REZ8rE0QrljHbO+vqByCKjeQj4halxYR3JpWCFkXE/wC3FL2fPdXxnnqVADOripeTSqWHFCXVc1slVUk5JdXaOiMiIiR9j9Sx1a8nRMSrJe0bEacUHUClZ2Wp/hlrndYBskrNBQ9c7xT547KOJCW1m4rjTYFf5cYpzp1BGnt2OvCd4v/KOP8K0vStzvs3pm38Yok4l7f9/7tV3kvdN+AtwK2k+bynkEqIB07H9wRs1uOxt07hdR1H+rLtN84lxb8XkMYrbgQsyTh/S+C5wK9J89xbt+1JnaC513M1qcPnKtL89j8Ch1aIsz3wK1KS/BVpLvm2U/lZmupblTbMK4FnFH+QrWL6VTEF+3xIuiYinpr7WJfnXtH2Xpb/fyopLaT8zIi4uzh+NHBhRGxd8vzGvae6KO0xdCQrbzZXZY+hWppgJL0F+C5pAY6TSAPgPxwR83Li1KWjOWcM+ENU3ytrNdLPSMCNUWFDv2FSpUr+YESEpFYxvfIKzBN0bNwDXAr8ZytZ9LqWio91ign+P5WWkubEt9zHipXuy2jie6pLXXsM1dIEExEnFP9dSLWqL7C8jfZTwGNICaqVwB+ReT23VL2GjutZi9RMtjvpM/QLSfMi4u91xJ+OqpQw30WasrUnaf+dA4FvRYWl9YtxZ+OkAcSQZutA2stk94jo1WaF0sop93d7CFgrIkrtNdQWR6Rpca2Nnip9YPuhFTOqnk4afvMD0od1X1LV7+CScRrznurWreOhSmeEpOeReraDNN7x/Mzzew3ej4j4eo/Hu8VbDOwTEdfnnDcokr5N+qJun1H1qIh49dRd1dTKLmFGxDFFB829pKL6hyPiJxVfv3OTpasl/SoidpP0ryWuZWbF1x1InJq0ZlT9rri1lBpG1NKw91S3vvYYkjSL1EH0d1ZsOvYaSZ8CXh4Rt/c6v023AfcidU7NYsVui2X9oSnJsrB1rDz543xl7oI6bCr1kkfETyRd3Dpf0oZRbbDvepJ2iWJfakk7k9p/ILW9jJyosJ1FWepvabYmORj4WtGWCfAX8nYa/RJpwPzJ7XcWJcYvk0rzk4qIw9rOFWk40XuBi6i2bN2lkv6btDVyP1Ms63KFpF0j4iIASbuQOn9GVpUq+UGksWYPkFaXrjTYt4i1E6k9ar0izr2k3uFrSVPfvp0bc1hIOp8ubY9RYvOyHjH7WpptqrUNlWodV9pjSNKNE3We9XpsguevRlrd/52kRTM+ERU3HlNNUyz71da3sDqpFnlrcbwlqemiVGfqMKqSMH9Lmh6VvclTj5gbFNfy17piTndKc5xb1gJeSVpM+D0lz3/YghdtEwRKL3jRJO0JX9J3Y+W90nPiLI6Ih61mpTQ18aZuj00Q5xDSVM/zgE/W1dky1XpMmgDq61SajqokzB8Dr4iIv0365HLxXsLDp5SN7EbxvUhaGBHPKfncWhe8aIK6hkpJ+hypVnNERNxf3Lcuadrm36Pk5m6SlpHGOP6J7lMsc4cnbUZasHe3It4vSbOhKk8hrYPSEnPtf599z46arqq0Yb6ftM3AxazczpK1gyCA0lqL6wDPI6009CrgkgrXNHS08sIQM0jrfD4uI0QtS7M1TF1Dpd5DGuFxi6RbWFHdPAX4QEac7J0YJ3ESacRIqxf6X4v79qz5dUqR9DLStiKbkr4YtiRtm/KUqbieJqhSwryE9M13NSt2yCMqbJbVGvDe9u96wBkR8cLcWMNGKy8MMUYaXP2RVs9wRpzaFryYanUPlVJaTvAJxfmL+6k1qZ5lCmsZLlWXokd8D+CnRVPO84D9ImLuVFxPE1QpYY5FRM/V1zO0hoL8TdKmpHmzdX9rTytFR9htETG7OH4jqf3y92QsaquVF7zYi7TgxY+UVr8pveBFk9Q9VCoiHiB98SNpLvkrwFOcu3yZQmAr0hqk88jfTfSuYjhda7Hn/ahnLnlVD0XE3ZJmSJoREecXQ69GVpXtF86XNFfSJpI2bN0qvv7ZxR/20aQFGn4PnFYx1rD4L4pZSkqba32CVFW8h7w/6MuB3wI7RsS5EXEEaUbMf0o6teeZ00iR6OpQakLABA4htTveC2lrCdJsnVwHkmYvtRbBfhVQ11bAVfy1qPVdAHxT0rGM6HC/lipV8m6rElUaVtQRd03S7JyRXg1F0m9ag4WV1rL8U0QcVRyXrp6ppqXZmq7KUKm6RxCoz2UK2+KcQuqI+ktxvCFwzKoeVtR2PeuSBve3xphuQFpacCpLvVMqu4QZEbO73ColS0mvVtriAuDdpL14hmaRiIpmFn9wkKp07dXn0k0ovdoqp2uylLR5t7uLx3K2X1go6T1tP2dYsblblc38FmrlZQpPp9r+S9u2kiUsX/l9yv4eIuL+iBiPiLGIOCUivjDKyRIq7ogo6amSXiPpgNat4uv/e0TcJ2l34EWkqueUrPDSIKeS/gB/QGrj/QWApCcw6msR1pfodiC1NV4haY+iY+yXpOXVdqlwXe8jDS26GjiItMnchyrEmaG0nQewvIRZdc3ayiTdJ+neLrf7JGXvbz5MqlTJjySt3bcN6YOxN2nzqFdlv/iKKswnSHtuf6uf8XXDQmmh1k2Ac9vGCT6RtIf25VN6cVNI9e8N1KgRBEXB4/2ktWGD1J75schcxMMGp0rCvBrYjrRA73ZKGyWdEJOsLDRBrLOB20k7Pu5AKlFdEhm7Pdro6TfRqb4tM7otT7hcbhtmEXMb0lAeAedFRM52vzZglcZhRsTOki4jDTi/D7gmIrIHs0pahzTk5epIm9ZvAjwtIs7NjWXDr8ZEV8vmbvIUwpFTpX3k0uKD+xXS0lj/S/XZOZsAP4yIf0h6LmnF6q9VjGXDr669gZ7dWSqNiCuBZxZjKktxQhw9lXaNXH6y9HjgERFxVcXzryRN+Xs8adOoM0nznF9c+aJsaDVtqJSkX0bE7pLuo/tc8mm7SLN1V3Wb3VmkeaXLS6gRcUGFOJdHxPaS3gM8EBFfdKePTReStnQpc7RkV8mLqVGvJU3TGy/uDtJsgFwPKW0xegArtlAtta2EWQN8j7SzYl/Lzdn0UaUN819I1eZ/TPbEEt5MmpL2sYi4WdJsVuwfYtZ0avt/XzPdbHqokjCXkEqBfSfMiLhO0nuBLYrjm0nj7Mymg2HemdO6qJIw/wZcKek8+l8Pcx/gGGANYHbR4/mRiHhZhesyW9W2K2a+iDQtsjULxp0+Q6pKwjyzuNXhKGBn4OeQhnYU1XKzxqt7uTlrvirb7GYvFNzDWETcI7U3BblqY9OXhmdnTusie/ENSbtJ+omkmyQtkXRzMXOiimsk7U9aoWeOpC8CF1aMZdYE/ayraQ1XZbWir5JWhtmdtJH9jnTf0L6Mw0j7g/yDtErPvcARFWOZrVI1Ljdn00SVueQXR0SVJbDMhoqGcGdO661KwvwkMBM4g5V7yUsvOyapZ6eRe8ltOqh7uTlrvioJ8/wud0dE7JER40/AbaRq+MWsPACYiFiYdVFmU6hp62ra4PS1+EblF5VmkvZa3o+0QtEPgVMj4tpVfjFmFdW13JxNH6UTpqTOrXUDuIu02nq3jdHKxl2TlDiPJg1a/2LVWGarUl3ratr0kTMOc/0u9z0e+KCkoyIia3vcIlG+hJQsHw98gdQuajZd1LKupk0ffVfJi42afpqz1WmxnehTgR8Bp0XENX1dhJnZKlBLG2buGpaSlgH3F4deeNXMpoW+t/CUtAfwl0mf2CYiKm3va2Y2lUonzAl2yNuQNJSi6r7kZmbTRk4veecOeQHc3do328xs2E3JOEwzs+nIbYlmZiU5YZqZleSEaWZWkhOmmVlJ/wd8dgZERHDvDQAAAABJRU5ErkJggg==\n",
      "text/plain": [
       "<Figure size 432x288 with 2 Axes>"
      ]
     },
     "metadata": {
      "needs_background": "light"
     },
     "output_type": "display_data"
    }
   ],
   "source": [
    "sns.heatmap(data.isnull(),yticklabels=False)"
   ]
  },
  {
   "cell_type": "code",
   "execution_count": 20,
   "metadata": {},
   "outputs": [
    {
     "data": {
      "text/html": [
       "<div>\n",
       "<style scoped>\n",
       "    .dataframe tbody tr th:only-of-type {\n",
       "        vertical-align: middle;\n",
       "    }\n",
       "\n",
       "    .dataframe tbody tr th {\n",
       "        vertical-align: top;\n",
       "    }\n",
       "\n",
       "    .dataframe thead th {\n",
       "        text-align: right;\n",
       "    }\n",
       "</style>\n",
       "<table border=\"1\" class=\"dataframe\">\n",
       "  <thead>\n",
       "    <tr style=\"text-align: right;\">\n",
       "      <th></th>\n",
       "      <th>Unnamed: 0</th>\n",
       "      <th>Message-ID</th>\n",
       "      <th>Date</th>\n",
       "      <th>From</th>\n",
       "      <th>To</th>\n",
       "      <th>Subject</th>\n",
       "      <th>X-From</th>\n",
       "      <th>X-To</th>\n",
       "      <th>X-cc</th>\n",
       "      <th>X-Folder</th>\n",
       "      <th>X-Origin</th>\n",
       "      <th>X-FileName</th>\n",
       "      <th>content</th>\n",
       "      <th>user</th>\n",
       "      <th>labeled</th>\n",
       "    </tr>\n",
       "  </thead>\n",
       "  <tbody>\n",
       "    <tr>\n",
       "      <th>0</th>\n",
       "      <td>403470</td>\n",
       "      <td>&lt;117238.1075846810566.JavaMail.evans@thyme&gt;</td>\n",
       "      <td>2000-12-11 09:22:00</td>\n",
       "      <td>frozenset({'susan.scott@enron.com'})</td>\n",
       "      <td>frozenset({'alicia.perkins@enron.com'})</td>\n",
       "      <td>Re: Travel</td>\n",
       "      <td>Susan M Scott</td>\n",
       "      <td>Alicia Perkins</td>\n",
       "      <td>katyhester@hotmail.com</td>\n",
       "      <td>\\Susan_Scott_Dec2000_June2001_2\\Notes Folders\\...</td>\n",
       "      <td>SCOTT-S</td>\n",
       "      <td>sscott5.nsf</td>\n",
       "      <td>Hey Alicia, Katy's email address is katyhester...</td>\n",
       "      <td>scott-s</td>\n",
       "      <td>False</td>\n",
       "    </tr>\n",
       "    <tr>\n",
       "      <th>1</th>\n",
       "      <td>130904</td>\n",
       "      <td>&lt;12689165.1075853747639.JavaMail.evans@thyme&gt;</td>\n",
       "      <td>2000-03-09 10:00:00</td>\n",
       "      <td>frozenset({'scott.goodell@enron.com'})</td>\n",
       "      <td>frozenset({'chris.germany@enron.com'})</td>\n",
       "      <td>Re: k#65403</td>\n",
       "      <td>Scott Goodell</td>\n",
       "      <td>Chris Germany</td>\n",
       "      <td>NaN</td>\n",
       "      <td>\\Chris_Germany_Dec2000\\Notes Folders\\Discussio...</td>\n",
       "      <td>Germany-C</td>\n",
       "      <td>cgerman.nsf</td>\n",
       "      <td>65534 is 149349 in Sitara 65403 was 149346 as ...</td>\n",
       "      <td>germany-c</td>\n",
       "      <td>False</td>\n",
       "    </tr>\n",
       "    <tr>\n",
       "      <th>2</th>\n",
       "      <td>217372</td>\n",
       "      <td>&lt;12058190.1075856802090.JavaMail.evans@thyme&gt;</td>\n",
       "      <td>2000-02-04 18:14:00</td>\n",
       "      <td>frozenset({'vince.kaminski@enron.com'})</td>\n",
       "      <td>frozenset({'vkaminski@aol.com'})</td>\n",
       "      <td>El Paso / ENA Deal Completely Terminated Now</td>\n",
       "      <td>Vince J Kaminski</td>\n",
       "      <td>vkaminski@aol.com</td>\n",
       "      <td>NaN</td>\n",
       "      <td>\\Vincent_Kaminski_Jun2001_7\\Notes Folders\\Disc...</td>\n",
       "      <td>Kaminski-V</td>\n",
       "      <td>vkamins.nsf</td>\n",
       "      <td>---------------------- Forwarded by Vince J Ka...</td>\n",
       "      <td>kaminski-v</td>\n",
       "      <td>False</td>\n",
       "    </tr>\n",
       "    <tr>\n",
       "      <th>3</th>\n",
       "      <td>376779</td>\n",
       "      <td>&lt;1251997.1075857131869.JavaMail.evans@thyme&gt;</td>\n",
       "      <td>2000-11-01 12:34:00</td>\n",
       "      <td>frozenset({'benjamin.rogers@enron.com'})</td>\n",
       "      <td>frozenset({'patty.donahue@chase.com'})</td>\n",
       "      <td>Re: FW: winnie_t</td>\n",
       "      <td>Benjamin Rogers</td>\n",
       "      <td>\"Donahue, Patty\" &lt;Patty.Donahue@Chase.com&gt; @ E...</td>\n",
       "      <td>NaN</td>\n",
       "      <td>\\Benjamin_Rogers_Dec2000_1\\Notes Folders\\All d...</td>\n",
       "      <td>Rogers-B</td>\n",
       "      <td>brogers.nsf</td>\n",
       "      <td>What are you doing sending me this crap! I wan...</td>\n",
       "      <td>rogers-b</td>\n",
       "      <td>False</td>\n",
       "    </tr>\n",
       "    <tr>\n",
       "      <th>4</th>\n",
       "      <td>63707</td>\n",
       "      <td>&lt;23661622.1075843051592.JavaMail.evans@thyme&gt;</td>\n",
       "      <td>2000-11-29 15:43:00</td>\n",
       "      <td>frozenset({'jeff.dasovich@enron.com'})</td>\n",
       "      <td>frozenset({'joseph.alamo@enron.com'})</td>\n",
       "      <td>Re: Address Information</td>\n",
       "      <td>Jeff Dasovich</td>\n",
       "      <td>Joseph Alamo</td>\n",
       "      <td>NaN</td>\n",
       "      <td>\\Jeff_Dasovich_Dec2000\\Notes Folders\\All docum...</td>\n",
       "      <td>DASOVICH-J</td>\n",
       "      <td>jdasovic.nsf</td>\n",
       "      <td>Can you get this kind person the info? Thanks ...</td>\n",
       "      <td>dasovich-j</td>\n",
       "      <td>False</td>\n",
       "    </tr>\n",
       "  </tbody>\n",
       "</table>\n",
       "</div>"
      ],
      "text/plain": [
       "   Unnamed: 0                                     Message-ID  \\\n",
       "0      403470    <117238.1075846810566.JavaMail.evans@thyme>   \n",
       "1      130904  <12689165.1075853747639.JavaMail.evans@thyme>   \n",
       "2      217372  <12058190.1075856802090.JavaMail.evans@thyme>   \n",
       "3      376779   <1251997.1075857131869.JavaMail.evans@thyme>   \n",
       "4       63707  <23661622.1075843051592.JavaMail.evans@thyme>   \n",
       "\n",
       "                  Date                                      From  \\\n",
       "0  2000-12-11 09:22:00      frozenset({'susan.scott@enron.com'})   \n",
       "1  2000-03-09 10:00:00    frozenset({'scott.goodell@enron.com'})   \n",
       "2  2000-02-04 18:14:00   frozenset({'vince.kaminski@enron.com'})   \n",
       "3  2000-11-01 12:34:00  frozenset({'benjamin.rogers@enron.com'})   \n",
       "4  2000-11-29 15:43:00    frozenset({'jeff.dasovich@enron.com'})   \n",
       "\n",
       "                                        To  \\\n",
       "0  frozenset({'alicia.perkins@enron.com'})   \n",
       "1   frozenset({'chris.germany@enron.com'})   \n",
       "2         frozenset({'vkaminski@aol.com'})   \n",
       "3   frozenset({'patty.donahue@chase.com'})   \n",
       "4    frozenset({'joseph.alamo@enron.com'})   \n",
       "\n",
       "                                        Subject            X-From  \\\n",
       "0                                    Re: Travel     Susan M Scott   \n",
       "1                                   Re: k#65403     Scott Goodell   \n",
       "2  El Paso / ENA Deal Completely Terminated Now  Vince J Kaminski   \n",
       "3                              Re: FW: winnie_t   Benjamin Rogers   \n",
       "4                       Re: Address Information     Jeff Dasovich   \n",
       "\n",
       "                                                X-To                    X-cc  \\\n",
       "0                                     Alicia Perkins  katyhester@hotmail.com   \n",
       "1                                      Chris Germany                     NaN   \n",
       "2                                  vkaminski@aol.com                     NaN   \n",
       "3  \"Donahue, Patty\" <Patty.Donahue@Chase.com> @ E...                     NaN   \n",
       "4                                       Joseph Alamo                     NaN   \n",
       "\n",
       "                                            X-Folder    X-Origin  \\\n",
       "0  \\Susan_Scott_Dec2000_June2001_2\\Notes Folders\\...     SCOTT-S   \n",
       "1  \\Chris_Germany_Dec2000\\Notes Folders\\Discussio...   Germany-C   \n",
       "2  \\Vincent_Kaminski_Jun2001_7\\Notes Folders\\Disc...  Kaminski-V   \n",
       "3  \\Benjamin_Rogers_Dec2000_1\\Notes Folders\\All d...    Rogers-B   \n",
       "4  \\Jeff_Dasovich_Dec2000\\Notes Folders\\All docum...  DASOVICH-J   \n",
       "\n",
       "     X-FileName                                            content  \\\n",
       "0   sscott5.nsf  Hey Alicia, Katy's email address is katyhester...   \n",
       "1   cgerman.nsf  65534 is 149349 in Sitara 65403 was 149346 as ...   \n",
       "2   vkamins.nsf  ---------------------- Forwarded by Vince J Ka...   \n",
       "3   brogers.nsf  What are you doing sending me this crap! I wan...   \n",
       "4  jdasovic.nsf  Can you get this kind person the info? Thanks ...   \n",
       "\n",
       "         user  labeled  \n",
       "0     scott-s    False  \n",
       "1   germany-c    False  \n",
       "2  kaminski-v    False  \n",
       "3    rogers-b    False  \n",
       "4  dasovich-j    False  "
      ]
     },
     "execution_count": 20,
     "metadata": {},
     "output_type": "execute_result"
    }
   ],
   "source": [
    "data.head()"
   ]
  },
  {
   "cell_type": "code",
   "execution_count": 21,
   "metadata": {},
   "outputs": [
    {
     "name": "stdout",
     "output_type": "stream",
     "text": [
      "<class 'pandas.core.frame.DataFrame'>\n",
      "RangeIndex: 103480 entries, 0 to 103479\n",
      "Data columns (total 15 columns):\n",
      " #   Column      Non-Null Count   Dtype \n",
      "---  ------      --------------   ----- \n",
      " 0   Unnamed: 0  103480 non-null  int64 \n",
      " 1   Message-ID  103480 non-null  object\n",
      " 2   Date        103480 non-null  object\n",
      " 3   From        103480 non-null  object\n",
      " 4   To          99165 non-null   object\n",
      " 5   Subject     99656 non-null   object\n",
      " 6   X-From      103476 non-null  object\n",
      " 7   X-To        101679 non-null  object\n",
      " 8   X-cc        25663 non-null   object\n",
      " 9   X-Folder    103476 non-null  object\n",
      " 10  X-Origin    103476 non-null  object\n",
      " 11  X-FileName  102624 non-null  object\n",
      " 12  content     103246 non-null  object\n",
      " 13  user        103480 non-null  object\n",
      " 14  labeled     103480 non-null  bool  \n",
      "dtypes: bool(1), int64(1), object(13)\n",
      "memory usage: 11.2+ MB\n"
     ]
    }
   ],
   "source": [
    "data.info()"
   ]
  },
  {
   "cell_type": "code",
   "execution_count": 24,
   "metadata": {},
   "outputs": [
    {
     "name": "stdout",
     "output_type": "stream",
     "text": [
      "<1251997.1075857131869.JavaMail.evans@thyme>\n"
     ]
    }
   ],
   "source": [
    "print(data['Message-ID'][3])\n"
   ]
  },
  {
   "cell_type": "code",
   "execution_count": 31,
   "metadata": {},
   "outputs": [
    {
     "name": "stdout",
     "output_type": "stream",
     "text": [
      "frozenset({'benjamin.rogers@enron.com'})\n"
     ]
    }
   ],
   "source": [
    "print(data['From'][3])"
   ]
  },
  {
   "cell_type": "code",
   "execution_count": 26,
   "metadata": {},
   "outputs": [],
   "source": [
    "#Creating from_user list\n",
    "\n",
    "userList = []\n",
    "userList = data['user'].unique()"
   ]
  },
  {
   "cell_type": "code",
   "execution_count": 39,
   "metadata": {},
   "outputs": [],
   "source": [
    "#Number of emails sent by each users\n",
    "count = []\n",
    "counter = 0 \n",
    "for l in userList:\n",
    "    for user in data['user']:\n",
    "        if user == l:\n",
    "            counter += 1\n",
    "    count.append(counter)\n",
    "    counter = 0"
   ]
  },
  {
   "cell_type": "code",
   "execution_count": 28,
   "metadata": {},
   "outputs": [
    {
     "name": "stdout",
     "output_type": "stream",
     "text": [
      "[(5695, 'kaminski-v'), (5628, 'dasovich-j'), (5011, 'kean-s'), (4825, 'mann-k'), (4085, 'jones-t'), (3737, 'shackleton-s'), (2787, 'taylor-m'), (2582, 'farmer-d'), (2506, 'germany-c'), (2346, 'beck-s'), (2218, 'symes-k'), (2048, 'nemec-g'), (1640, 'scott-s'), (1604, 'rogers-b'), (1586, 'bass-e'), (1465, 'sanders-r'), (1350, 'campbell-l'), (1203, 'guzman-m'), (1198, 'lay-k'), (1194, 'lenhart-m')]\n"
     ]
    },
    {
     "data": {
      "image/png": "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\n",
      "text/plain": [
       "<Figure size 432x288 with 1 Axes>"
      ]
     },
     "metadata": {},
     "output_type": "display_data"
    }
   ],
   "source": [
    "'''a look at how many email were sent by each user. \n",
    " plotting top 20 users who sent the highest number of emails.'''\n",
    "\n",
    "new_list = sorted(list(zip(count, userList)), reverse = True)[:20]   ##merge both lists and sort top 20, \n",
    "print(new_list)\n",
    "num, mailer = zip(*new_list)  ## separate lists previously merged and use them for plotting\n",
    "mail = range(len(new_list))\n",
    "plt.bar(mail, num, align = 'center', color ='green', alpha=0.8)\n",
    "plt.xticks(mail, mailer, rotation='vertical')\n",
    "plt.show()"
   ]
  },
  {
   "cell_type": "code",
   "execution_count": null,
   "metadata": {},
   "outputs": [],
   "source": []
  }
 ],
 "metadata": {
  "kernelspec": {
   "display_name": "Python 3",
   "language": "python",
   "name": "python3"
  },
  "language_info": {
   "codemirror_mode": {
    "name": "ipython",
    "version": 3
   },
   "file_extension": ".py",
   "mimetype": "text/x-python",
   "name": "python",
   "nbconvert_exporter": "python",
   "pygments_lexer": "ipython3",
   "version": "3.8.5"
  }
 },
 "nbformat": 4,
 "nbformat_minor": 4
}
#Creating from_user list

userList = []
userList = data['user'].unique()

#Number of emails sent by each users
count = []
counter = 0 
for l in userList:
    for user in data['user']:
        if user == l:
            counter += 1
    count.append(counter)
    counter = 0

'''a look at how many email were sent by each user. 
 plotting top 20 users who sent the highest number of emails.'''

new_list = sorted(list(zip(count, userList)), reverse = True)[:20]   ##merge both lists and sort top 20, 
print(new_list)
num, mailer = zip(*new_list)  ## separate lists previously merged and use them for plotting
mail = range(len(new_list))
plt.bar(mail, num, align = 'center', color ='blue', alpha=0.8)
plt.xticks(mail, mailer, rotation='vertical')
plt.show()
