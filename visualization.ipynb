{
 "cells": [
  {
   "cell_type": "code",
   "execution_count": 126,
   "metadata": {},
   "outputs": [],
   "source": [
    "import numpy as np\n",
    "import pandas as pd\n",
    "\n",
    "import seaborn as sns\n",
    "%matplotlib inline\n",
    "\n",
    "import os, sys, email\n",
    "\n",
    "# For Plotting\n",
    "import matplotlib.pyplot as plt\n",
    "%matplotlib inline\n",
    "import seaborn as sns; sns.set_style('whitegrid')\n",
    "\n",
    "\n",
    "# For Network analysis\n",
    "import networkx as nx\n",
    "# NLP\n",
    "from nltk.tokenize.regexp import RegexpTokenizer"
   ]
  },
  {
   "cell_type": "code",
   "execution_count": 127,
   "metadata": {},
   "outputs": [
    {
     "name": "stderr",
     "output_type": "stream",
     "text": [
      "C:\\Users\\MR124419\\anaconda3\\lib\\site-packages\\IPython\\core\\interactiveshell.py:3145: DtypeWarning: Columns (0,51) have mixed types.Specify dtype option on import or set low_memory=False.\n",
      "  has_raised = await self.run_ast_nodes(code_ast.body, cell_name,\n"
     ]
    }
   ],
   "source": [
    "data = pd.read_csv('enron_email_20_percent.csv')"
   ]
  },
  {
   "cell_type": "code",
   "execution_count": 128,
   "metadata": {},
   "outputs": [
    {
     "data": {
      "text/html": [
       "<div>\n",
       "<style scoped>\n",
       "    .dataframe tbody tr th:only-of-type {\n",
       "        vertical-align: middle;\n",
       "    }\n",
       "\n",
       "    .dataframe tbody tr th {\n",
       "        vertical-align: top;\n",
       "    }\n",
       "\n",
       "    .dataframe thead th {\n",
       "        text-align: right;\n",
       "    }\n",
       "</style>\n",
       "<table border=\"1\" class=\"dataframe\">\n",
       "  <thead>\n",
       "    <tr style=\"text-align: right;\">\n",
       "      <th></th>\n",
       "      <th>Unnamed: 0</th>\n",
       "      <th>Message-ID</th>\n",
       "      <th>Date</th>\n",
       "      <th>From</th>\n",
       "      <th>To</th>\n",
       "      <th>Subject</th>\n",
       "      <th>X-From</th>\n",
       "      <th>X-To</th>\n",
       "      <th>X-cc</th>\n",
       "      <th>X-bcc</th>\n",
       "      <th>...</th>\n",
       "      <th>Cat_10_level_1</th>\n",
       "      <th>Cat_10_level_2</th>\n",
       "      <th>Cat_10_weight</th>\n",
       "      <th>Cat_11_level_1</th>\n",
       "      <th>Cat_11_level_2</th>\n",
       "      <th>Cat_11_weight</th>\n",
       "      <th>Cat_12_level_1</th>\n",
       "      <th>Cat_12_level_2</th>\n",
       "      <th>Cat_12_weight</th>\n",
       "      <th>labeled</th>\n",
       "    </tr>\n",
       "  </thead>\n",
       "  <tbody>\n",
       "    <tr>\n",
       "      <th>0</th>\n",
       "      <td>403470</td>\n",
       "      <td>&lt;117238.1075846810566.JavaMail.evans@thyme&gt;</td>\n",
       "      <td>2000-12-11 09:22:00</td>\n",
       "      <td>frozenset({'susan.scott@enron.com'})</td>\n",
       "      <td>frozenset({'alicia.perkins@enron.com'})</td>\n",
       "      <td>Re: Travel</td>\n",
       "      <td>Susan M Scott</td>\n",
       "      <td>Alicia Perkins</td>\n",
       "      <td>katyhester@hotmail.com</td>\n",
       "      <td>NaN</td>\n",
       "      <td>...</td>\n",
       "      <td>NaN</td>\n",
       "      <td>NaN</td>\n",
       "      <td>NaN</td>\n",
       "      <td>NaN</td>\n",
       "      <td>NaN</td>\n",
       "      <td>NaN</td>\n",
       "      <td>NaN</td>\n",
       "      <td>NaN</td>\n",
       "      <td>NaN</td>\n",
       "      <td>False</td>\n",
       "    </tr>\n",
       "    <tr>\n",
       "      <th>1</th>\n",
       "      <td>130904</td>\n",
       "      <td>&lt;12689165.1075853747639.JavaMail.evans@thyme&gt;</td>\n",
       "      <td>2000-03-09 10:00:00</td>\n",
       "      <td>frozenset({'scott.goodell@enron.com'})</td>\n",
       "      <td>frozenset({'chris.germany@enron.com'})</td>\n",
       "      <td>Re: k#65403</td>\n",
       "      <td>Scott Goodell</td>\n",
       "      <td>Chris Germany</td>\n",
       "      <td>NaN</td>\n",
       "      <td>NaN</td>\n",
       "      <td>...</td>\n",
       "      <td>NaN</td>\n",
       "      <td>NaN</td>\n",
       "      <td>NaN</td>\n",
       "      <td>NaN</td>\n",
       "      <td>NaN</td>\n",
       "      <td>NaN</td>\n",
       "      <td>NaN</td>\n",
       "      <td>NaN</td>\n",
       "      <td>NaN</td>\n",
       "      <td>False</td>\n",
       "    </tr>\n",
       "    <tr>\n",
       "      <th>2</th>\n",
       "      <td>217372</td>\n",
       "      <td>&lt;12058190.1075856802090.JavaMail.evans@thyme&gt;</td>\n",
       "      <td>2000-02-04 18:14:00</td>\n",
       "      <td>frozenset({'vince.kaminski@enron.com'})</td>\n",
       "      <td>frozenset({'vkaminski@aol.com'})</td>\n",
       "      <td>El Paso / ENA Deal Completely Terminated Now</td>\n",
       "      <td>Vince J Kaminski</td>\n",
       "      <td>vkaminski@aol.com</td>\n",
       "      <td>NaN</td>\n",
       "      <td>NaN</td>\n",
       "      <td>...</td>\n",
       "      <td>NaN</td>\n",
       "      <td>NaN</td>\n",
       "      <td>NaN</td>\n",
       "      <td>NaN</td>\n",
       "      <td>NaN</td>\n",
       "      <td>NaN</td>\n",
       "      <td>NaN</td>\n",
       "      <td>NaN</td>\n",
       "      <td>NaN</td>\n",
       "      <td>False</td>\n",
       "    </tr>\n",
       "    <tr>\n",
       "      <th>3</th>\n",
       "      <td>376779</td>\n",
       "      <td>&lt;1251997.1075857131869.JavaMail.evans@thyme&gt;</td>\n",
       "      <td>2000-11-01 12:34:00</td>\n",
       "      <td>frozenset({'benjamin.rogers@enron.com'})</td>\n",
       "      <td>frozenset({'patty.donahue@chase.com'})</td>\n",
       "      <td>Re: FW: winnie_t</td>\n",
       "      <td>Benjamin Rogers</td>\n",
       "      <td>\"Donahue, Patty\" &lt;Patty.Donahue@Chase.com&gt; @ E...</td>\n",
       "      <td>NaN</td>\n",
       "      <td>NaN</td>\n",
       "      <td>...</td>\n",
       "      <td>NaN</td>\n",
       "      <td>NaN</td>\n",
       "      <td>NaN</td>\n",
       "      <td>NaN</td>\n",
       "      <td>NaN</td>\n",
       "      <td>NaN</td>\n",
       "      <td>NaN</td>\n",
       "      <td>NaN</td>\n",
       "      <td>NaN</td>\n",
       "      <td>False</td>\n",
       "    </tr>\n",
       "    <tr>\n",
       "      <th>4</th>\n",
       "      <td>63707</td>\n",
       "      <td>&lt;23661622.1075843051592.JavaMail.evans@thyme&gt;</td>\n",
       "      <td>2000-11-29 15:43:00</td>\n",
       "      <td>frozenset({'jeff.dasovich@enron.com'})</td>\n",
       "      <td>frozenset({'joseph.alamo@enron.com'})</td>\n",
       "      <td>Re: Address Information</td>\n",
       "      <td>Jeff Dasovich</td>\n",
       "      <td>Joseph Alamo</td>\n",
       "      <td>NaN</td>\n",
       "      <td>NaN</td>\n",
       "      <td>...</td>\n",
       "      <td>NaN</td>\n",
       "      <td>NaN</td>\n",
       "      <td>NaN</td>\n",
       "      <td>NaN</td>\n",
       "      <td>NaN</td>\n",
       "      <td>NaN</td>\n",
       "      <td>NaN</td>\n",
       "      <td>NaN</td>\n",
       "      <td>NaN</td>\n",
       "      <td>False</td>\n",
       "    </tr>\n",
       "  </tbody>\n",
       "</table>\n",
       "<p>5 rows × 52 columns</p>\n",
       "</div>"
      ],
      "text/plain": [
       "  Unnamed: 0                                     Message-ID  \\\n",
       "0     403470    <117238.1075846810566.JavaMail.evans@thyme>   \n",
       "1     130904  <12689165.1075853747639.JavaMail.evans@thyme>   \n",
       "2     217372  <12058190.1075856802090.JavaMail.evans@thyme>   \n",
       "3     376779   <1251997.1075857131869.JavaMail.evans@thyme>   \n",
       "4      63707  <23661622.1075843051592.JavaMail.evans@thyme>   \n",
       "\n",
       "                  Date                                      From  \\\n",
       "0  2000-12-11 09:22:00      frozenset({'susan.scott@enron.com'})   \n",
       "1  2000-03-09 10:00:00    frozenset({'scott.goodell@enron.com'})   \n",
       "2  2000-02-04 18:14:00   frozenset({'vince.kaminski@enron.com'})   \n",
       "3  2000-11-01 12:34:00  frozenset({'benjamin.rogers@enron.com'})   \n",
       "4  2000-11-29 15:43:00    frozenset({'jeff.dasovich@enron.com'})   \n",
       "\n",
       "                                        To  \\\n",
       "0  frozenset({'alicia.perkins@enron.com'})   \n",
       "1   frozenset({'chris.germany@enron.com'})   \n",
       "2         frozenset({'vkaminski@aol.com'})   \n",
       "3   frozenset({'patty.donahue@chase.com'})   \n",
       "4    frozenset({'joseph.alamo@enron.com'})   \n",
       "\n",
       "                                        Subject            X-From  \\\n",
       "0                                    Re: Travel     Susan M Scott   \n",
       "1                                   Re: k#65403     Scott Goodell   \n",
       "2  El Paso / ENA Deal Completely Terminated Now  Vince J Kaminski   \n",
       "3                              Re: FW: winnie_t   Benjamin Rogers   \n",
       "4                       Re: Address Information     Jeff Dasovich   \n",
       "\n",
       "                                                X-To                    X-cc  \\\n",
       "0                                     Alicia Perkins  katyhester@hotmail.com   \n",
       "1                                      Chris Germany                     NaN   \n",
       "2                                  vkaminski@aol.com                     NaN   \n",
       "3  \"Donahue, Patty\" <Patty.Donahue@Chase.com> @ E...                     NaN   \n",
       "4                                       Joseph Alamo                     NaN   \n",
       "\n",
       "  X-bcc  ... Cat_10_level_1 Cat_10_level_2 Cat_10_weight Cat_11_level_1  \\\n",
       "0   NaN  ...            NaN            NaN           NaN            NaN   \n",
       "1   NaN  ...            NaN            NaN           NaN            NaN   \n",
       "2   NaN  ...            NaN            NaN           NaN            NaN   \n",
       "3   NaN  ...            NaN            NaN           NaN            NaN   \n",
       "4   NaN  ...            NaN            NaN           NaN            NaN   \n",
       "\n",
       "  Cat_11_level_2  Cat_11_weight  Cat_12_level_1  Cat_12_level_2  \\\n",
       "0            NaN            NaN             NaN             NaN   \n",
       "1            NaN            NaN             NaN             NaN   \n",
       "2            NaN            NaN             NaN             NaN   \n",
       "3            NaN            NaN             NaN             NaN   \n",
       "4            NaN            NaN             NaN             NaN   \n",
       "\n",
       "   Cat_12_weight  labeled  \n",
       "0            NaN    False  \n",
       "1            NaN    False  \n",
       "2            NaN    False  \n",
       "3            NaN    False  \n",
       "4            NaN    False  \n",
       "\n",
       "[5 rows x 52 columns]"
      ]
     },
     "execution_count": 128,
     "metadata": {},
     "output_type": "execute_result"
    }
   ],
   "source": [
    "data.head()\n"
   ]
  },
  {
   "cell_type": "code",
   "execution_count": 129,
   "metadata": {},
   "outputs": [
    {
     "name": "stdout",
     "output_type": "stream",
     "text": [
      "<class 'pandas.core.frame.DataFrame'>\n",
      "RangeIndex: 103482 entries, 0 to 103481\n",
      "Data columns (total 52 columns):\n",
      " #   Column          Non-Null Count   Dtype  \n",
      "---  ------          --------------   -----  \n",
      " 0   Unnamed: 0      103482 non-null  object \n",
      " 1   Message-ID      103482 non-null  object \n",
      " 2   Date            103482 non-null  object \n",
      " 3   From            103482 non-null  object \n",
      " 4   To              99165 non-null   object \n",
      " 5   Subject         99656 non-null   object \n",
      " 6   X-From          103476 non-null  object \n",
      " 7   X-To            101679 non-null  object \n",
      " 8   X-cc            25663 non-null   object \n",
      " 9   X-bcc           39 non-null      object \n",
      " 10  X-Folder        103476 non-null  object \n",
      " 11  X-Origin        103476 non-null  object \n",
      " 12  X-FileName      102624 non-null  object \n",
      " 13  content         103246 non-null  object \n",
      " 14  user            103480 non-null  object \n",
      " 15  Cat_1_level_1   327 non-null     float64\n",
      " 16  Cat_1_level_2   327 non-null     float64\n",
      " 17  Cat_1_weight    327 non-null     float64\n",
      " 18  Cat_2_level_1   289 non-null     float64\n",
      " 19  Cat_2_level_2   289 non-null     float64\n",
      " 20  Cat_2_weight    289 non-null     float64\n",
      " 21  Cat_3_level_1   232 non-null     float64\n",
      " 22  Cat_3_level_2   232 non-null     float64\n",
      " 23  Cat_3_weight    232 non-null     float64\n",
      " 24  Cat_4_level_1   146 non-null     float64\n",
      " 25  Cat_4_level_2   146 non-null     float64\n",
      " 26  Cat_4_weight    146 non-null     float64\n",
      " 27  Cat_5_level_1   77 non-null      float64\n",
      " 28  Cat_5_level_2   77 non-null      float64\n",
      " 29  Cat_5_weight    77 non-null      float64\n",
      " 30  Cat_6_level_1   30 non-null      float64\n",
      " 31  Cat_6_level_2   30 non-null      float64\n",
      " 32  Cat_6_weight    30 non-null      float64\n",
      " 33  Cat_7_level_1   10 non-null      float64\n",
      " 34  Cat_7_level_2   10 non-null      float64\n",
      " 35  Cat_7_weight    10 non-null      float64\n",
      " 36  Cat_8_level_1   2 non-null       float64\n",
      " 37  Cat_8_level_2   2 non-null       float64\n",
      " 38  Cat_8_weight    2 non-null       float64\n",
      " 39  Cat_9_level_1   1 non-null       float64\n",
      " 40  Cat_9_level_2   1 non-null       float64\n",
      " 41  Cat_9_weight    1 non-null       float64\n",
      " 42  Cat_10_level_1  0 non-null       float64\n",
      " 43  Cat_10_level_2  0 non-null       float64\n",
      " 44  Cat_10_weight   0 non-null       float64\n",
      " 45  Cat_11_level_1  0 non-null       float64\n",
      " 46  Cat_11_level_2  0 non-null       float64\n",
      " 47  Cat_11_weight   0 non-null       float64\n",
      " 48  Cat_12_level_1  0 non-null       float64\n",
      " 49  Cat_12_level_2  0 non-null       float64\n",
      " 50  Cat_12_weight   0 non-null       float64\n",
      " 51  labeled         103480 non-null  object \n",
      "dtypes: float64(36), object(16)\n",
      "memory usage: 41.1+ MB\n"
     ]
    }
   ],
   "source": []
  },
  {
   "cell_type": "code",
   "execution_count": 130,
   "metadata": {},
   "outputs": [],
   "source": [
    "data.drop(['Cat_1_level_1','Cat_2_level_1','Cat_3_level_1','Cat_4_level_1','Cat_5_level_1','Cat_6_level_1','Cat_7_level_1','Cat_8_level_1','Cat_9_level_1','Cat_10_level_1','Cat_11_level_1','Cat_12_level_1'], axis = 1 , inplace=True)"
   ]
  },
  {
   "cell_type": "code",
   "execution_count": 131,
   "metadata": {},
   "outputs": [],
   "source": [
    "data.drop(['Cat_1_weight','Cat_2_weight','Cat_3_weight','Cat_4_weight','Cat_5_weight','Cat_6_weight','Cat_7_weight','Cat_8_weight','Cat_9_weight','Cat_10_weight','Cat_11_weight','Cat_12_weight'],axis=1,inplace=True)"
   ]
  },
  {
   "cell_type": "code",
   "execution_count": 132,
   "metadata": {},
   "outputs": [],
   "source": [
    "data.drop(['Cat_2_level_2','Cat_4_level_2','Cat_6_level_2','Cat_8_level_2','Cat_10_level_2','Cat_12_level_2'],axis=1,inplace=True)"
   ]
  },
  {
   "cell_type": "code",
   "execution_count": 133,
   "metadata": {},
   "outputs": [],
   "source": [
    "data.drop(['Cat_1_level_2','Cat_3_level_2','Cat_5_level_2','Cat_7_level_2','Cat_9_level_2','Cat_11_level_2'],axis=1,inplace=True)"
   ]
  },
  {
   "cell_type": "code",
   "execution_count": 134,
   "metadata": {},
   "outputs": [
    {
     "data": {
      "text/plain": [
       "<AxesSubplot:>"
      ]
     },
     "execution_count": 134,
     "metadata": {},
     "output_type": "execute_result"
    },
    {
     "data": {
      "image/png": "[encoded data removed]",
      "text/plain": [
       "<Figure size 432x288 with 2 Axes>"
      ]
     },
     "metadata": {},
     "output_type": "display_data"
    }
   ],
   "source": [
    "sns.heatmap(data.isnull(),yticklabels=False)"
   ]
  },
  {
   "cell_type": "code",
   "execution_count": 135,
   "metadata": {},
   "outputs": [
    {
     "name": "stdout",
     "output_type": "stream",
     "text": [
      "<class 'pandas.core.frame.DataFrame'>\n",
      "RangeIndex: 103482 entries, 0 to 103481\n",
      "Data columns (total 16 columns):\n",
      " #   Column      Non-Null Count   Dtype \n",
      "---  ------      --------------   ----- \n",
      " 0   Unnamed: 0  103482 non-null  object\n",
      " 1   Message-ID  103482 non-null  object\n",
      " 2   Date        103482 non-null  object\n",
      " 3   From        103482 non-null  object\n",
      " 4   To          99165 non-null   object\n",
      " 5   Subject     99656 non-null   object\n",
      " 6   X-From      103476 non-null  object\n",
      " 7   X-To        101679 non-null  object\n",
      " 8   X-cc        25663 non-null   object\n",
      " 9   X-bcc       39 non-null      object\n",
      " 10  X-Folder    103476 non-null  object\n",
      " 11  X-Origin    103476 non-null  object\n",
      " 12  X-FileName  102624 non-null  object\n",
      " 13  content     103246 non-null  object\n",
      " 14  user        103480 non-null  object\n",
      " 15  labeled     103480 non-null  object\n",
      "dtypes: object(16)\n",
      "memory usage: 12.6+ MB\n"
     ]
    }
   ],
   "source": [
    "data.info()"
   ]
  },
  {
   "cell_type": "code",
   "execution_count": 136,
   "metadata": {},
   "outputs": [],
   "source": [
    "#Creating from_user list\n",
    "\n",
    "userList = []\n",
    "userList = data['user'].unique()"
   ]
  },
  {
   "cell_type": "code",
   "execution_count": 137,
   "metadata": {},
   "outputs": [],
   "source": [
    "#Number of emails sent by each users\n",
    "count = []\n",
    "counter = 0 \n",
    "for l in userList:\n",
    "    for user in data['user']:\n",
    "        if user == l:\n",
    "            counter += 1\n",
    "    count.append(counter)\n",
    "    counter = 0"
   ]
  },
  {
   "cell_type": "code",
   "execution_count": 138,
   "metadata": {},
   "outputs": [
    {
     "name": "stdout",
     "output_type": "stream",
     "text": [
      "[(5695, 'kaminski-v'), (5628, 'dasovich-j'), (5011, 'kean-s'), (4825, 'mann-k'), (4085, 'jones-t'), (3737, 'shackleton-s'), (2787, 'taylor-m'), (2582, 'farmer-d'), (2506, 'germany-c'), (2346, 'beck-s'), (2218, 'symes-k'), (2048, 'nemec-g'), (1640, 'scott-s'), (1604, 'rogers-b'), (1586, 'bass-e'), (1465, 'sanders-r'), (1350, 'campbell-l'), (1203, 'guzman-m'), (1198, 'lay-k'), (1194, 'lenhart-m')]\n"
     ]
    },
    {
     "data": {
      "image/png": "[encoded data removed]",
      "text/plain": [
       "<Figure size 432x288 with 1 Axes>"
      ]
     },
     "metadata": {},
     "output_type": "display_data"
    }
   ],
   "source": [
    "'''a look at how many email were sent by each user. \n",
    " plotting top 20 users who sent the highest number of emails.'''\n",
    "\n",
    "new_list = sorted(list(zip(count, userList)), reverse = True)[:20]   ##merge both lists and sort top 20, \n",
    "print(new_list)\n",
    "num, mailer = zip(*new_list)  ## separate lists previously merged and use them for plotting\n",
    "mail = range(len(new_list))\n",
    "plt.bar(mail, num, align = 'center', color ='blue', alpha=0.8)\n",
    "plt.xticks(mail, mailer, rotation='vertical')\n",
    "plt.show()"
   ]
  },
  {
   "cell_type": "code",
   "execution_count": 139,
   "metadata": {},
   "outputs": [
    {
     "name": "stdout",
     "output_type": "stream",
     "text": [
      "shape of the dataframe: (103482, 16)\n",
      "Unnamed: 0 103481\n",
      "Message-ID 103481\n",
      "Date 78689\n",
      "From 10335\n",
      "To 25514\n",
      "Subject 63420\n",
      "X-From 13296\n",
      "X-To 31930\n",
      "X-cc 13677\n",
      "X-bcc 37\n",
      "X-Folder 3840\n",
      "X-Origin 257\n",
      "X-FileName 421\n",
      "content 83164\n",
      "user 150\n",
      "labeled 2\n"
     ]
    }
   ],
   "source": [
    "print('shape of the dataframe:', data.shape)\n",
    "# Find number of unique values in each columns\n",
    "for col in data.columns:\n",
    "    print(col, data[col].nunique())"
   ]
  },
  {
   "cell_type": "code",
   "execution_count": 141,
   "metadata": {},
   "outputs": [],
   "source": [
    "#data['Date'] = pd.to_datetime(data['Date'], errors='coerce')\n",
    "#data['Date'] = data['Date'].dt.strftime('%m/%d')\n",
    "\n",
    "#data['Date'] = pd.to_datetime(data['Date'])\n",
    "\n",
    "data['Date'] = pd.to_datetime(data['Date'], errors='coerce')\n"
   ]
  },
  {
   "cell_type": "code",
   "execution_count": 142,
   "metadata": {},
   "outputs": [
    {
     "data": {
      "text/plain": [
       "Text(0, 0.5, 'N emails')"
      ]
     },
     "execution_count": 142,
     "metadata": {},
     "output_type": "execute_result"
    },
    {
     "data": {
      "image/png": "[encoded data removed]",
      "text/plain": [
       "<Figure size 432x288 with 1 Axes>"
      ]
     },
     "metadata": {},
     "output_type": "display_data"
    }
   ],
   "source": [
    "#When do people send emails?\n",
    "\"\"\"ax = data.groupby(data['Date'].dt.year)['content'].count().plot()\n",
    "ax.set_xlabel('Year', fontsize=18)\n",
    "ax.set_ylabel('No of emails', fontsize=18)\n",
    "\"\"\"\n",
    "\n",
    "\n",
    "ax = data.groupby(data['Date'].dt.year)['content'].count().plot()\n",
    "ax.set_xlabel('Year', fontsize=18)\n",
    "ax.set_ylabel('N emails', fontsize=18)"
   ]
  },
  {
   "cell_type": "code",
   "execution_count": 143,
   "metadata": {},
   "outputs": [
    {
     "data": {
      "text/plain": [
       "Text(0, 0.5, 'No of mails')"
      ]
     },
     "execution_count": 143,
     "metadata": {},
     "output_type": "execute_result"
    },
    {
     "data": {
      "image/png": "[encoded data removed]",
      "text/plain": [
       "<Figure size 432x288 with 1 Axes>"
      ]
     },
     "metadata": {},
     "output_type": "display_data"
    }
   ],
   "source": [
    "ax = data.groupby(data['Date'].dt.dayofweek)['content'].count().plot()\n",
    "ax.set_xlabel('Day of week', fontsize=18)\n",
    "ax.set_ylabel('No of mails', fontsize=18)"
   ]
  },
  {
   "cell_type": "code",
   "execution_count": 144,
   "metadata": {},
   "outputs": [
    {
     "data": {
      "text/plain": [
       "Text(0, 0.5, 'No of emails')"
      ]
     },
     "execution_count": 144,
     "metadata": {},
     "output_type": "execute_result"
    },
    {
     "data": {
      "image/png": "[encoded data removed]",
      "text/plain": [
       "<Figure size 432x288 with 1 Axes>"
      ]
     },
     "metadata": {},
     "output_type": "display_data"
    }
   ],
   "source": [
    "ax = data.groupby(data['Date'].dt.hour)['content'].count().plot()\n",
    "ax.set_xlabel('Hour', fontsize=18)\n",
    "ax.set_ylabel('No of emails', fontsize=18)"
   ]
  }
 ],
 "metadata": {
  "kernelspec": {
   "display_name": "Python 3",
   "language": "python",
   "name": "python3"
  },
  "language_info": {
   "codemirror_mode": {
    "name": "ipython",
    "version": 3
   },
   "file_extension": ".py",
   "mimetype": "text/x-python",
   "name": "python",
   "nbconvert_exporter": "python",
   "pygments_lexer": "ipython3",
   "version": "3.8.5"
  }
 },
 "nbformat": 4,
 "nbformat_minor": 4
}
